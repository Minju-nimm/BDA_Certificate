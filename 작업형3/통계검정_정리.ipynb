{
 "cells": [
  {
   "attachments": {},
   "cell_type": "markdown",
   "metadata": {},
   "source": [
    "# `scipy.stats` 통계 검정 라이브러리 정리\n",
    "- 검정 결과마다 통계량이나 p-value 출력되는 순서나 형태 다를 수 있으므로, 헷갈리면 함수만 먼저 실행해보자\n",
    "- 각각 값들을 반올림해서 출력할 경우도 있으므로, 함수만 실행 후 결과보고 객체 할당해주자"
   ]
  },
  {
   "attachments": {},
   "cell_type": "markdown",
   "metadata": {},
   "source": [
    "```python\n",
    "# p-value 소수점 자리 반올림 : `format()`\n",
    "print(format(p, '.6f'))\n",
    "```"
   ]
  },
  {
   "attachments": {},
   "cell_type": "markdown",
   "metadata": {},
   "source": [
    "## 1. 일표본"
   ]
  },
  {
   "attachments": {},
   "cell_type": "markdown",
   "metadata": {},
   "source": [
    "### 단일표본(일표본) z검정\n",
    "- 따로 라이브러리가 없어서 직접 함수 구현\n",
    "\n",
    "참고 : 누구나 파이썬 통계분석"
   ]
  },
  {
   "cell_type": "code",
   "execution_count": null,
   "metadata": {},
   "outputs": [],
   "source": [
    "# data : 샘플 데이터\n",
    "# mu_mean : 모평균\n",
    "# p_var : 알려진 모분산\n",
    "\n",
    "import scipy.stats\n",
    "\n",
    "def z_test(data, mu_mean, p_var, alpha=0.05) :\n",
    "    s_mean = np.mean(data)\n",
    "    n = len(data)\n",
    "    rv = stats.norm()\n",
    "    interval = rv.interval(1-alpha)\n",
    "    \n",
    "    z = (s_mean - mu_mean) / np.sqrt(p_var/n)\n",
    "    \n",
    "    if interval[0] <= z <= interval[1] :\n",
    "        print(\"귀무가설 채택\")\n",
    "    else : \n",
    "        print(\"귀무가설 기각\")\n",
    "        \n",
    "    if z < 0 :\n",
    "        p = rv.cdf(z) * 2\n",
    "    else :\n",
    "        p = (1 - rv.cdf(z)) * 2\n",
    "    print(f \"p값은 {p : .3f}\") "
   ]
  },
  {
   "cell_type": "code",
   "execution_count": null,
   "metadata": {},
   "outputs": [],
   "source": [
    "z_test(data, 130, 9) # 예시"
   ]
  },
  {
   "attachments": {},
   "cell_type": "markdown",
   "metadata": {},
   "source": [
    "### 단일표본(일표본) t검정 : `ttest_1samp()`"
   ]
  },
  {
   "cell_type": "code",
   "execution_count": null,
   "metadata": {},
   "outputs": [],
   "source": [
    "from scipy.stats import ttest_1samp\n",
    "s, p = ttest_1samp(data, 주장하는 모수)"
   ]
  },
  {
   "attachments": {},
   "cell_type": "markdown",
   "metadata": {},
   "source": [
    "### 일표본 윌콕슨 부호순위검정 : `wilcoxon()`\n",
    "- 단일표본 t검정에 대응하는 비모수 검정법"
   ]
  },
  {
   "cell_type": "code",
   "execution_count": null,
   "metadata": {},
   "outputs": [],
   "source": [
    "from scipy.stats import wilcoxon\n",
    "s, p = wilcoxon(data-주장하는 모수) # 이렇게 빼줘야함"
   ]
  },
  {
   "attachments": {},
   "cell_type": "markdown",
   "metadata": {},
   "source": [
    "---"
   ]
  },
  {
   "attachments": {},
   "cell_type": "markdown",
   "metadata": {},
   "source": [
    "## 2. 이표본"
   ]
  },
  {
   "attachments": {},
   "cell_type": "markdown",
   "metadata": {},
   "source": [
    "### 정규성 검정 : `shapiro()`\n",
    "- 모수 검정, 비모수 검정을 결정하기 위한 방법"
   ]
  },
  {
   "attachments": {},
   "cell_type": "markdown",
   "metadata": {},
   "source": [
    "#### 정규성 검정의 가설\n",
    "- 귀무가설 : 데이터가 정규성을 따른다. (정규성 만족)\n",
    "    - 표본의 모집단이 정규분포와 차이가 없다.\n",
    "- 대립가설 : 데이터가 정규성을 따르지 않는다. (정규성 불만족)\n",
    "    - 표본의 모집단이 정규분포와 차이가 있다."
   ]
  },
  {
   "cell_type": "code",
   "execution_count": null,
   "metadata": {},
   "outputs": [],
   "source": [
    "from scipy.stats import shapiro\n",
    "s, p = shapiro(data1) # 각 데이터에 대해 실행"
   ]
  },
  {
   "attachments": {},
   "cell_type": "markdown",
   "metadata": {},
   "source": [
    "### 정규성을 만족 X, 등분산성 검정 : `levene()`\n",
    "#### 등분산 검정의 가설\n",
    "- 귀무가설 : 모든 그룹들의 분산은 동일하다.\n",
    "- 대립가설 : 그룹들 중 적어도 한 그룹의 모분산이 동일하지 않다."
   ]
  },
  {
   "cell_type": "code",
   "execution_count": null,
   "metadata": {},
   "outputs": [],
   "source": [
    "from scipy.stats import levene\n",
    "levene(data1, data2)"
   ]
  },
  {
   "attachments": {},
   "cell_type": "markdown",
   "metadata": {},
   "source": [
    "### 정규성을 만족 O, 등분산성 검정 : `bartlett()`"
   ]
  },
  {
   "cell_type": "code",
   "execution_count": null,
   "metadata": {},
   "outputs": [],
   "source": [
    "from scipy.stats import bartlett\n",
    "s, p = bartlett(data1, data2)"
   ]
  },
  {
   "attachments": {},
   "cell_type": "markdown",
   "metadata": {},
   "source": [
    "### Levene vs. Bartlett (△)\n",
    "- Levene 검정은 그룹 내 오차의 분포를 정규분포 형태로 가정하지 않는다. \n",
    "    - 따라서, 정규성을 따르지 않는 데이터에 대해서도 상대적으로 강건한 검정 방법이다.\n",
    "- Bartlett 검정은 그룹 내 오차의 분포를 정규분포로 가정한다.\n",
    "    - 따라서, 정규성 가정을 만족하는 경우에 적용할 수 있다.\n",
    "    - 그룹 간 분산의 비교에 있어 두 개 이상의 그룹에 대해서 적용할 수 있지만, 그룹 간 샘플 크기가 동일한 경우에 적합하다."
   ]
  },
  {
   "attachments": {},
   "cell_type": "markdown",
   "metadata": {},
   "source": [
    "### 독립표본 t검정 : `ttest_ind()`\n",
    "- 독립표본 t검정의 가정 : 정규성, 등분산성\n",
    "\n",
    "-> 정규성 검정, 등분산성 검정은 독립표본 t검정에 필요한 검정들\n",
    "\n",
    "#### 등분산성을 만족하지 않는 독립표본 t 검정? `equal_var = False` 옵션 추가 !"
   ]
  },
  {
   "cell_type": "code",
   "execution_count": null,
   "metadata": {},
   "outputs": [],
   "source": [
    "from scipy.stats import ttest_ind\n",
    "ttest_ind(data1, data2)"
   ]
  },
  {
   "attachments": {},
   "cell_type": "markdown",
   "metadata": {},
   "source": [
    "### 대응표본 t검정 : `ttest_rel()`\n",
    "- 단측검정 시, 대립가설 방향 & 입력하는 변수 순서 주의"
   ]
  },
  {
   "cell_type": "code",
   "execution_count": null,
   "metadata": {},
   "outputs": [],
   "source": [
    "from scipy.stats import ttest_rel\n",
    "\n",
    "s, p = ttest_rel(df[\"후 데이터\"], \n",
    "                 df[\"전 데이터\"], \n",
    "                 alternative = \"less\") # 대립가설이 0보다 작다면 : less (후-전<0, 후<전)"
   ]
  },
  {
   "attachments": {},
   "cell_type": "markdown",
   "metadata": {},
   "source": [
    "---"
   ]
  },
  {
   "attachments": {},
   "cell_type": "markdown",
   "metadata": {},
   "source": [
    "## 3. 세 표본 이상"
   ]
  },
  {
   "attachments": {},
   "cell_type": "markdown",
   "metadata": {},
   "source": [
    "### 일원분산분석 : `f_oneway()`"
   ]
  },
  {
   "cell_type": "code",
   "execution_count": null,
   "metadata": {},
   "outputs": [],
   "source": [
    "from scipy.stats import f_oneway\n",
    "s, p = f_oneway(data1, data2, data3)"
   ]
  },
  {
   "attachments": {},
   "cell_type": "markdown",
   "metadata": {},
   "source": [
    "---"
   ]
  },
  {
   "attachments": {},
   "cell_type": "markdown",
   "metadata": {},
   "source": [
    "## 4. 범주형 변수 : 카이제곱검정"
   ]
  },
  {
   "attachments": {},
   "cell_type": "markdown",
   "metadata": {},
   "source": [
    "### 적합성 검정 (Goodness of fit test) : `chisquare()`\n",
    "- 다항 모집단 비율의 차이\n",
    "- 표본의 빈도를 이용하여 모집단의 가정된 빈도나 가정된 비율을 만족하는지를 확인하는 것\n",
    "- 관찰빈도와 기대빈도의 차이를 이용한 검정\n",
    "    - 관찰빈도는 `value_counts()` 관련"
   ]
  },
  {
   "attachments": {},
   "cell_type": "markdown",
   "metadata": {},
   "source": [
    "#### 적합성 검정의 가설\n",
    "- 귀무가설 : ~의 비율이 2:1:1 '이다.'\n",
    "    - ex) 실험에서 A,B,C 그룹간의 인원 수 비율은 2:1:1이다.\n",
    "- 대립가설 :  ~의 비율이 2:1:1 '이 아니다.'\n",
    "    - ex) 실험에서 A,B,C 그룹간의 인원 수 비율은 2:1:1이 아니다."
   ]
  },
  {
   "cell_type": "code",
   "execution_count": null,
   "metadata": {},
   "outputs": [],
   "source": [
    "from scipy.stats import chisquare\n",
    "\n",
    "chisquare(df[\"observed\"], df[\"expected\"])"
   ]
  },
  {
   "attachments": {},
   "cell_type": "markdown",
   "metadata": {},
   "source": [
    "### 독립성 검정 : `chi2_contingency()`"
   ]
  },
  {
   "attachments": {},
   "cell_type": "markdown",
   "metadata": {},
   "source": [
    "#### 독립성 검정의 가설\n",
    "- 귀무가설 : 두 변수는 독립이다. (연관이 없다.)\n",
    "- 대립가설 : 두 변수는 독립이 아니다. (연관이 있다.) "
   ]
  },
  {
   "cell_type": "code",
   "execution_count": null,
   "metadata": {},
   "outputs": [],
   "source": [
    "from scipy.stats import chi2_contingency\n",
    "\n",
    "# 교차표 생성\n",
    "table = pd.crosstab(df[\"칼럼1\"], df[\"칼럼2\"])\n",
    "\n",
    "# 카이제곱 독립성 검정\n",
    "s, p, dof, expected = chi2_contingency(table)"
   ]
  },
  {
   "attachments": {},
   "cell_type": "markdown",
   "metadata": {},
   "source": [
    "#### 특정 기대도수를 구할 때 ? : `expected[찾는행-1, 찾는열-1]`\n",
    "- 파이썬은 0부터 시작하므로\n",
    "- 예를 들어, 교차표 3행 2열에 대응하는 기대도수를 찾으려면 `expected[2,1]` 이렇게 찾아야함"
   ]
  },
  {
   "attachments": {},
   "cell_type": "markdown",
   "metadata": {},
   "source": [
    "### 피셔의 정확검정 : `fisher_exact()`\n",
    "- 데이터셋의 크기가 작고, 기대되는 빈도가 작을 때 피셔의 정확검정을 사용\n",
    "- 비모수적인 방법으로서, 적은 샘플 크기에서도 정확한 결과를 제공\n",
    "- 빈도수가 5개 이하 셀의 수가 전체 셀의 20%이상일 경우 사용"
   ]
  },
  {
   "attachments": {},
   "cell_type": "markdown",
   "metadata": {},
   "source": [
    "#### Example\n",
    "- 귀무가설 : A와 B의 실력은 차이가 없다.\n",
    "- 대립가설 : A의 실력이 더 좋다."
   ]
  },
  {
   "cell_type": "code",
   "execution_count": 1,
   "metadata": {},
   "outputs": [
    {
     "name": "stdout",
     "output_type": "stream",
     "text": [
      "   승  패\n",
      "A  8  3\n",
      "B  4  5\n",
      "\n",
      "검정통계량 :  3.333\n",
      "p-value :  0.205\n"
     ]
    }
   ],
   "source": [
    "import pandas as pd\n",
    "from scipy.stats import fisher_exact\n",
    "\n",
    "table = pd.DataFrame([[8, 3], [4, 5]], index = [\"A\", \"B\"], columns=[\"승\", \"패\"])\n",
    "print(table)\n",
    "\n",
    "s, p = fisher_exact(table, alternative=\"greater\")\n",
    "\n",
    "print()\n",
    "print(\"검정통계량 : \", round(s, 3))\n",
    "print(\"p-value : \", format(p, '.3f'))"
   ]
  },
  {
   "attachments": {},
   "cell_type": "markdown",
   "metadata": {},
   "source": [
    "---"
   ]
  },
  {
   "attachments": {},
   "cell_type": "markdown",
   "metadata": {},
   "source": [
    "## 5. 피어슨 상관계수 검정 : `pearsonr()`"
   ]
  },
  {
   "attachments": {},
   "cell_type": "markdown",
   "metadata": {},
   "source": [
    "### 상관계수 검정의 가설\n",
    "$\\rho$ : 두 변수의 모상관계수\n",
    "- 귀무가설 : 두 변수 간 상관계수가 0이다. ($H_0 : \\rho = 0$)\n",
    "- 대립가설 : 두 변수 간 상관관수가 0이 아니다. ($H_0 : \\rho \\neq 0$)"
   ]
  },
  {
   "cell_type": "code",
   "execution_count": null,
   "metadata": {},
   "outputs": [],
   "source": [
    "from scipy.stats import pearsonr \n",
    "\n",
    "rho, p = pearsonr(df[\"칼럼1\"], df[\"칼럼2\"])"
   ]
  },
  {
   "attachments": {},
   "cell_type": "markdown",
   "metadata": {},
   "source": [
    "## 6. 일반 상관계수 : `df.corr()`\n",
    "\n",
    "### Example\n",
    "iris에서 Sepal Length와 Sepal Width의 상관계수 계산하고 소수 둘째자리까지 출력하시오\n",
    "\n",
    "[참고 : 캐글 링크](https://www.kaggle.com/code/agileteam/t3-correlation/notebook)"
   ]
  },
  {
   "cell_type": "code",
   "execution_count": 3,
   "metadata": {},
   "outputs": [
    {
     "data": {
      "text/html": [
       "<div>\n",
       "<style scoped>\n",
       "    .dataframe tbody tr th:only-of-type {\n",
       "        vertical-align: middle;\n",
       "    }\n",
       "\n",
       "    .dataframe tbody tr th {\n",
       "        vertical-align: top;\n",
       "    }\n",
       "\n",
       "    .dataframe thead th {\n",
       "        text-align: right;\n",
       "    }\n",
       "</style>\n",
       "<table border=\"1\" class=\"dataframe\">\n",
       "  <thead>\n",
       "    <tr style=\"text-align: right;\">\n",
       "      <th></th>\n",
       "      <th>sepal length (cm)</th>\n",
       "      <th>sepal width (cm)</th>\n",
       "      <th>petal length (cm)</th>\n",
       "      <th>petal width (cm)</th>\n",
       "    </tr>\n",
       "  </thead>\n",
       "  <tbody>\n",
       "    <tr>\n",
       "      <th>0</th>\n",
       "      <td>5.1</td>\n",
       "      <td>3.5</td>\n",
       "      <td>1.4</td>\n",
       "      <td>0.2</td>\n",
       "    </tr>\n",
       "    <tr>\n",
       "      <th>1</th>\n",
       "      <td>4.9</td>\n",
       "      <td>3.0</td>\n",
       "      <td>1.4</td>\n",
       "      <td>0.2</td>\n",
       "    </tr>\n",
       "    <tr>\n",
       "      <th>2</th>\n",
       "      <td>4.7</td>\n",
       "      <td>3.2</td>\n",
       "      <td>1.3</td>\n",
       "      <td>0.2</td>\n",
       "    </tr>\n",
       "    <tr>\n",
       "      <th>3</th>\n",
       "      <td>4.6</td>\n",
       "      <td>3.1</td>\n",
       "      <td>1.5</td>\n",
       "      <td>0.2</td>\n",
       "    </tr>\n",
       "    <tr>\n",
       "      <th>4</th>\n",
       "      <td>5.0</td>\n",
       "      <td>3.6</td>\n",
       "      <td>1.4</td>\n",
       "      <td>0.2</td>\n",
       "    </tr>\n",
       "  </tbody>\n",
       "</table>\n",
       "</div>"
      ],
      "text/plain": [
       "   sepal length (cm)  sepal width (cm)  petal length (cm)  petal width (cm)\n",
       "0                5.1               3.5                1.4               0.2\n",
       "1                4.9               3.0                1.4               0.2\n",
       "2                4.7               3.2                1.3               0.2\n",
       "3                4.6               3.1                1.5               0.2\n",
       "4                5.0               3.6                1.4               0.2"
      ]
     },
     "execution_count": 3,
     "metadata": {},
     "output_type": "execute_result"
    }
   ],
   "source": [
    "import pandas as pd\n",
    "from sklearn.datasets import load_iris\n",
    "\n",
    "# iris 데이터셋 로드\n",
    "iris = load_iris()\n",
    "df = pd.DataFrame(iris.data, columns=iris.feature_names)\n",
    "df.head()"
   ]
  },
  {
   "cell_type": "code",
   "execution_count": 5,
   "metadata": {},
   "outputs": [
    {
     "data": {
      "text/html": [
       "<div>\n",
       "<style scoped>\n",
       "    .dataframe tbody tr th:only-of-type {\n",
       "        vertical-align: middle;\n",
       "    }\n",
       "\n",
       "    .dataframe tbody tr th {\n",
       "        vertical-align: top;\n",
       "    }\n",
       "\n",
       "    .dataframe thead th {\n",
       "        text-align: right;\n",
       "    }\n",
       "</style>\n",
       "<table border=\"1\" class=\"dataframe\">\n",
       "  <thead>\n",
       "    <tr style=\"text-align: right;\">\n",
       "      <th></th>\n",
       "      <th>sepal length (cm)</th>\n",
       "      <th>sepal width (cm)</th>\n",
       "      <th>petal length (cm)</th>\n",
       "      <th>petal width (cm)</th>\n",
       "    </tr>\n",
       "  </thead>\n",
       "  <tbody>\n",
       "    <tr>\n",
       "      <th>sepal length (cm)</th>\n",
       "      <td>1.000000</td>\n",
       "      <td>-0.117570</td>\n",
       "      <td>0.871754</td>\n",
       "      <td>0.817941</td>\n",
       "    </tr>\n",
       "    <tr>\n",
       "      <th>sepal width (cm)</th>\n",
       "      <td>-0.117570</td>\n",
       "      <td>1.000000</td>\n",
       "      <td>-0.428440</td>\n",
       "      <td>-0.366126</td>\n",
       "    </tr>\n",
       "    <tr>\n",
       "      <th>petal length (cm)</th>\n",
       "      <td>0.871754</td>\n",
       "      <td>-0.428440</td>\n",
       "      <td>1.000000</td>\n",
       "      <td>0.962865</td>\n",
       "    </tr>\n",
       "    <tr>\n",
       "      <th>petal width (cm)</th>\n",
       "      <td>0.817941</td>\n",
       "      <td>-0.366126</td>\n",
       "      <td>0.962865</td>\n",
       "      <td>1.000000</td>\n",
       "    </tr>\n",
       "  </tbody>\n",
       "</table>\n",
       "</div>"
      ],
      "text/plain": [
       "                   sepal length (cm)  sepal width (cm)  petal length (cm)  \\\n",
       "sepal length (cm)           1.000000         -0.117570           0.871754   \n",
       "sepal width (cm)           -0.117570          1.000000          -0.428440   \n",
       "petal length (cm)           0.871754         -0.428440           1.000000   \n",
       "petal width (cm)            0.817941         -0.366126           0.962865   \n",
       "\n",
       "                   petal width (cm)  \n",
       "sepal length (cm)          0.817941  \n",
       "sepal width (cm)          -0.366126  \n",
       "petal length (cm)          0.962865  \n",
       "petal width (cm)           1.000000  "
      ]
     },
     "execution_count": 5,
     "metadata": {},
     "output_type": "execute_result"
    }
   ],
   "source": [
    "# Sepal Length와 Sepal Width의 상관계수 계산\n",
    "df.corr()"
   ]
  },
  {
   "cell_type": "code",
   "execution_count": 8,
   "metadata": {},
   "outputs": [
    {
     "name": "stdout",
     "output_type": "stream",
     "text": [
      "-0.12\n"
     ]
    }
   ],
   "source": [
    "correlation = df.corr()\n",
    "result = correlation.loc['sepal length (cm)', 'sepal width (cm)'] # loc로 특정 칼럼들에 대한 상관계수 출력\n",
    "print(round(result, 2))"
   ]
  }
 ],
 "metadata": {
  "kernelspec": {
   "display_name": "Python 3",
   "language": "python",
   "name": "python3"
  },
  "language_info": {
   "codemirror_mode": {
    "name": "ipython",
    "version": 3
   },
   "file_extension": ".py",
   "mimetype": "text/x-python",
   "name": "python",
   "nbconvert_exporter": "python",
   "pygments_lexer": "ipython3",
   "version": "3.10.11"
  },
  "orig_nbformat": 4
 },
 "nbformat": 4,
 "nbformat_minor": 2
}
