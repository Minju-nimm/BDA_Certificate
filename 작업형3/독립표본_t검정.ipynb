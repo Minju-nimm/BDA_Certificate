{
 "cells": [
  {
   "attachments": {},
   "cell_type": "markdown",
   "metadata": {},
   "source": [
    "# 독립표본 t검정\n",
    "- **두 개의 독립적인 그룹 간에 평균 차이가 있는지**를 검정하는 통계적인 방법\n",
    "    - 두 그룹의 평균이 서로 다른 모집단에서 추출된 것인지를 확인하는 데 사용 (즉, 서로 다른 게 맞는지 확인)\n",
    "- 예시\n",
    "    - 통제 그룹과 실험 그룹의 차이를 평가하거나, 두 가지 다른 처리 방법의 효과를 비교\n",
    "    - A학급 학생들과 B학급 학생들의 집중력 차이가 있는지 확인할 때"
   ]
  },
  {
   "attachments": {},
   "cell_type": "markdown",
   "metadata": {},
   "source": [
    "## 독립표본 t검정의 가정\n",
    "1. 독립성 : 각 그룹의 관측치는 다른 그룹의 관측치와 독립적으로 추출되었다고 가정\n",
    "2. 정규성 : 각 그룹 내의 관측치는 정규분포를 따른다고 가정\n",
    "- 이는 중심극한정리에 의해 대부분의 경우 만족\n",
    "- 문제가 어떻게 출제될지 모르니, 정규성 검증(shapiro)을 통해 확인\n",
    "- 정규성에 따라 모수 검정, 비모수 검정으로 나뉨 $\\rightarrow$ 독립표본 t검정은 모수 검정\n",
    "3. 등분산성 : 두 그룹의 분산이 동일하다고 가정\n",
    "- levene 검정으로 등분산성 확인"
   ]
  },
  {
   "attachments": {},
   "cell_type": "markdown",
   "metadata": {},
   "source": [
    "## 등분산성에 따라 검정 방법이 달라짐\n",
    "### 등분산 가정을 만족할 때 (student t-test)\n",
    "```python\n",
    "ttest_ind(data1, data2, equal_var=True)\n",
    "```\n",
    "\n",
    "| 검정 통계량 | $$t = \\dfrac{\\bar{x}_1 - \\bar{x}_2}{s \\cdot \\sqrt{\\dfrac{1}{N_1}+\\dfrac{1}{N_2}}}$$   |\n",
    "|---------------|---------------------------------------------------------------------------------------|\n",
    "| 합동(pooled) 표본 표준편차| $$s = \\sqrt{\\dfrac{\\left(N_1-1\\right)s_{1}^2+\\left(N_2-1\\right)s_{2}^2}{N_1+N_2-2}}$$ |\n",
    "\n",
    "- 독립표본 t-test에서 두 집단의 분산이 같다고 가정할 때\n",
    "    - 두 집단의 표준편차를 결합하여 합동 표준편차(pooled standard deviation)를 구하고 이를 사용하여 통계적 검정 및 신뢰구간을 계산함\n",
    "- 합동 표준편차는 두 집단의 표준편차를 가중평균한 값\n",
    "    - 두 집단이 동일한 분산을 가지는 경우, 두 집단에서 추출된 데이터의 분산 추정량의 가중평균이 더 정확한 추정값이 됨\n",
    "    - 합동 표준편차를 사용하면 두 집단의 분산이 다를 때보다 검정력이 더 좋아짐\n",
    "\n",
    "</br>\n",
    "\n",
    "### 등분산 가정을 만족하지 않을 때 (welch t-test)\n",
    "```python\n",
    "ttest_ind(data1, data2, equal_var=False)\n",
    "```\n",
    "\n",
    "| 검정 통계량 | $$t = \\dfrac{\\bar{x}_1 - \\bar{x}_2}{\\sqrt{\\dfrac{s_1^2}{N_1} + \\dfrac{s_2^2}{N_2}}}$$ |\n",
    "|---------------|---------------------------------------------------------------------------------------|\n",
    "| 자유도 | $$\\text{dof} =\\dfrac{\\left(\\dfrac{s_1^2}{N_1} + \\dfrac{s_2^2}{N_2}\\right)^2}{\\dfrac{\\left(s_1^2/N_1\\right)^2}{N_1-1} + \\dfrac{\\left(s_2^2/N_2\\right)^2}{N_2-1}}$$|\n",
    "- 위 검정 통계량은, 자유도(degree of freedom)가 위와 같은 스튜던트-t분포를 따름\n",
    "\n",
    "\n"
   ]
  },
  {
   "attachments": {},
   "cell_type": "markdown",
   "metadata": {},
   "source": [
    "---"
   ]
  },
  {
   "attachments": {},
   "cell_type": "markdown",
   "metadata": {},
   "source": [
    "## Example 1\n",
    "어떤 특정 약물을 복용한 사람들의 평균 체온이 복용하지 않은 사람들의 평균 체온과 유의미하게 다른지 검정해보려고 합니다. 검정통계량, p-value, 검정결과를 출력하시오.\n",
    "\n",
    "- 가정\n",
    "    - 약물을 복용한 그룹과 복용하지 않은 그룹의 체온 데이터가 각각 주어져 있다고 가정합니다.\n",
    "    - 각 그룹의 체온은 정규분포를 따른다고 가정합니다.\n",
    "    \n",
    "[캐글 작업형3 예시문제 - 독립표본 t검정](https://www.kaggle.com/code/agileteam/t3-ttest-ind/notebook)"
   ]
  },
  {
   "attachments": {},
   "cell_type": "markdown",
   "metadata": {},
   "source": [
    "### 가설\n",
    "- 귀무가설 : 약물을 복용한 그룹과 복용하지 않은 그룹의 평균 체온은 유의미한 차이가 없다.\n",
    "- 대립가설 : 약물을 복용한 그룹과 복용하지 않은 그룹의 평균 체온은 유의미한 차이가 있다."
   ]
  },
  {
   "cell_type": "code",
   "execution_count": 1,
   "metadata": {},
   "outputs": [],
   "source": [
    "# 데이터 로드\n",
    "group1 = [36.8, 36.7, 37.1, 36.9, 37.2, 36.8, 36.9, 37.1, 36.7, 37.1]\n",
    "group2 = [36.5, 36.6, 36.3, 36.6, 36.9, 36.7, 36.7, 36.8, 36.5, 36.7]"
   ]
  },
  {
   "cell_type": "code",
   "execution_count": 2,
   "metadata": {},
   "outputs": [
    {
     "name": "stdout",
     "output_type": "stream",
     "text": [
      "검정통계량: 3.7964208654863336\n",
      "p-value: 0.001321891476703691\n",
      "귀무가설을 기각합니다. 약물을 복용한 그룹과 복용하지 않은 그룹의 평균 체온은 유의미한 차이가 있습니다.\n"
     ]
    }
   ],
   "source": [
    "from scipy import stats\n",
    "\n",
    "# 가설검정\n",
    "t_stat, p_value = stats.ttest_ind(group1, group2)\n",
    "\n",
    "print(\"검정통계량 :\", t_stat)\n",
    "print(\"p-value :\", p_value)\n",
    "\n",
    "# 유의성 검정\n",
    "alpha = 0.05  # 유의수준 설정\n",
    "\n",
    "if p_value < alpha:\n",
    "    print(\"귀무가설을 기각합니다. 약물을 복용한 그룹과 복용하지 않은 그룹의 평균 체온은 유의미한 차이가 있습니다.\")\n",
    "else:\n",
    "    print(\"귀무가설을 채택합니다. 약물을 복용한 그룹과 복용하지 않은 그룹의 평균 체온은 유의미한 차이가 없습니다.\")"
   ]
  },
  {
   "attachments": {},
   "cell_type": "markdown",
   "metadata": {},
   "source": [
    "## Example 2 : 정규성 만족 O, 등분산성 만족 O\n",
    "두개 학급의 시험성적에 대한 데이터이다. 두 학급의 시험 평균(비모수검정의 경우 중위값)은 동일하다 말할 수 있는지 확인하라.\n",
    "\n",
    "[데이터 마님 예상문제 - 독립표본 t검정](https://www.datamanim.com/dataset/97_scipy/scipy.html#independent)"
   ]
  },
  {
   "cell_type": "code",
   "execution_count": 2,
   "metadata": {},
   "outputs": [
    {
     "name": "stdout",
     "output_type": "stream",
     "text": [
      "         data\n",
      "0  105.408458\n",
      "1  108.722618\n",
      "2   84.398634\n",
      "3  100.510816\n",
      "4  100.965949\n",
      "         data\n",
      "0   98.329474\n",
      "1   96.931704\n",
      "2   95.777325\n",
      "3   98.744768\n",
      "4  102.971042\n"
     ]
    }
   ],
   "source": [
    "import pandas as pd \n",
    "import matplotlib.pyplot as plt\n",
    "df1 = pd.read_csv('https://raw.githubusercontent.com/Datamanim/datarepo/main/scipy/ind1.csv')\n",
    "df2 = pd.read_csv('https://raw.githubusercontent.com/Datamanim/datarepo/main/scipy/ind2.csv')\n",
    "\n",
    "print(df1.head())\n",
    "print(df2.head())"
   ]
  },
  {
   "attachments": {},
   "cell_type": "markdown",
   "metadata": {},
   "source": [
    "### shapiro 정규성 검정\n",
    "- 귀무가설 : 표본의 모집단이 정규분포와 차이가 없다. (정규성을 만족한다.)\n",
    "- 대립가설 : 표본의 모집단이 정규분포와 차이가 있다."
   ]
  },
  {
   "cell_type": "code",
   "execution_count": 4,
   "metadata": {},
   "outputs": [
    {
     "name": "stdout",
     "output_type": "stream",
     "text": [
      "ShapiroResult(statistic=0.9860947728157043, pvalue=0.37968069314956665)\n",
      "ShapiroResult(statistic=0.990182638168335, pvalue=0.6793646216392517)\n"
     ]
    }
   ],
   "source": [
    "# 정규성 검정\n",
    "from scipy.stats import shapiro\n",
    "\n",
    "sha_A = shapiro(df1[\"data\"])\n",
    "sha_B = shapiro(df2[\"data\"])\n",
    "print(sha_A)\n",
    "print(sha_B)"
   ]
  },
  {
   "attachments": {},
   "cell_type": "markdown",
   "metadata": {},
   "source": [
    "- 각각 데이터에 대해 정규성 검정을 실행한 결과, 두 데이터 모두 p-value가 유의수준 0.05보다 크므로, 귀무가설을 기각하지 않는다. 따라서 정규성을 지녔다고 말할 수 있다."
   ]
  },
  {
   "attachments": {},
   "cell_type": "markdown",
   "metadata": {},
   "source": [
    "### levene 등분산성 검정\n",
    "- 귀무가설 : 각 그룹의 모집단 분산은 동일하다.\n",
    "- 대립가설 : 적어도 하나의 그룹의 모집단 분산은 다른 그룹과 다르다."
   ]
  },
  {
   "cell_type": "code",
   "execution_count": 6,
   "metadata": {},
   "outputs": [
    {
     "data": {
      "text/plain": [
       "LeveneResult(statistic=2.5337683795339547, pvalue=0.11302904824469093)"
      ]
     },
     "execution_count": 6,
     "metadata": {},
     "output_type": "execute_result"
    }
   ],
   "source": [
    "# 등분산성 검정\n",
    "from scipy.stats import levene\n",
    "\n",
    "levene(df1[\"data\"], df2[\"data\"])"
   ]
  },
  {
   "attachments": {},
   "cell_type": "markdown",
   "metadata": {},
   "source": [
    "- 등분산성 검정 결과, p-value가 0.11로 유의수준 0.05보다 크다. 따라서 귀무가설을 기각하지 않는다. 즉, 등분산성을 지녔다고 말할 수 있다."
   ]
  },
  {
   "attachments": {},
   "cell_type": "markdown",
   "metadata": {},
   "source": [
    "### 독립표본 t검정\n",
    "- 귀무가설 : 두 학급의 시험성적은 차이가 없다. \n",
    "- 대립가설 : 두 학급의 시험성적은 차이가 있다."
   ]
  },
  {
   "cell_type": "code",
   "execution_count": 9,
   "metadata": {},
   "outputs": [
    {
     "data": {
      "text/plain": [
       "Ttest_indResult(statistic=2.7671907368517195, pvalue=0.00619015106792926)"
      ]
     },
     "execution_count": 9,
     "metadata": {},
     "output_type": "execute_result"
    }
   ],
   "source": [
    "# 독립표본 t검정\n",
    "from scipy.stats import ttest_ind\n",
    "ttest_ind(df1[\"data\"], df2[\"data\"], equal_var = True)"
   ]
  },
  {
   "attachments": {},
   "cell_type": "markdown",
   "metadata": {},
   "source": [
    "- 검정 결과, p-value가 유의수준 0.05보다 작으므로 귀무가설을 기각한다. 따라서 두 학급의 시험성적은 차이가 있다고 할 수 있다. "
   ]
  },
  {
   "attachments": {},
   "cell_type": "markdown",
   "metadata": {},
   "source": [
    "## Example 3 : 정규성 만족 O, 등분산성 만족 X\n",
    "두개 그룹에 대한 수치형 데이터이다. 두 그룹의 평균은 동일하다 말할 수 있는지 검정하라.\n",
    "\n",
    "[데이터 마님 예상문제 - 독립표본 t검정](https://www.datamanim.com/dataset/97_scipy/scipy.html#independent)"
   ]
  },
  {
   "cell_type": "code",
   "execution_count": 12,
   "metadata": {},
   "outputs": [
    {
     "data": {
      "text/html": [
       "<div>\n",
       "<style scoped>\n",
       "    .dataframe tbody tr th:only-of-type {\n",
       "        vertical-align: middle;\n",
       "    }\n",
       "\n",
       "    .dataframe tbody tr th {\n",
       "        vertical-align: top;\n",
       "    }\n",
       "\n",
       "    .dataframe thead th {\n",
       "        text-align: right;\n",
       "    }\n",
       "</style>\n",
       "<table border=\"1\" class=\"dataframe\">\n",
       "  <thead>\n",
       "    <tr style=\"text-align: right;\">\n",
       "      <th></th>\n",
       "      <th>group</th>\n",
       "      <th>data</th>\n",
       "    </tr>\n",
       "  </thead>\n",
       "  <tbody>\n",
       "    <tr>\n",
       "      <th>0</th>\n",
       "      <td>a</td>\n",
       "      <td>108.065847</td>\n",
       "    </tr>\n",
       "    <tr>\n",
       "      <th>1</th>\n",
       "      <td>a</td>\n",
       "      <td>88.714106</td>\n",
       "    </tr>\n",
       "    <tr>\n",
       "      <th>2</th>\n",
       "      <td>a</td>\n",
       "      <td>61.182748</td>\n",
       "    </tr>\n",
       "    <tr>\n",
       "      <th>3</th>\n",
       "      <td>a</td>\n",
       "      <td>51.763444</td>\n",
       "    </tr>\n",
       "    <tr>\n",
       "      <th>4</th>\n",
       "      <td>a</td>\n",
       "      <td>127.858730</td>\n",
       "    </tr>\n",
       "  </tbody>\n",
       "</table>\n",
       "</div>"
      ],
      "text/plain": [
       "  group        data\n",
       "0     a  108.065847\n",
       "1     a   88.714106\n",
       "2     a   61.182748\n",
       "3     a   51.763444\n",
       "4     a  127.858730"
      ]
     },
     "execution_count": 12,
     "metadata": {},
     "output_type": "execute_result"
    }
   ],
   "source": [
    "import pandas as pd \n",
    "import matplotlib.pyplot as plt\n",
    "df = pd.read_csv('https://raw.githubusercontent.com/Datamanim/datarepo/main/scipy/ind3.csv')\n",
    "df.head()"
   ]
  },
  {
   "cell_type": "code",
   "execution_count": 15,
   "metadata": {},
   "outputs": [],
   "source": [
    "# 데이터 분할\n",
    "\n",
    "df[\"group\"].value_counts() # a : 120, b : 70\n",
    "\n",
    "group_a = df[df[\"group\"] == \"a\"][\"data\"]\n",
    "group_b = df[df[\"group\"] == \"b\"][\"data\"]"
   ]
  },
  {
   "cell_type": "code",
   "execution_count": 27,
   "metadata": {},
   "outputs": [
    {
     "name": "stdout",
     "output_type": "stream",
     "text": [
      "ShapiroResult(statistic=0.9834123253822327, pvalue=0.1473984718322754)\n",
      "ShapiroResult(statistic=0.9831849336624146, pvalue=0.47018250823020935)\n"
     ]
    }
   ],
   "source": [
    "# 정규성 검정 : shapiro\n",
    "from scipy.stats import shapiro\n",
    "sha_a = shapiro(group_a)\n",
    "sha_b = shapiro(group_b)\n",
    "print(sha_a)\n",
    "print(sha_b)"
   ]
  },
  {
   "attachments": {},
   "cell_type": "markdown",
   "metadata": {},
   "source": [
    "- 각각 데이터에 대해 정규성 검정을 실행한 결과, 두 데이터 모두 p-value가 유의수준 0.05보다 크므로, 귀무가설을 기각하지 않는다. 따라서 정규성을 지녔다고 말할 수 있다."
   ]
  },
  {
   "cell_type": "code",
   "execution_count": 28,
   "metadata": {},
   "outputs": [
    {
     "data": {
      "text/plain": [
       "LeveneResult(statistic=6.185601018015722, pvalue=0.013750484571911342)"
      ]
     },
     "execution_count": 28,
     "metadata": {},
     "output_type": "execute_result"
    }
   ],
   "source": [
    "# 등분산성 검정 : levene\n",
    "from scipy.stats import levene\n",
    "levene(group_a, group_b)"
   ]
  },
  {
   "attachments": {},
   "cell_type": "markdown",
   "metadata": {},
   "source": [
    "- 등분산성 검정 결과, p-value가 0.01로 유의수준 0.05보다 작다. 따라서 귀무가설을 기각한다. 즉, 등분산성 가정을 위배한다."
   ]
  },
  {
   "cell_type": "code",
   "execution_count": 30,
   "metadata": {},
   "outputs": [
    {
     "data": {
      "text/plain": [
       "Ttest_indResult(statistic=-2.1949470315829265, pvalue=0.029512802991767915)"
      ]
     },
     "execution_count": 30,
     "metadata": {},
     "output_type": "execute_result"
    }
   ],
   "source": [
    "# 독립표본 t검정\n",
    "ttest_ind(group_a, group_b, equal_var = False)"
   ]
  },
  {
   "attachments": {},
   "cell_type": "markdown",
   "metadata": {},
   "source": [
    "- 검정 결과, p-value가 유의수준 0.05보다 작으므로 귀무가설을 기각한다. 따라서 두 그룹의 평균은 같다고 보기 어렵다. 즉, 차이가 있다."
   ]
  },
  {
   "attachments": {},
   "cell_type": "markdown",
   "metadata": {},
   "source": [
    "## Example 4 : 단측검정\n",
    "1반과 2반 학생 들의 성적이 각각 다음과 같다고 가정하자. 1반의 실력이 2반보다 좋다고 이야기 할 수 있는가?\n",
    "- 1반 : 80점, 75점, 85점, 50점, 60점, 75점, 45점, 70점, 90점, 95점, 85점, 80점. 평균 74.1점\n",
    "- 2반 : 80점, 85점, 70점, 80점, 35점, 55점, 80점 . 평균 69.2점\n",
    "\n",
    "[데이터 사이언스 스쿨 - 독립표본 t검정 연습문제 9.5.6](https://datascienceschool.net/02%20mathematics/09.05%20%EC%82%AC%EC%9D%B4%ED%8C%8C%EC%9D%B4%EB%A5%BC%20%EC%82%AC%EC%9A%A9%ED%95%9C%20%EA%B2%80%EC%A0%95.html#id17)"
   ]
  },
  {
   "cell_type": "code",
   "execution_count": 16,
   "metadata": {},
   "outputs": [],
   "source": [
    "data_1 = [80, 75, 85, 50, 60, 75, 45, 70, 90, 95, 85, 80]\n",
    "data_2 = [80, 85, 70, 80, 35, 55, 80]"
   ]
  },
  {
   "cell_type": "code",
   "execution_count": 22,
   "metadata": {},
   "outputs": [
    {
     "name": "stdout",
     "output_type": "stream",
     "text": [
      "ShapiroResult(statistic=0.9288560152053833, pvalue=0.368144154548645)\n",
      "ShapiroResult(statistic=0.8173714876174927, pvalue=0.060575928539037704)\n"
     ]
    }
   ],
   "source": [
    "# 정규성 검정 : shapiro\n",
    "from scipy.stats import shapiro\n",
    "\n",
    "sha_1 = shapiro(data_1)\n",
    "sha_2 = shapiro(data_2)\n",
    "\n",
    "print(sha_1)\n",
    "print(sha_2)"
   ]
  },
  {
   "attachments": {},
   "cell_type": "markdown",
   "metadata": {},
   "source": [
    "- 각각 데이터에 대해 정규성 검정을 실행한 결과, 두 데이터 모두 p-value가 유의수준 0.05보다 크므로, 귀무가설을 기각하지 않는다. 따라서 정규성을 지녔다고 말할 수 있다."
   ]
  },
  {
   "cell_type": "code",
   "execution_count": 25,
   "metadata": {},
   "outputs": [
    {
     "data": {
      "text/plain": [
       "LeveneResult(statistic=0.005908291157112759, pvalue=0.9396280207926151)"
      ]
     },
     "execution_count": 25,
     "metadata": {},
     "output_type": "execute_result"
    }
   ],
   "source": [
    "# 등분산성 검정 : levene\n",
    "from scipy.stats import levene\n",
    "levene(data_1, data_2)"
   ]
  },
  {
   "attachments": {},
   "cell_type": "markdown",
   "metadata": {},
   "source": [
    "- 귀무가설을 채택, 등분산성을 따른다고 할 수 있음"
   ]
  },
  {
   "attachments": {},
   "cell_type": "markdown",
   "metadata": {},
   "source": [
    "### 독립표본 t검정 \n",
    "- 귀무가설 : 1반의 실력은 2반의 실력보다 좋지 않다. (같거나, 좋지 않다.)\n",
    "- 대립가설 : 1반의 실력은 2반의 실력보다 좋다."
   ]
  },
  {
   "attachments": {},
   "cell_type": "markdown",
   "metadata": {},
   "source": [
    "- 독립표본 t-검정을 위한 ttest_ind() 함수는 기본적으로 양측 검정을 수행하며, 대립가설을 설정하는 매개변수는 제공되지 않음\n",
    "- ttest_ind() 함수를 사용하여 단측 검정을 수행하려는 경우, 양측 검정 결과를 사용하여 단측 검정 결과를 계산할 수 있음\n",
    "    - 만약 \"1반의 실력은 2반보다 좋다\"라는 대립가설을 설정하고 싶다면, 양측 검정 결과를 반으로 나누어서 p-value를 계산할 수 있음"
   ]
  },
  {
   "cell_type": "code",
   "execution_count": 19,
   "metadata": {},
   "outputs": [
    {
     "name": "stdout",
     "output_type": "stream",
     "text": [
      "0.623010926550264\n",
      "0.27077293042366335\n",
      "1반의 실력은 2반과 차이가 없다\n"
     ]
    }
   ],
   "source": [
    "from scipy.stats import ttest_ind\n",
    "\n",
    "class1 = [80, 75, 85, 50, 60, 75, 45, 70, 90, 95, 85, 80]\n",
    "class2 = [80, 85, 70, 80, 35, 55, 80]\n",
    "\n",
    "t_stat, p_value = ttest_ind(class1, class2)\n",
    "\n",
    "alpha = 0.05  # 유의수준 설정\n",
    "p_value /= 2  # 양측 검정 결과를 반으로 나누어 단측 검정 결과 계산\n",
    "\n",
    "print(t_stat)\n",
    "print(p_value)\n",
    "\n",
    "if p_value < alpha:\n",
    "    print(\"1반의 실력은 2반보다 좋다\")\n",
    "else:\n",
    "    print(\"1반의 실력은 2반과 차이가 없다\")"
   ]
  }
 ],
 "metadata": {
  "kernelspec": {
   "display_name": "Python 3",
   "language": "python",
   "name": "python3"
  },
  "language_info": {
   "codemirror_mode": {
    "name": "ipython",
    "version": 3
   },
   "file_extension": ".py",
   "mimetype": "text/x-python",
   "name": "python",
   "nbconvert_exporter": "python",
   "pygments_lexer": "ipython3",
   "version": "3.10.11"
  },
  "orig_nbformat": 4
 },
 "nbformat": 4,
 "nbformat_minor": 2
}
