{
 "cells": [
  {
   "attachments": {},
   "cell_type": "markdown",
   "metadata": {},
   "source": [
    "# 분산분석(ANOVA)\n",
    "- 6회 실기환경에서 statsmodels는 X\n",
    "    - 사후검정까지는 출제되지 않을 것으로 예상"
   ]
  },
  {
   "attachments": {},
   "cell_type": "markdown",
   "metadata": {},
   "source": [
    "- 세 표본 이상에 대해서 평균 차이를 검정"
   ]
  },
  {
   "attachments": {},
   "cell_type": "markdown",
   "metadata": {},
   "source": [
    "---"
   ]
  },
  {
   "attachments": {},
   "cell_type": "markdown",
   "metadata": {},
   "source": [
    "## Example 1 : 일원분산분석\n",
    "세 가지 다른 교육 방법(A, B, C)을 사용하여 수험생들의 시험 성적을 개선시키는 효과를 평가하고자 한다. 30명의 학생들을 무작위로 세 그룹으로 배정하여 교육을 실시하였고, 시험을 보고 성적을 측정하였습니다. 다음은 각 그룹의 학생들의 성적 데이터입니다.\n",
    "\n",
    "[캐글 ANOVA 예제 링크](https://www.kaggle.com/code/agileteam/t3-anova/notebook)"
   ]
  },
  {
   "attachments": {},
   "cell_type": "markdown",
   "metadata": {},
   "source": [
    "일원배치법을 수행하여 그룹 간의 평균 성적 차이가 있는지 검정하세요. \n",
    "\n",
    "1. f값 (소수 둘째자리)\n",
    "2. p값 (소수 여섯째자리)\n",
    "3. 검정결과 출력"
   ]
  },
  {
   "attachments": {},
   "cell_type": "markdown",
   "metadata": {},
   "source": [
    "### 가설\n",
    "- 귀무가설 : 세 그룹 간 평균 성적 차이가 없다.\n",
    "- 대립가설 : 세 그룹 간 평균 성적 차이가 있다. (적어도 1개 집단의 평균은 같지 않다.)"
   ]
  },
  {
   "cell_type": "code",
   "execution_count": 1,
   "metadata": {},
   "outputs": [],
   "source": [
    "# 각 그룹의 데이터\n",
    "groupA = [85, 92, 78, 88, 83, 90, 76, 84, 92, 87]\n",
    "groupB = [79, 69, 84, 78, 79, 83, 79, 81, 86, 88]\n",
    "groupC = [75, 68, 74, 65, 77, 72, 70, 73, 78, 75]"
   ]
  },
  {
   "cell_type": "code",
   "execution_count": 15,
   "metadata": {},
   "outputs": [
    {
     "name": "stdout",
     "output_type": "stream",
     "text": [
      "16.88\n"
     ]
    }
   ],
   "source": [
    "from scipy.stats import f_oneway\n",
    "s, p = f_oneway(groupA, groupB, groupC)\n",
    "\n",
    "# 1) f 통계량\n",
    "print(round(s, 2))"
   ]
  },
  {
   "cell_type": "code",
   "execution_count": 14,
   "metadata": {},
   "outputs": [
    {
     "name": "stdout",
     "output_type": "stream",
     "text": [
      "0.000018\n"
     ]
    }
   ],
   "source": [
    "# 2) p-value\n",
    "print(format(p, '.6f'))"
   ]
  },
  {
   "attachments": {},
   "cell_type": "markdown",
   "metadata": {},
   "source": [
    "- p-value가 유의수준 0.05보다 작기 때문에, 귀무가설을 기각한다. 따라서 세 그룹 간 평균 차이가 있다고 할 수 있다."
   ]
  }
 ],
 "metadata": {
  "kernelspec": {
   "display_name": "Python 3",
   "language": "python",
   "name": "python3"
  },
  "language_info": {
   "codemirror_mode": {
    "name": "ipython",
    "version": 3
   },
   "file_extension": ".py",
   "mimetype": "text/x-python",
   "name": "python",
   "nbconvert_exporter": "python",
   "pygments_lexer": "ipython3",
   "version": "3.10.11"
  },
  "orig_nbformat": 4
 },
 "nbformat": 4,
 "nbformat_minor": 2
}
