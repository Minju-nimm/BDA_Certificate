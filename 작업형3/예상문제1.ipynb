{
 "cells": [
  {
   "attachments": {},
   "cell_type": "markdown",
   "metadata": {},
   "source": [
    "# 작업형3 예상문제\n",
    "- 데이터 마님 기출 변형 5회 ~ 2회의 작업형3 예상문제 모음\n",
    "- [데이터마님 5회 링크](https://www.datamanim.com/dataset/practice/ex5.html#id4)\n",
    "- [데이터마님 4회 링크](https://www.datamanim.com/dataset/practice/ex4.html#id4)\n",
    "- [데이터마님 3회 링크](https://www.datamanim.com/dataset/practice/ex3.html#id4)\n",
    "- [데이터마님 2회 링크](https://www.datamanim.com/dataset/practice/ex2.html#id4)"
   ]
  },
  {
   "attachments": {},
   "cell_type": "markdown",
   "metadata": {},
   "source": [
    "## 5회 1번 : 신뢰구간\n",
    "어느 학교에서 추출한 55명 학생들의 키 정보이다. 이 학생들의 키의 95% 신뢰구간을 구하고자 한다.\n",
    "\n",
    "- 1-1) 55명 학생들의 키에 대한 표본 평균을 구하여라(반올림하여 소숫점 3째자리까지\n",
    "- 1-2) t분포 양쪽 꼬리에서의 t 값을 구하여라 (반올림하여 소수4째자리까지)\n",
    "- 1-3) 95% 신뢰구간을 구하여라(print(lower,upper) 방식으로 출력, 각각의 값은 소숫점 이하 3째자리까지)"
   ]
  },
  {
   "cell_type": "code",
   "execution_count": 7,
   "metadata": {},
   "outputs": [
    {
     "data": {
      "text/html": [
       "<div>\n",
       "<style scoped>\n",
       "    .dataframe tbody tr th:only-of-type {\n",
       "        vertical-align: middle;\n",
       "    }\n",
       "\n",
       "    .dataframe tbody tr th {\n",
       "        vertical-align: top;\n",
       "    }\n",
       "\n",
       "    .dataframe thead th {\n",
       "        text-align: right;\n",
       "    }\n",
       "</style>\n",
       "<table border=\"1\" class=\"dataframe\">\n",
       "  <thead>\n",
       "    <tr style=\"text-align: right;\">\n",
       "      <th></th>\n",
       "      <th>ID</th>\n",
       "      <th>height</th>\n",
       "    </tr>\n",
       "  </thead>\n",
       "  <tbody>\n",
       "    <tr>\n",
       "      <th>0</th>\n",
       "      <td>user_1</td>\n",
       "      <td>164.57</td>\n",
       "    </tr>\n",
       "    <tr>\n",
       "      <th>1</th>\n",
       "      <td>user_2</td>\n",
       "      <td>174.99</td>\n",
       "    </tr>\n",
       "    <tr>\n",
       "      <th>2</th>\n",
       "      <td>user_3</td>\n",
       "      <td>171.41</td>\n",
       "    </tr>\n",
       "    <tr>\n",
       "      <th>3</th>\n",
       "      <td>user_4</td>\n",
       "      <td>162.47</td>\n",
       "    </tr>\n",
       "    <tr>\n",
       "      <th>4</th>\n",
       "      <td>user_5</td>\n",
       "      <td>167.11</td>\n",
       "    </tr>\n",
       "  </tbody>\n",
       "</table>\n",
       "</div>"
      ],
      "text/plain": [
       "       ID  height\n",
       "0  user_1  164.57\n",
       "1  user_2  174.99\n",
       "2  user_3  171.41\n",
       "3  user_4  162.47\n",
       "4  user_5  167.11"
      ]
     },
     "execution_count": 7,
     "metadata": {},
     "output_type": "execute_result"
    }
   ],
   "source": [
    "import pandas as pd \n",
    "df = pd.read_csv('https://raw.githubusercontent.com/Datamanim/datarepo/main/krdatacertificate/e5_p3_1.csv')\n",
    "df.head()"
   ]
  },
  {
   "attachments": {},
   "cell_type": "markdown",
   "metadata": {},
   "source": [
    "### 신뢰구간 구할 때 순서\n",
    "#### 1) 표본평균, 데이터 개수, 신뢰수준, 자유도 등 미리 선언해주기"
   ]
  },
  {
   "cell_type": "code",
   "execution_count": 9,
   "metadata": {},
   "outputs": [
    {
     "name": "stdout",
     "output_type": "stream",
     "text": [
      "169.937\n"
     ]
    }
   ],
   "source": [
    "# 1-1) 표본평균\n",
    "x_bar = df[\"height\"].mean()\n",
    "print(round(x_bar, 3))"
   ]
  },
  {
   "attachments": {},
   "cell_type": "markdown",
   "metadata": {},
   "source": [
    "### 자유도 보정값\n",
    "- 기본적으로 표본의 표준 편차를 계산할 때는 표준 편차를 계산하는 과정에서 편향이 발생\n",
    "- 이를 보정하기 위해 ddof 매개변수를 사용\n",
    "- 일반적으로, 표본의 표준 편차를 계산할 때는 ddof=1로 설정하여 보정"
   ]
  },
  {
   "cell_type": "code",
   "execution_count": 14,
   "metadata": {},
   "outputs": [
    {
     "name": "stdout",
     "output_type": "stream",
     "text": [
      "5.977625087231691\n"
     ]
    }
   ],
   "source": [
    "import numpy as np\n",
    "std = np.std(df.height, ddof=1) # delta degrees of freedom, 자유도 보정값\n",
    "print(std)"
   ]
  },
  {
   "cell_type": "code",
   "execution_count": 12,
   "metadata": {},
   "outputs": [
    {
     "data": {
      "text/plain": [
       "5.977625087231691"
      ]
     },
     "execution_count": 12,
     "metadata": {},
     "output_type": "execute_result"
    }
   ],
   "source": [
    "df[\"height\"].std() # 값 같음"
   ]
  },
  {
   "cell_type": "code",
   "execution_count": 17,
   "metadata": {},
   "outputs": [
    {
     "name": "stdout",
     "output_type": "stream",
     "text": [
      "2.0049\n"
     ]
    }
   ],
   "source": [
    "# 1-2) t분포 양쪽 꼬리에서의 t값\n",
    "import numpy as np\n",
    "from scipy.stats import t\n",
    "\n",
    "n = len(df[\"height\"])\n",
    "conf_level = 0.95 \n",
    "# df = n-1\n",
    "\n",
    "t_critical = t.ppf((1 + conf_level)/2, df = n-1) # 양측 검정에서 신뢰 구간(confidence interval)\n",
    "print(round(t_critical, 4))"
   ]
  },
  {
   "cell_type": "code",
   "execution_count": 19,
   "metadata": {},
   "outputs": [
    {
     "name": "stdout",
     "output_type": "stream",
     "text": [
      "( 168.321 , 171.553 )\n"
     ]
    }
   ],
   "source": [
    "# 1-3) 신뢰구간 구하기\n",
    "lower = x_bar - t_critical * std / np.sqrt(n)\n",
    "upper = x_bar + t_critical * std / np.sqrt(n)\n",
    "\n",
    "print(\"(\", round(lower, 3), \",\",  round(upper, 3),\")\")"
   ]
  },
  {
   "attachments": {},
   "cell_type": "markdown",
   "metadata": {},
   "source": [
    "## 5회 2번 : 크루스컬 윌리스 검정\n",
    "A,B,C 세 공장에서 생산한 동일한 제품의 길이 데이터이다. 장간의 제품 길이 차이가 유의미한지 확인 하려한다.\n",
    "- 2-1) 3 그룹의 데이터에 대해 크루스칼-왈리스 검정을 사용하여 검정 통계량을 반올림하여 소숫점 이하 3자리까지 구하여라.\n",
    "- 2-2) 3 그룹의 데이터에 대해 크루스칼-왈리스 검정을 사용하여 p-value를 반올림하여 소숫점 이하 3자리까지 구하여라.\n",
    "- 2-3) 위 결과에 따라 귀무가설과 대립가설중 0.05 유의수준에서 유의한 가설을 출력하라."
   ]
  },
  {
   "cell_type": "code",
   "execution_count": 1,
   "metadata": {},
   "outputs": [
    {
     "data": {
      "text/html": [
       "<div>\n",
       "<style scoped>\n",
       "    .dataframe tbody tr th:only-of-type {\n",
       "        vertical-align: middle;\n",
       "    }\n",
       "\n",
       "    .dataframe tbody tr th {\n",
       "        vertical-align: top;\n",
       "    }\n",
       "\n",
       "    .dataframe thead th {\n",
       "        text-align: right;\n",
       "    }\n",
       "</style>\n",
       "<table border=\"1\" class=\"dataframe\">\n",
       "  <thead>\n",
       "    <tr style=\"text-align: right;\">\n",
       "      <th></th>\n",
       "      <th>ID</th>\n",
       "      <th>value</th>\n",
       "    </tr>\n",
       "  </thead>\n",
       "  <tbody>\n",
       "    <tr>\n",
       "      <th>0</th>\n",
       "      <td>A</td>\n",
       "      <td>84.179434</td>\n",
       "    </tr>\n",
       "    <tr>\n",
       "      <th>1</th>\n",
       "      <td>A</td>\n",
       "      <td>93.971003</td>\n",
       "    </tr>\n",
       "    <tr>\n",
       "      <th>2</th>\n",
       "      <td>A</td>\n",
       "      <td>62.140957</td>\n",
       "    </tr>\n",
       "    <tr>\n",
       "      <th>3</th>\n",
       "      <td>A</td>\n",
       "      <td>72.911723</td>\n",
       "    </tr>\n",
       "    <tr>\n",
       "      <th>4</th>\n",
       "      <td>A</td>\n",
       "      <td>79.252747</td>\n",
       "    </tr>\n",
       "  </tbody>\n",
       "</table>\n",
       "</div>"
      ],
      "text/plain": [
       "  ID      value\n",
       "0  A  84.179434\n",
       "1  A  93.971003\n",
       "2  A  62.140957\n",
       "3  A  72.911723\n",
       "4  A  79.252747"
      ]
     },
     "execution_count": 1,
     "metadata": {},
     "output_type": "execute_result"
    }
   ],
   "source": [
    "import pandas as pd \n",
    "df = pd.read_csv('https://raw.githubusercontent.com/Datamanim/datarepo/main/krdatacertificate/e5_p3_2.csv')\n",
    "df.head()"
   ]
  },
  {
   "attachments": {},
   "cell_type": "markdown",
   "metadata": {},
   "source": [
    "### 먼저 그룹(집단)에 따른 데이터를 나눠줘야함 !!"
   ]
  },
  {
   "cell_type": "code",
   "execution_count": 2,
   "metadata": {},
   "outputs": [
    {
     "name": "stdout",
     "output_type": "stream",
     "text": [
      "6.521\n"
     ]
    }
   ],
   "source": [
    "from scipy.stats import kruskal\n",
    "\n",
    "group_a = df[df[\"ID\"] =='A'][\"value\"]\n",
    "group_b = df[df[\"ID\"] =='B'][\"value\"]\n",
    "group_c = df[df[\"ID\"] =='C'][\"value\"]\n",
    "\n",
    "stats, p = kruskal(group_a, group_b, group_c)\n",
    "\n",
    "# 2-1) 검정통계량\n",
    "print(round(stats, 3))"
   ]
  },
  {
   "cell_type": "code",
   "execution_count": 6,
   "metadata": {},
   "outputs": [
    {
     "name": "stdout",
     "output_type": "stream",
     "text": [
      "0.038\n"
     ]
    }
   ],
   "source": [
    "# 2-2) p-value\n",
    "print(round(p, 3))"
   ]
  },
  {
   "cell_type": "code",
   "execution_count": 4,
   "metadata": {},
   "outputs": [
    {
     "name": "stdout",
     "output_type": "stream",
     "text": [
      "대립가설\n"
     ]
    }
   ],
   "source": [
    "# 2-3) 유의한 가설\n",
    "# p-value가 0.05보다 작으므로, p<a -> 귀무가설 기각. 따라서 대립가설 채택\n",
    "print(\"대립가설\")"
   ]
  },
  {
   "attachments": {},
   "cell_type": "markdown",
   "metadata": {},
   "source": [
    "---"
   ]
  },
  {
   "attachments": {},
   "cell_type": "markdown",
   "metadata": {},
   "source": [
    "## 4회 1번 : 카이제곱 독립성 검정\n",
    "어느 대학교의 신입생의 학과별 성별에 대한 데이터이다. 학생들의 학과와 성별이 서로 독립적인지 여부를 확인하기 위해 카이제곱 독립성 검정을 실시 하려한다.\n",
    "\n",
    "- 1-1) 학과 평균 인원에 대한 값을 소숫점 이하 3자리까지 구하여라. \n",
    "- 1-2) 카이제곱검정 독립성 검정 통계량을 소숫점 이하 3자리까지 구하여라.\n",
    "- 1-3) 카이제곱검정 독립성 검정의 pvalue를 소숫점 이하 3자리까지 구하여라. \n",
    "- 1-4) 유의수준 0.05하에서 귀무가설과 대립가설중 유의한 것을 출력하라."
   ]
  },
  {
   "cell_type": "code",
   "execution_count": 20,
   "metadata": {},
   "outputs": [
    {
     "data": {
      "text/html": [
       "<div>\n",
       "<style scoped>\n",
       "    .dataframe tbody tr th:only-of-type {\n",
       "        vertical-align: middle;\n",
       "    }\n",
       "\n",
       "    .dataframe tbody tr th {\n",
       "        vertical-align: top;\n",
       "    }\n",
       "\n",
       "    .dataframe thead th {\n",
       "        text-align: right;\n",
       "    }\n",
       "</style>\n",
       "<table border=\"1\" class=\"dataframe\">\n",
       "  <thead>\n",
       "    <tr style=\"text-align: right;\">\n",
       "      <th></th>\n",
       "      <th>학번</th>\n",
       "      <th>학과</th>\n",
       "      <th>성별</th>\n",
       "    </tr>\n",
       "  </thead>\n",
       "  <tbody>\n",
       "    <tr>\n",
       "      <th>0</th>\n",
       "      <td>DFSKJK_1</td>\n",
       "      <td>경영학과</td>\n",
       "      <td>여</td>\n",
       "    </tr>\n",
       "    <tr>\n",
       "      <th>1</th>\n",
       "      <td>DFSKJK_2</td>\n",
       "      <td>사회학과</td>\n",
       "      <td>여</td>\n",
       "    </tr>\n",
       "    <tr>\n",
       "      <th>2</th>\n",
       "      <td>DFSKJK_3</td>\n",
       "      <td>기계공학과</td>\n",
       "      <td>여</td>\n",
       "    </tr>\n",
       "    <tr>\n",
       "      <th>3</th>\n",
       "      <td>DFSKJK_4</td>\n",
       "      <td>경제학과</td>\n",
       "      <td>남</td>\n",
       "    </tr>\n",
       "    <tr>\n",
       "      <th>4</th>\n",
       "      <td>DFSKJK_5</td>\n",
       "      <td>기계공학과</td>\n",
       "      <td>여</td>\n",
       "    </tr>\n",
       "  </tbody>\n",
       "</table>\n",
       "</div>"
      ],
      "text/plain": [
       "         학번     학과 성별\n",
       "0  DFSKJK_1   경영학과  여\n",
       "1  DFSKJK_2   사회학과  여\n",
       "2  DFSKJK_3  기계공학과  여\n",
       "3  DFSKJK_4   경제학과  남\n",
       "4  DFSKJK_5  기계공학과  여"
      ]
     },
     "execution_count": 20,
     "metadata": {},
     "output_type": "execute_result"
    }
   ],
   "source": [
    "import pandas as pd \n",
    "df= pd.read_csv('https://raw.githubusercontent.com/Datamanim/datarepo/main/krdatacertificate/e4_p3_1_.csv')\n",
    "df.head()"
   ]
  },
  {
   "cell_type": "code",
   "execution_count": 25,
   "metadata": {},
   "outputs": [
    {
     "name": "stdout",
     "output_type": "stream",
     "text": [
      "170.333\n"
     ]
    }
   ],
   "source": [
    "# 1) 학과 평균 인원\n",
    "mean = df[\"학과\"].value_counts().mean()\n",
    "print(round(mean, 3))"
   ]
  },
  {
   "cell_type": "code",
   "execution_count": null,
   "metadata": {},
   "outputs": [],
   "source": [
    "# result= round(df.groupby(['학과']).size().mean(),3)\n",
    "# print(result)"
   ]
  },
  {
   "cell_type": "code",
   "execution_count": 29,
   "metadata": {},
   "outputs": [
    {
     "name": "stdout",
     "output_type": "stream",
     "text": [
      "5.646\n"
     ]
    }
   ],
   "source": [
    "# 2) 검정통계량\n",
    "# 학과와 성별이 독립적인지를 확인하는 카이제곱 검정\n",
    "# 학과와 성별에 따른 교차표를 생성해야함\n",
    "\n",
    "from scipy.stats import chi2_contingency\n",
    "\n",
    "table = pd.crosstab(df[\"학과\"], df[\"성별\"])\n",
    "stats, p, df, expected = chi2_contingency(table)\n",
    "print(round(stats, 3))"
   ]
  },
  {
   "cell_type": "code",
   "execution_count": 30,
   "metadata": {},
   "outputs": [
    {
     "name": "stdout",
     "output_type": "stream",
     "text": [
      "0.342\n"
     ]
    }
   ],
   "source": [
    "# 3) p-value\n",
    "print(round(p, 3))"
   ]
  },
  {
   "cell_type": "code",
   "execution_count": 31,
   "metadata": {},
   "outputs": [
    {
     "name": "stdout",
     "output_type": "stream",
     "text": [
      "귀무가설\n"
     ]
    }
   ],
   "source": [
    "# 4) 유의한 가설 출력\n",
    "# 0.05 유의수준 하에서, p-value가 유의수준보다 크기때문에 귀무가설을 채택한다.\n",
    "print(\"귀무가설\")"
   ]
  },
  {
   "attachments": {},
   "cell_type": "markdown",
   "metadata": {},
   "source": [
    "## 4회 2번 : 일표본 모비율 검정 (Z분포 이용) ???????????????????\n",
    "어느 학교에서 수학 시험을 본 학생 100명 중 60명이 60점 이상을 받았다. 이 학교의 수학 시험의 평균 점수가 60점 이상인지 95%의 신뢰 수준에서 검정하려한다.\n",
    "\n",
    "- 2-1) 검정 통계량을 소숫점 이하 3자리에서 구하시오.\n",
    "- 2-2) pvalue를 소숫점 이하 3자리까지 구하고 귀무가설과 대립가설중 유의한 것을 출력하라."
   ]
  },
  {
   "cell_type": "code",
   "execution_count": 36,
   "metadata": {},
   "outputs": [
    {
     "name": "stdout",
     "output_type": "stream",
     "text": [
      "0.0\n",
      "0.5\n",
      "귀무 가설을 채택합니다. 수학 시험의 평균 점수는 60점 이하입니다.\n"
     ]
    }
   ],
   "source": [
    "from statsmodels.stats.proportion import proportions_ztest\n",
    "\n",
    "n = 100 # 샘플 사이즈\n",
    "x = 60 # 60점 이상을 받은 학생 수\n",
    "\n",
    "# 귀무 가설(H0): 수학 시험의 평균 점수는 60점 이하이다.\n",
    "# 대립 가설(H1): 수학 시험의 평균 점수는 60점 이상이다.\n",
    "\n",
    "alpha = 0.05  # 유의 수준\n",
    "\n",
    "# 일표본 모비율 검정 수행\n",
    "stat, p_value = proportions_ztest(x, n, value=0.6, alternative='larger')\n",
    "print(stat)\n",
    "print(p_value)\n",
    "\n",
    "# p-value와 유의 수준을 비교하여 검정 결과 도출\n",
    "if p_value < alpha:\n",
    "    print(\"귀무 가설을 기각합니다. 수학 시험의 평균 점수는 60점 이상입니다.\")\n",
    "else:\n",
    "    print(\"귀무 가설을 채택합니다. 수학 시험의 평균 점수는 60점 이하입니다.\")\n"
   ]
  },
  {
   "cell_type": "code",
   "execution_count": 33,
   "metadata": {},
   "outputs": [
    {
     "name": "stdout",
     "output_type": "stream",
     "text": [
      "1.959963984540054\n"
     ]
    }
   ],
   "source": [
    "import numpy as np\n",
    "\n",
    "n = 100\n",
    "p_hat = 60/100\n",
    "conf_level = 0.95\n",
    "alpha = 0.05\n",
    "\n",
    "from scipy.stats import norm\n",
    "SE = np.sqrt(p * (1-p) / n) # 표본 비율로 SE 계산\n",
    "\n",
    "z_critical = norm.ppf((1 + conf_level)/2)\n",
    "print(z_critical)\n"
   ]
  },
  {
   "cell_type": "code",
   "execution_count": 32,
   "metadata": {},
   "outputs": [
    {
     "name": "stdout",
     "output_type": "stream",
     "text": [
      "2.0\n"
     ]
    }
   ],
   "source": [
    "import numpy as np\n",
    "n = 100\n",
    "p_hat = 0.6\n",
    "\n",
    "p = 0.5\n",
    "alpha = 0.05\n",
    "\n",
    "# 검정 통계량 계산\n",
    "z = round((p_hat - p) / np.sqrt(p * (1 - p) / n),3)\n",
    "print(z)"
   ]
  },
  {
   "attachments": {},
   "cell_type": "markdown",
   "metadata": {},
   "source": [
    "### 4-2 다시 풀어야함"
   ]
  },
  {
   "attachments": {},
   "cell_type": "markdown",
   "metadata": {},
   "source": [
    "---"
   ]
  },
  {
   "attachments": {},
   "cell_type": "markdown",
   "metadata": {},
   "source": [
    "## 3회 1번 : 카이제곱 적합성 검정\n",
    "다이어트약의 전후 체중 변화 기록이다. 투약 후 체중에서 투약 전 체중을 뺏을 때 값은 일반 적으로 세가지 등급으로 나눈다. -3이하 : A등급, -3초과 0이하 : B등급, 0 초과 : C등급. 약 실험에서 A,B,C 그룹간의 인원 수 비율은 2:1:1로 알려져 있다. 위 데이터 표본은 각 범주의 비율에 적합한지 카이제곱 검정하려한다.\n",
    "\n",
    "- 1-1) A등급에 해당하는 유저는 몇명인지 확인하라.\n",
    "- 1-2) 카이제곱검정 통계량을 반올림하여 소숫점 이하 3째자리까지 구하여라.\n",
    "- 1-3) 카이제곱 검정 p값을 반올림하여 소숫점 이하 3자리까지 구하라. \n",
    "- 1-4) 유의수준 0.05하에서 귀무가설과 대립가설중 유의한 가설을 하나를 선택하시오(귀무/대립)."
   ]
  },
  {
   "cell_type": "code",
   "execution_count": 20,
   "metadata": {},
   "outputs": [
    {
     "data": {
      "text/html": [
       "<div>\n",
       "<style scoped>\n",
       "    .dataframe tbody tr th:only-of-type {\n",
       "        vertical-align: middle;\n",
       "    }\n",
       "\n",
       "    .dataframe tbody tr th {\n",
       "        vertical-align: top;\n",
       "    }\n",
       "\n",
       "    .dataframe thead th {\n",
       "        text-align: right;\n",
       "    }\n",
       "</style>\n",
       "<table border=\"1\" class=\"dataframe\">\n",
       "  <thead>\n",
       "    <tr style=\"text-align: right;\">\n",
       "      <th></th>\n",
       "      <th>ID</th>\n",
       "      <th>투약전</th>\n",
       "      <th>투약후</th>\n",
       "    </tr>\n",
       "  </thead>\n",
       "  <tbody>\n",
       "    <tr>\n",
       "      <th>0</th>\n",
       "      <td>user_1</td>\n",
       "      <td>55.137</td>\n",
       "      <td>56.106</td>\n",
       "    </tr>\n",
       "    <tr>\n",
       "      <th>1</th>\n",
       "      <td>user_2</td>\n",
       "      <td>66.584</td>\n",
       "      <td>60.409</td>\n",
       "    </tr>\n",
       "    <tr>\n",
       "      <th>2</th>\n",
       "      <td>user_3</td>\n",
       "      <td>52.259</td>\n",
       "      <td>50.639</td>\n",
       "    </tr>\n",
       "    <tr>\n",
       "      <th>3</th>\n",
       "      <td>user_4</td>\n",
       "      <td>77.081</td>\n",
       "      <td>69.164</td>\n",
       "    </tr>\n",
       "    <tr>\n",
       "      <th>4</th>\n",
       "      <td>user_5</td>\n",
       "      <td>62.677</td>\n",
       "      <td>57.622</td>\n",
       "    </tr>\n",
       "  </tbody>\n",
       "</table>\n",
       "</div>"
      ],
      "text/plain": [
       "       ID     투약전     투약후\n",
       "0  user_1  55.137  56.106\n",
       "1  user_2  66.584  60.409\n",
       "2  user_3  52.259  50.639\n",
       "3  user_4  77.081  69.164\n",
       "4  user_5  62.677  57.622"
      ]
     },
     "execution_count": 20,
     "metadata": {},
     "output_type": "execute_result"
    }
   ],
   "source": [
    "import pandas as pd \n",
    "df = pd.read_csv('https://raw.githubusercontent.com/Datamanim/datarepo/main/krdatacertificate/e3_p3_1.csv')\n",
    "df.head()"
   ]
  },
  {
   "attachments": {},
   "cell_type": "markdown",
   "metadata": {},
   "source": [
    "### 적합도 검정\n",
    "- 표본의 빈도를 이용하여 모집단의 가정된 빈도나 가정된 비율을 만족하는지를 확인하는 것\n",
    "- 관찰빈도와 기대빈도의 차이를 이용한 검정\n",
    "\n",
    "#### 1) 본 문제의 가설?\n",
    "- 귀무가설 : 실험에서 A,B,C 그룹간의 인원 수 비율은 2:1:1이다.\n",
    "- 대립가설 : 실험에서 A,B,C 그룹간의 인원 수 비율은 2:1:1이 아니다.\n",
    "\n",
    "#### 2) A, B, C 그룹 간 인원수 비율은 2:1:1로 알려져 있다 -> 기대도수 계산 시 0.5, 0.25, 0.25 곱해주기\n",
    "- 2 : 1 : 1 = 2/4 : 1/2 : 1/2  $\\rightarrow$ 0.5 : 0.25 : 0.25 \n",
    "\n",
    "#### 3) 가장 먼저 기대빈도, 관찰빈도 계산 !!\n"
   ]
  },
  {
   "cell_type": "code",
   "execution_count": 21,
   "metadata": {},
   "outputs": [
    {
     "name": "stdout",
     "output_type": "stream",
     "text": [
      "121\n"
     ]
    }
   ],
   "source": [
    "# 1) A 등급에 해당하는 유저\n",
    "\n",
    "# 먼저 투약후 체중 - 투약 전 체중 차이 칼럼을 새로 생성\n",
    "df[\"diff\"] = df[\"투약후\"] - df[\"투약전\"]\n",
    "result = len(df[df[\"diff\"] <= -3])\n",
    "print(result)"
   ]
  },
  {
   "cell_type": "code",
   "execution_count": 22,
   "metadata": {},
   "outputs": [
    {
     "data": {
      "text/html": [
       "<div>\n",
       "<style scoped>\n",
       "    .dataframe tbody tr th:only-of-type {\n",
       "        vertical-align: middle;\n",
       "    }\n",
       "\n",
       "    .dataframe tbody tr th {\n",
       "        vertical-align: top;\n",
       "    }\n",
       "\n",
       "    .dataframe thead th {\n",
       "        text-align: right;\n",
       "    }\n",
       "</style>\n",
       "<table border=\"1\" class=\"dataframe\">\n",
       "  <thead>\n",
       "    <tr style=\"text-align: right;\">\n",
       "      <th></th>\n",
       "      <th>ID</th>\n",
       "      <th>투약전</th>\n",
       "      <th>투약후</th>\n",
       "      <th>diff</th>\n",
       "      <th>cat</th>\n",
       "    </tr>\n",
       "  </thead>\n",
       "  <tbody>\n",
       "    <tr>\n",
       "      <th>0</th>\n",
       "      <td>user_1</td>\n",
       "      <td>55.137</td>\n",
       "      <td>56.106</td>\n",
       "      <td>0.969</td>\n",
       "      <td>C</td>\n",
       "    </tr>\n",
       "    <tr>\n",
       "      <th>1</th>\n",
       "      <td>user_2</td>\n",
       "      <td>66.584</td>\n",
       "      <td>60.409</td>\n",
       "      <td>-6.175</td>\n",
       "      <td>A</td>\n",
       "    </tr>\n",
       "    <tr>\n",
       "      <th>2</th>\n",
       "      <td>user_3</td>\n",
       "      <td>52.259</td>\n",
       "      <td>50.639</td>\n",
       "      <td>-1.620</td>\n",
       "      <td>B</td>\n",
       "    </tr>\n",
       "    <tr>\n",
       "      <th>3</th>\n",
       "      <td>user_4</td>\n",
       "      <td>77.081</td>\n",
       "      <td>69.164</td>\n",
       "      <td>-7.917</td>\n",
       "      <td>A</td>\n",
       "    </tr>\n",
       "    <tr>\n",
       "      <th>4</th>\n",
       "      <td>user_5</td>\n",
       "      <td>62.677</td>\n",
       "      <td>57.622</td>\n",
       "      <td>-5.055</td>\n",
       "      <td>A</td>\n",
       "    </tr>\n",
       "  </tbody>\n",
       "</table>\n",
       "</div>"
      ],
      "text/plain": [
       "       ID     투약전     투약후   diff cat\n",
       "0  user_1  55.137  56.106  0.969   C\n",
       "1  user_2  66.584  60.409 -6.175   A\n",
       "2  user_3  52.259  50.639 -1.620   B\n",
       "3  user_4  77.081  69.164 -7.917   A\n",
       "4  user_5  62.677  57.622 -5.055   A"
      ]
     },
     "execution_count": 22,
     "metadata": {},
     "output_type": "execute_result"
    }
   ],
   "source": [
    "# A, B, C 그룹을 할당하자\n",
    "\n",
    "def cat(x):\n",
    "    cat= ''\n",
    "    if x <= -3 :\n",
    "        cat = \"A\"\n",
    "    elif -3 < x <= 0 :\n",
    "        cat = \"B\"\n",
    "    elif x > 0 :\n",
    "        cat = \"C\"\n",
    "    return cat\n",
    "\n",
    "df[\"cat\"]= df[\"diff\"].apply(cat)\n",
    "\n",
    "df.head()"
   ]
  },
  {
   "attachments": {},
   "cell_type": "markdown",
   "metadata": {},
   "source": [
    "### 관찰빈도와 기대빈도를 리스트 형식으로 바로 이용"
   ]
  },
  {
   "cell_type": "code",
   "execution_count": 45,
   "metadata": {},
   "outputs": [
    {
     "name": "stdout",
     "output_type": "stream",
     "text": [
      "3.613\n"
     ]
    }
   ],
   "source": [
    "# 리스트로 적용\n",
    "obs = df[\"cat\"].value_counts().values # 관찰빈도\n",
    "exp = [len(df['cat'])*0.5, len(df['cat'])*0.25, len(df['cat'])*0.25] # 기대빈도\n",
    "\n",
    "from scipy.stats import chisquare\n",
    "s,p = chisquare(obs, exp)\n",
    "\n",
    "# 2) 검정통계량\n",
    "print(round(s, 3))"
   ]
  },
  {
   "cell_type": "code",
   "execution_count": 46,
   "metadata": {},
   "outputs": [
    {
     "name": "stdout",
     "output_type": "stream",
     "text": [
      "0.164\n"
     ]
    }
   ],
   "source": [
    "# 3) p-value \n",
    "print(round(p, 3))"
   ]
  },
  {
   "cell_type": "code",
   "execution_count": 47,
   "metadata": {},
   "outputs": [
    {
     "name": "stdout",
     "output_type": "stream",
     "text": [
      "귀무\n"
     ]
    }
   ],
   "source": [
    "# 4) 가설 채택\n",
    "# p-value값이 0.05보다 크므로, 귀무가설을 기각하지 못한다. 따라서 귀무가설을 채택\n",
    "print(\"귀무\")"
   ]
  },
  {
   "attachments": {},
   "cell_type": "markdown",
   "metadata": {},
   "source": [
    "### 관찰빈도와 기대빈도를 데이터프레임의 칼럼 형식으로 이용"
   ]
  },
  {
   "cell_type": "code",
   "execution_count": 48,
   "metadata": {},
   "outputs": [
    {
     "name": "stdout",
     "output_type": "stream",
     "text": [
      "3.613\n"
     ]
    }
   ],
   "source": [
    "target = df['cat'].value_counts().sort_index().to_frame()\n",
    "target['expected'] = [target['cat'].sum()*0.5,target['cat'].sum()*0.25,target['cat'].sum()*0.25]\n",
    "\n",
    "from scipy.stats import chisquare\n",
    "s,p = chisquare(target['cat'],target['expected'])\n",
    "\n",
    "round_s = round(s,3)\n",
    "print(round_s)"
   ]
  },
  {
   "attachments": {},
   "cell_type": "markdown",
   "metadata": {},
   "source": [
    "## 3회 2번 : 대응표본 t검정"
   ]
  },
  {
   "attachments": {},
   "cell_type": "markdown",
   "metadata": {},
   "source": [
    "다이어트약의 전후 체중 변화 기록이다. A, B 공장에서 생산한 기계들의 rpm 값들을 기록한 데이터이다. 대응 표본 t 검정을 통해 B공장 제품들이 A 공장 제품들보다 rpm이 높다고 말할 수 있는지 검정하려한다.\n",
    "\n",
    "- 2-1) A,B 공장 각각 정규성을 가지는지 샤피로 검정을 통해 확인하라. (각 공장의 pvalue 출력할 것)\n",
    "- 2-2) A,B 공장 생산 제품의 rpm은 등분산성을 가지는지 levene 검정을 통해 확인하라. (각 공장의 pvalue 출력할 것) \n",
    "- 2-3) 대응 표본 t 검정을 통해 B공장 제품들의 rpm이 A 공장 제품의 rpm보다 크다고 말할 수 있는지 검정하라. pvalue를 소숫점 이하 3자리까지 출력하라.\n",
    "- 2-4) 위 검정 결과에 따라 귀무가설, 대립가설 중 하나를 출력하라."
   ]
  },
  {
   "cell_type": "code",
   "execution_count": 50,
   "metadata": {},
   "outputs": [
    {
     "data": {
      "text/html": [
       "<div>\n",
       "<style scoped>\n",
       "    .dataframe tbody tr th:only-of-type {\n",
       "        vertical-align: middle;\n",
       "    }\n",
       "\n",
       "    .dataframe tbody tr th {\n",
       "        vertical-align: top;\n",
       "    }\n",
       "\n",
       "    .dataframe thead th {\n",
       "        text-align: right;\n",
       "    }\n",
       "</style>\n",
       "<table border=\"1\" class=\"dataframe\">\n",
       "  <thead>\n",
       "    <tr style=\"text-align: right;\">\n",
       "      <th></th>\n",
       "      <th>rpm</th>\n",
       "      <th>group</th>\n",
       "    </tr>\n",
       "  </thead>\n",
       "  <tbody>\n",
       "    <tr>\n",
       "      <th>0</th>\n",
       "      <td>163.6</td>\n",
       "      <td>A</td>\n",
       "    </tr>\n",
       "    <tr>\n",
       "      <th>1</th>\n",
       "      <td>246.9</td>\n",
       "      <td>A</td>\n",
       "    </tr>\n",
       "    <tr>\n",
       "      <th>2</th>\n",
       "      <td>234.9</td>\n",
       "      <td>A</td>\n",
       "    </tr>\n",
       "    <tr>\n",
       "      <th>3</th>\n",
       "      <td>156.9</td>\n",
       "      <td>A</td>\n",
       "    </tr>\n",
       "    <tr>\n",
       "      <th>4</th>\n",
       "      <td>226.6</td>\n",
       "      <td>A</td>\n",
       "    </tr>\n",
       "  </tbody>\n",
       "</table>\n",
       "</div>"
      ],
      "text/plain": [
       "     rpm group\n",
       "0  163.6     A\n",
       "1  246.9     A\n",
       "2  234.9     A\n",
       "3  156.9     A\n",
       "4  226.6     A"
      ]
     },
     "execution_count": 50,
     "metadata": {},
     "output_type": "execute_result"
    }
   ],
   "source": [
    "import pandas as pd\n",
    "df = pd.read_csv('https://raw.githubusercontent.com/Datamanim/datarepo/main/krdatacertificate/e3_p3_2_.csv')\n",
    "df.head()"
   ]
  },
  {
   "attachments": {},
   "cell_type": "markdown",
   "metadata": {},
   "source": [
    "### 1) shapiro 정규성 검정\n",
    "- 귀무가설 : 표본의 모집단이 정규분포와 차이가 없다. (정규성을 만족한다.)\n",
    "- 대립가설 : 표본의 모집단이 정규분포와 차이가 있다."
   ]
  },
  {
   "cell_type": "code",
   "execution_count": 52,
   "metadata": {},
   "outputs": [],
   "source": [
    "# 공장별로 데이터 분할\n",
    "# df['group'].value_counts() # 각 100개씩\n",
    "\n",
    "factory_A = df[df[\"group\"] ==\"A\"][\"rpm\"]\n",
    "factory_B = df[df[\"group\"] ==\"B\"][\"rpm\"]"
   ]
  },
  {
   "cell_type": "code",
   "execution_count": 57,
   "metadata": {},
   "outputs": [
    {
     "name": "stdout",
     "output_type": "stream",
     "text": [
      "ShapiroResult(statistic=0.9863898158073425, pvalue=0.397915244102478)\n",
      "ShapiroResult(statistic=0.9943944811820984, pvalue=0.9562830924987793)\n"
     ]
    }
   ],
   "source": [
    "# 1) 샤피로 정규성 검정\n",
    "from scipy.stats import shapiro\n",
    "\n",
    "# p-value만 뺴낼거면 s, p로 객체 할당해서 print(p)\n",
    "A = shapiro(factory_A)\n",
    "B = shapiro(factory_B)\n",
    "print(A)\n",
    "print(B)"
   ]
  },
  {
   "attachments": {},
   "cell_type": "markdown",
   "metadata": {},
   "source": [
    "#### A공장, B공장 모두 귀무가설을 채택하여 정규성을 만족한다고 할 수 있다."
   ]
  },
  {
   "attachments": {},
   "cell_type": "markdown",
   "metadata": {},
   "source": [
    "### 2) levene 등분산성 검정\n",
    "- 귀무가설 (H0): 각 그룹의 모집단 분산은 동일하다.\n",
    "- 대립가설 (H1): 적어도 하나의 그룹의 모집단 분산은 다른 그룹과 다르다."
   ]
  },
  {
   "cell_type": "code",
   "execution_count": 61,
   "metadata": {},
   "outputs": [
    {
     "name": "stdout",
     "output_type": "stream",
     "text": [
      "0.904\n"
     ]
    }
   ],
   "source": [
    "# 2) levene 등분산성 검정\n",
    "from scipy.stats import levene\n",
    "s, p = levene(factory_A, factory_B)\n",
    "print(round(p, 3))"
   ]
  },
  {
   "attachments": {},
   "cell_type": "markdown",
   "metadata": {},
   "source": [
    "#### p-value가 유의수준 0.05보다 크므로, 귀무가설을 기각하지 못한다. 따라서 등분산성을 만족한다고 할 수 있다."
   ]
  },
  {
   "attachments": {},
   "cell_type": "markdown",
   "metadata": {},
   "source": [
    "### 3) 대응표본 t 검정\n",
    "대응 표본 t 검정을 통해 B공장 제품들의 rpm이 A 공장 제품의 rpm보다 크다고 말할 수 있는지 검정하라. pvalue를 소숫점 이하 3자리까지 출력하라.\n",
    "- 귀무가설 : B공장 rpm이 A공장 rpm보다 작거나 같다.\n",
    "- 대립가설 : B공장 rpm이 A공장 rpm보다 크다."
   ]
  },
  {
   "cell_type": "code",
   "execution_count": 68,
   "metadata": {},
   "outputs": [
    {
     "name": "stdout",
     "output_type": "stream",
     "text": [
      "0.009\n"
     ]
    }
   ],
   "source": [
    "# 3) 대응표본 t 검정\n",
    "from scipy.stats import ttest_rel\n",
    "s, p = ttest_rel(factory_B, factory_A, alternative = \"greater\")\n",
    "print(round(p,3))"
   ]
  },
  {
   "attachments": {},
   "cell_type": "markdown",
   "metadata": {},
   "source": [
    "ttest_rel 함수에서 factory_B, factory_A의 순서가 바뀌면 값이 완전 달라진다 !!!"
   ]
  },
  {
   "cell_type": "code",
   "execution_count": 66,
   "metadata": {},
   "outputs": [
    {
     "name": "stdout",
     "output_type": "stream",
     "text": [
      "대립\n"
     ]
    }
   ],
   "source": [
    "# 4) 유의한 가설은?\n",
    "# 유의수준 0.05에서, p-value가 유의수준보다 작으므로 귀무가설을 기각한다. 따라서 차이가 있다고 말할 수 있다.\n",
    "print(\"대립\")"
   ]
  },
  {
   "attachments": {},
   "cell_type": "markdown",
   "metadata": {},
   "source": [
    "---"
   ]
  },
  {
   "attachments": {},
   "cell_type": "markdown",
   "metadata": {},
   "source": [
    "## 2회 1번 : \n",
    "어느 호수에서 잡은 물고기 122마리 길이 데이터(자체제작)\n",
    "\n",
    "- 1-1) 122마리의 height 평균값을 m(미터) 단위로 소숫점 이하 5자리까지 실수 값만 출력하라\n",
    "- 1-2) 모집단의 평균 길이가 30cm 인지 확인하려 일표본 t 검정을 시행하여 확인하려한다. 검정통계량을 소숫점 이하 3째자리까지 구하여라\n",
    "- 1-3) 위의 통계량에 대한 p-값을 구하고 (반올림하여 소숫점 이하 3째자리), 유의수준 0.05하에서 귀무가설과 대립가설중 유의한 가설을 하나를 선택하시오(귀무/대립)"
   ]
  },
  {
   "cell_type": "code",
   "execution_count": 85,
   "metadata": {},
   "outputs": [
    {
     "data": {
      "text/html": [
       "<div>\n",
       "<style scoped>\n",
       "    .dataframe tbody tr th:only-of-type {\n",
       "        vertical-align: middle;\n",
       "    }\n",
       "\n",
       "    .dataframe tbody tr th {\n",
       "        vertical-align: top;\n",
       "    }\n",
       "\n",
       "    .dataframe thead th {\n",
       "        text-align: right;\n",
       "    }\n",
       "</style>\n",
       "<table border=\"1\" class=\"dataframe\">\n",
       "  <thead>\n",
       "    <tr style=\"text-align: right;\">\n",
       "      <th></th>\n",
       "      <th>fish</th>\n",
       "      <th>height</th>\n",
       "    </tr>\n",
       "  </thead>\n",
       "  <tbody>\n",
       "    <tr>\n",
       "      <th>0</th>\n",
       "      <td>fish_1</td>\n",
       "      <td>33.74cm</td>\n",
       "    </tr>\n",
       "    <tr>\n",
       "      <th>1</th>\n",
       "      <td>fish_2</td>\n",
       "      <td>31.64cm</td>\n",
       "    </tr>\n",
       "    <tr>\n",
       "      <th>2</th>\n",
       "      <td>fish_3</td>\n",
       "      <td>27.49cm</td>\n",
       "    </tr>\n",
       "    <tr>\n",
       "      <th>3</th>\n",
       "      <td>fish_4</td>\n",
       "      <td>31.43cm</td>\n",
       "    </tr>\n",
       "    <tr>\n",
       "      <th>4</th>\n",
       "      <td>fish_5</td>\n",
       "      <td>27.56cm</td>\n",
       "    </tr>\n",
       "  </tbody>\n",
       "</table>\n",
       "</div>"
      ],
      "text/plain": [
       "     fish   height\n",
       "0  fish_1  33.74cm\n",
       "1  fish_2  31.64cm\n",
       "2  fish_3  27.49cm\n",
       "3  fish_4  31.43cm\n",
       "4  fish_5  27.56cm"
      ]
     },
     "execution_count": 85,
     "metadata": {},
     "output_type": "execute_result"
    }
   ],
   "source": [
    "import pandas as pd\n",
    "df = pd.read_csv('https://raw.githubusercontent.com/Datamanim/datarepo/main/krdatacertificate/e2_p3_1.csv')\n",
    "df.head(5)"
   ]
  },
  {
   "cell_type": "code",
   "execution_count": 86,
   "metadata": {},
   "outputs": [
    {
     "data": {
      "text/html": [
       "<div>\n",
       "<style scoped>\n",
       "    .dataframe tbody tr th:only-of-type {\n",
       "        vertical-align: middle;\n",
       "    }\n",
       "\n",
       "    .dataframe tbody tr th {\n",
       "        vertical-align: top;\n",
       "    }\n",
       "\n",
       "    .dataframe thead th {\n",
       "        text-align: right;\n",
       "    }\n",
       "</style>\n",
       "<table border=\"1\" class=\"dataframe\">\n",
       "  <thead>\n",
       "    <tr style=\"text-align: right;\">\n",
       "      <th></th>\n",
       "      <th>fish</th>\n",
       "      <th>height</th>\n",
       "    </tr>\n",
       "  </thead>\n",
       "  <tbody>\n",
       "    <tr>\n",
       "      <th>0</th>\n",
       "      <td>fish_1</td>\n",
       "      <td>0.3374</td>\n",
       "    </tr>\n",
       "    <tr>\n",
       "      <th>1</th>\n",
       "      <td>fish_2</td>\n",
       "      <td>0.3164</td>\n",
       "    </tr>\n",
       "    <tr>\n",
       "      <th>2</th>\n",
       "      <td>fish_3</td>\n",
       "      <td>0.2749</td>\n",
       "    </tr>\n",
       "    <tr>\n",
       "      <th>3</th>\n",
       "      <td>fish_4</td>\n",
       "      <td>0.3143</td>\n",
       "    </tr>\n",
       "    <tr>\n",
       "      <th>4</th>\n",
       "      <td>fish_5</td>\n",
       "      <td>0.2756</td>\n",
       "    </tr>\n",
       "  </tbody>\n",
       "</table>\n",
       "</div>"
      ],
      "text/plain": [
       "     fish  height\n",
       "0  fish_1  0.3374\n",
       "1  fish_2  0.3164\n",
       "2  fish_3  0.2749\n",
       "3  fish_4  0.3143\n",
       "4  fish_5  0.2756"
      ]
     },
     "execution_count": 86,
     "metadata": {},
     "output_type": "execute_result"
    }
   ],
   "source": [
    "# height가 object 타입이고, cm를 제거\n",
    "df[\"height\"] = df[\"height\"].str.split(\"cm\").str[0]\n",
    "df[\"height\"] = pd.to_numeric(df[\"height\"])\n",
    "df[\"height\"] = df[\"height\"] / 100     # 1m = 100 cm\n",
    "df.head()"
   ]
  },
  {
   "cell_type": "code",
   "execution_count": 88,
   "metadata": {},
   "outputs": [
    {
     "name": "stdout",
     "output_type": "stream",
     "text": [
      "0.29951\n"
     ]
    }
   ],
   "source": [
    "result_1 = df[\"height\"].mean()\n",
    "print(round(result_1, 5))"
   ]
  },
  {
   "attachments": {},
   "cell_type": "markdown",
   "metadata": {},
   "source": [
    "## 2회 2번 :"
   ]
  },
  {
   "cell_type": "code",
   "execution_count": null,
   "metadata": {},
   "outputs": [],
   "source": []
  },
  {
   "cell_type": "code",
   "execution_count": null,
   "metadata": {},
   "outputs": [],
   "source": []
  }
 ],
 "metadata": {
  "kernelspec": {
   "display_name": "Python 3",
   "language": "python",
   "name": "python3"
  },
  "language_info": {
   "codemirror_mode": {
    "name": "ipython",
    "version": 3
   },
   "file_extension": ".py",
   "mimetype": "text/x-python",
   "name": "python",
   "nbconvert_exporter": "python",
   "pygments_lexer": "ipython3",
   "version": "3.10.11"
  },
  "orig_nbformat": 4
 },
 "nbformat": 4,
 "nbformat_minor": 2
}
