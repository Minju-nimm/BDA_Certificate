{
 "cells": [
  {
   "attachments": {},
   "cell_type": "markdown",
   "id": "f0e2b2f8",
   "metadata": {},
   "source": [
    "# 대응표본 t검정 (paired t-test)\n",
    "- 대응(paired), 연관 : 동일인에 대해 두 번 측정하거나, 부모-자식처럼 관련있는 사람들에 대해 측정\n",
    "    - 같은 사람으로부터 나온 데이터는 당연히 관련이 있을 수 밖에 없음"
   ]
  },
  {
   "attachments": {},
   "cell_type": "markdown",
   "id": "284c6120",
   "metadata": {},
   "source": [
    "## 대응표본 t검정 표본평균 ($\\mu_d$의 표본평균)\n",
    "<img src=\"https://ifh.cc/g/AgFZ9y.jpg\" width=500/>\n",
    "\n",
    "<img src=\"https://ifh.cc/g/oxyPZr.jpg\" width=700/>\n",
    "\n",
    "\n",
    "[출처 : 대응표본의 가설검정하는 법](https://math100.tistory.com/95) "
   ]
  },
  {
   "attachments": {},
   "cell_type": "markdown",
   "id": "c9928f46",
   "metadata": {},
   "source": [
    "## '대립가설'이 정확히 무엇인지 잘 따져야한다 !\n",
    "- 양측검정의 경우에는 변수 순서가 유의하지 않지만, 단측검정의 경우 변수 순서가 바뀌면 값이 달라진다.\n",
    "    - 양측검정 : 양측검정에서는 양측의 차이를 고려하므로 변수 순서에 따른 결과의 차이는 없음\n",
    "    - 단측검정 : '특정 방향의 차이를 확인'하고자 할 때 사용되므로, 변수 순서에 따라 검정 결과가 영향을 받을 수 있음"
   ]
  },
  {
   "attachments": {},
   "cell_type": "markdown",
   "id": "8b1e7a6f",
   "metadata": {},
   "source": [
    "## `ttest_rel()`\n",
    "\n",
    "```python\n",
    "from scipy.stats import ttest_rel\n",
    "\n",
    "# 후, 전, 대립가설 방향은 임의로 지정\n",
    "ttest_rel(df[\"후\"], \n",
    "          df[\"전\"], \n",
    "          alternative = \"less\") # 대립가설 방향. 옵션 : two_side(디폴트), less, greater\n",
    "```"
   ]
  },
  {
   "attachments": {},
   "cell_type": "markdown",
   "id": "9d8b9687",
   "metadata": {},
   "source": [
    "---"
   ]
  },
  {
   "attachments": {},
   "cell_type": "markdown",
   "id": "849a5353",
   "metadata": {},
   "source": [
    "## Example 1 : 공식 예제\n",
    "    \n",
    "주어진 데이터는 고혈압 환자 치료 전후의 혈압이다. 해당 치료가 효과가 있는지 대응(쌍체)표본 t-검정을 진행하시오.\n",
    "μ= (치료 후 혈압 - 치료 전 혈압)의 평균\n",
    "- 귀무가설(H0):  $\\mu \\geq 0$\n",
    "- 대립가설(H1):  $\\mu < 0$\n",
    "\n",
    "\n",
    "<img src=\"https://i.esdrop.com/d/f/3uJKEwVXJL/fuiUgcoB23.jpg\" width=500>"
   ]
  },
  {
   "cell_type": "code",
   "execution_count": 3,
   "id": "fdef8edf",
   "metadata": {},
   "outputs": [
    {
     "data": {
      "text/html": [
       "<div>\n",
       "<style scoped>\n",
       "    .dataframe tbody tr th:only-of-type {\n",
       "        vertical-align: middle;\n",
       "    }\n",
       "\n",
       "    .dataframe tbody tr th {\n",
       "        vertical-align: top;\n",
       "    }\n",
       "\n",
       "    .dataframe thead th {\n",
       "        text-align: right;\n",
       "    }\n",
       "</style>\n",
       "<table border=\"1\" class=\"dataframe\">\n",
       "  <thead>\n",
       "    <tr style=\"text-align: right;\">\n",
       "      <th></th>\n",
       "      <th>Id</th>\n",
       "      <th>sex</th>\n",
       "      <th>age</th>\n",
       "      <th>bp_pre</th>\n",
       "      <th>bp_post</th>\n",
       "    </tr>\n",
       "  </thead>\n",
       "  <tbody>\n",
       "    <tr>\n",
       "      <th>0</th>\n",
       "      <td>p001</td>\n",
       "      <td>Male</td>\n",
       "      <td>33</td>\n",
       "      <td>149</td>\n",
       "      <td>129</td>\n",
       "    </tr>\n",
       "    <tr>\n",
       "      <th>1</th>\n",
       "      <td>p002</td>\n",
       "      <td>Male</td>\n",
       "      <td>39</td>\n",
       "      <td>168</td>\n",
       "      <td>168</td>\n",
       "    </tr>\n",
       "    <tr>\n",
       "      <th>2</th>\n",
       "      <td>p003</td>\n",
       "      <td>Male</td>\n",
       "      <td>70</td>\n",
       "      <td>176</td>\n",
       "      <td>155</td>\n",
       "    </tr>\n",
       "    <tr>\n",
       "      <th>3</th>\n",
       "      <td>p004</td>\n",
       "      <td>Female</td>\n",
       "      <td>41</td>\n",
       "      <td>169</td>\n",
       "      <td>178</td>\n",
       "    </tr>\n",
       "    <tr>\n",
       "      <th>4</th>\n",
       "      <td>p005</td>\n",
       "      <td>Male</td>\n",
       "      <td>48</td>\n",
       "      <td>160</td>\n",
       "      <td>126</td>\n",
       "    </tr>\n",
       "  </tbody>\n",
       "</table>\n",
       "</div>"
      ],
      "text/plain": [
       "     Id     sex  age  bp_pre  bp_post\n",
       "0  p001    Male   33     149      129\n",
       "1  p002    Male   39     168      168\n",
       "2  p003    Male   70     176      155\n",
       "3  p004  Female   41     169      178\n",
       "4  p005    Male   48     160      126"
      ]
     },
     "execution_count": 3,
     "metadata": {},
     "output_type": "execute_result"
    }
   ],
   "source": [
    "import pandas as pd\n",
    "from scipy import stats\n",
    "df = pd.read_csv(\"./Data/high_blood_pressure.csv\")\n",
    "df.head()"
   ]
  },
  {
   "cell_type": "code",
   "execution_count": 5,
   "id": "4d6573af",
   "metadata": {},
   "outputs": [
    {
     "name": "stdout",
     "output_type": "stream",
     "text": [
      "표본평균 :  -6.12\n",
      "검정통계량 :  -3.0002\n",
      "p-value :  0.0016\n"
     ]
    }
   ],
   "source": [
    "df['diff'] = df['bp_post'] - df['bp_pre']\n",
    "\n",
    "# 1\n",
    "print(\"표본평균 : \", round(df['diff'].mean(), 2))\n",
    "\n",
    "# 2 \n",
    "tstat, pvalue = stats.ttest_rel(df['bp_post'], # 후 데이터\n",
    "                         df['bp_pre'],        # 전 데이터\n",
    "                         alternative=\"less\") # 대립가설이 0보다 작음으로 설정, 따라서 less 옵션. 후-전<0 , 후<전\n",
    "print(\"검정통계량 : \", round(tstat, 4))\n",
    "\n",
    "# 3\n",
    "print(\"p-value : \", round(pvalue, 4))"
   ]
  },
  {
   "attachments": {},
   "cell_type": "markdown",
   "id": "7b40bf59",
   "metadata": {},
   "source": [
    "4번 답 : 기각\n",
    "- p-value 값이 0.0016으로 유의수준 0.05보다 작기 때문에, 유의수준 0.05에서 귀무가설을 기각한다.\n",
    "- 따라서 귀무가설 기각, 대립가설 채택하여 고혈압 환자 치료는 효과가 있다고 말할 수 있다."
   ]
  },
  {
   "attachments": {},
   "cell_type": "markdown",
   "id": "c04a32e0",
   "metadata": {},
   "source": [
    "## Example 2 : 단측검정\n",
    "- [출처 : 데이터마님 빅분기 기출변형 3회 작업형3 예상문제](https://www.datamanim.com/dataset/practice/ex3.html#id4)"
   ]
  },
  {
   "attachments": {},
   "cell_type": "markdown",
   "id": "405b7eea",
   "metadata": {},
   "source": [
    "다이어트약의 전후 체중 변화 기록이다. A, B 공장에서 생산한 기계들의 rpm 값들을 기록한 데이터이다. 대응 표본 t 검정을 통해 B공장 제품들이 A 공장 제품들보다 rpm이 높다고 말할 수 있는지 검정하려한다.\n",
    "\n",
    "- 2-1) A,B 공장 각각 정규성을 가지는지 샤피로 검정을 통해 확인하라. (각 공장의 pvalue 출력할 것)\n",
    "- 2-2) A,B 공장 생산 제품의 rpm은 등분산성을 가지는지 levene 검정을 통해 확인하라. (각 공장의 pvalue 출력할 것) \n",
    "- 2-3) 대응 표본 t 검정을 통해 B공장 제품들의 rpm이 A 공장 제품의 rpm보다 크다고 말할 수 있는지 검정하라. pvalue를 소숫점 이하 3자리까지 출력하라.\n",
    "- 2-4) 위 검정 결과에 따라 귀무가설, 대립가설 중 하나를 출력하라."
   ]
  },
  {
   "cell_type": "code",
   "execution_count": null,
   "id": "04bed519",
   "metadata": {},
   "outputs": [
    {
     "data": {
      "text/html": [
       "<div>\n",
       "<style scoped>\n",
       "    .dataframe tbody tr th:only-of-type {\n",
       "        vertical-align: middle;\n",
       "    }\n",
       "\n",
       "    .dataframe tbody tr th {\n",
       "        vertical-align: top;\n",
       "    }\n",
       "\n",
       "    .dataframe thead th {\n",
       "        text-align: right;\n",
       "    }\n",
       "</style>\n",
       "<table border=\"1\" class=\"dataframe\">\n",
       "  <thead>\n",
       "    <tr style=\"text-align: right;\">\n",
       "      <th></th>\n",
       "      <th>rpm</th>\n",
       "      <th>group</th>\n",
       "    </tr>\n",
       "  </thead>\n",
       "  <tbody>\n",
       "    <tr>\n",
       "      <th>0</th>\n",
       "      <td>163.6</td>\n",
       "      <td>A</td>\n",
       "    </tr>\n",
       "    <tr>\n",
       "      <th>1</th>\n",
       "      <td>246.9</td>\n",
       "      <td>A</td>\n",
       "    </tr>\n",
       "    <tr>\n",
       "      <th>2</th>\n",
       "      <td>234.9</td>\n",
       "      <td>A</td>\n",
       "    </tr>\n",
       "    <tr>\n",
       "      <th>3</th>\n",
       "      <td>156.9</td>\n",
       "      <td>A</td>\n",
       "    </tr>\n",
       "    <tr>\n",
       "      <th>4</th>\n",
       "      <td>226.6</td>\n",
       "      <td>A</td>\n",
       "    </tr>\n",
       "  </tbody>\n",
       "</table>\n",
       "</div>"
      ],
      "text/plain": [
       "     rpm group\n",
       "0  163.6     A\n",
       "1  246.9     A\n",
       "2  234.9     A\n",
       "3  156.9     A\n",
       "4  226.6     A"
      ]
     },
     "metadata": {},
     "output_type": "display_data"
    }
   ],
   "source": [
    "import pandas as pd\n",
    "df = pd.read_csv('https://raw.githubusercontent.com/Datamanim/datarepo/main/krdatacertificate/e3_p3_2_.csv')\n",
    "df.head()"
   ]
  },
  {
   "attachments": {},
   "cell_type": "markdown",
   "id": "9ec5c120",
   "metadata": {},
   "source": [
    "### 1) shapiro 정규성 검정\n",
    "- 귀무가설 : 표본의 모집단이 정규분포와 차이가 없다. (정규성을 만족한다.)\n",
    "- 대립가설 : 표본의 모집단이 정규분포와 차이가 있다."
   ]
  },
  {
   "attachments": {},
   "cell_type": "markdown",
   "id": "ed7973ce",
   "metadata": {},
   "source": [
    "### 먼저 공장별로 데이터를 분할 !"
   ]
  },
  {
   "cell_type": "code",
   "execution_count": null,
   "id": "79dca3a7",
   "metadata": {},
   "outputs": [],
   "source": [
    "# 공장별로 데이터 분할\n",
    "# df['group'].value_counts() # 각 100개씩\n",
    "\n",
    "factory_A = df[df[\"group\"] ==\"A\"][\"rpm\"]\n",
    "factory_B = df[df[\"group\"] ==\"B\"][\"rpm\"]"
   ]
  },
  {
   "cell_type": "code",
   "execution_count": null,
   "id": "69b708f2",
   "metadata": {},
   "outputs": [
    {
     "name": "stdout",
     "output_type": "stream",
     "text": [
      "ShapiroResult(statistic=0.9863898158073425, pvalue=0.397915244102478)\n",
      "ShapiroResult(statistic=0.9943944811820984, pvalue=0.9562830924987793)\n"
     ]
    }
   ],
   "source": [
    "# 1) 샤피로 정규성 검정\n",
    "from scipy.stats import shapiro\n",
    "\n",
    "# p-value만 뺴낼거면 s, p로 객체 할당해서 print(p)\n",
    "A = shapiro(factory_A)\n",
    "B = shapiro(factory_B)\n",
    "print(A)\n",
    "print(B)"
   ]
  },
  {
   "attachments": {},
   "cell_type": "markdown",
   "id": "af5bb26d",
   "metadata": {},
   "source": [
    "#### A공장, B공장 모두 귀무가설을 채택하여 정규성을 만족한다고 할 수 있다."
   ]
  },
  {
   "attachments": {},
   "cell_type": "markdown",
   "id": "b924bb4f",
   "metadata": {},
   "source": [
    "### 2) levene 등분산성 검정\n",
    "- 귀무가설 (H0): 각 그룹의 모집단 분산은 동일하다.\n",
    "- 대립가설 (H1): 적어도 하나의 그룹의 모집단 분산은 다른 그룹과 다르다."
   ]
  },
  {
   "cell_type": "code",
   "execution_count": null,
   "id": "657bca07",
   "metadata": {},
   "outputs": [
    {
     "name": "stdout",
     "output_type": "stream",
     "text": [
      "0.904\n"
     ]
    }
   ],
   "source": [
    "# 2) levene 등분산성 검정\n",
    "from scipy.stats import levene\n",
    "s, p = levene(factory_A, factory_B)\n",
    "print(round(p, 3))"
   ]
  },
  {
   "attachments": {},
   "cell_type": "markdown",
   "id": "3d4e95b8",
   "metadata": {},
   "source": [
    "#### p-value가 유의수준 0.05보다 크므로, 귀무가설을 기각하지 못한다. 따라서 등분산성을 만족한다고 할 수 있다."
   ]
  },
  {
   "attachments": {},
   "cell_type": "markdown",
   "id": "cf7e6183",
   "metadata": {},
   "source": [
    "### 3) 대응표본 t 검정\n",
    "대응 표본 t 검정을 통해 B공장 제품들의 rpm이 A 공장 제품의 rpm보다 크다고 말할 수 있는지 검정하라. pvalue를 소숫점 이하 3자리까지 출력하라.\n",
    "- 귀무가설 : B공장 rpm이 A공장 rpm보다 작거나 같다.\n",
    "- 대립가설 : B공장 rpm이 A공장 rpm보다 크다."
   ]
  },
  {
   "attachments": {},
   "cell_type": "markdown",
   "id": "144c9d7f",
   "metadata": {},
   "source": [
    "### 대립가설이 'B가 A보다 크다'이므로, 함수 매개변수 주의 !\n",
    "- alternative = \"greater\" (크다)"
   ]
  },
  {
   "cell_type": "code",
   "execution_count": null,
   "id": "4fcc3492",
   "metadata": {},
   "outputs": [
    {
     "name": "stdout",
     "output_type": "stream",
     "text": [
      "0.009\n"
     ]
    }
   ],
   "source": [
    "# 3) 대응표본 t 검정\n",
    "from scipy.stats import ttest_rel\n",
    "s, p = ttest_rel(factory_B, factory_A, alternative = \"greater\")\n",
    "print(round(p,3))"
   ]
  },
  {
   "attachments": {},
   "cell_type": "markdown",
   "id": "e3d307c5",
   "metadata": {},
   "source": [
    "ttest_rel 함수에서 factory_B, factory_A의 순서가 바뀌면 값이 완전 달라진다 !!!"
   ]
  },
  {
   "cell_type": "code",
   "execution_count": null,
   "id": "9182e0c5",
   "metadata": {},
   "outputs": [
    {
     "name": "stdout",
     "output_type": "stream",
     "text": [
      "대립\n"
     ]
    }
   ],
   "source": [
    "# 4) 유의한 가설은?\n",
    "# 유의수준 0.05에서, p-value가 유의수준보다 작으므로 귀무가설을 기각한다. 따라서 차이가 있다고 말할 수 있다.\n",
    "print(\"대립\")"
   ]
  },
  {
   "attachments": {},
   "cell_type": "markdown",
   "id": "fad63b78",
   "metadata": {},
   "source": [
    "## Example 3 : 양측검정\n",
    "특정 질병 집단의 투약 전후의 혈류량 변화를 나타낸 데이터이다. 투약 전후의 변화가 있는지 검정하라.\n",
    "\n",
    "- [출처 : 데이터마님 scipy paired t-test 문제](https://www.datamanim.com/dataset/97_scipy/scipy.html#t-paired)"
   ]
  },
  {
   "cell_type": "code",
   "execution_count": 18,
   "id": "046ff9d8",
   "metadata": {},
   "outputs": [
    {
     "data": {
      "text/html": [
       "<div>\n",
       "<style scoped>\n",
       "    .dataframe tbody tr th:only-of-type {\n",
       "        vertical-align: middle;\n",
       "    }\n",
       "\n",
       "    .dataframe tbody tr th {\n",
       "        vertical-align: top;\n",
       "    }\n",
       "\n",
       "    .dataframe thead th {\n",
       "        text-align: right;\n",
       "    }\n",
       "</style>\n",
       "<table border=\"1\" class=\"dataframe\">\n",
       "  <thead>\n",
       "    <tr style=\"text-align: right;\">\n",
       "      <th></th>\n",
       "      <th>before</th>\n",
       "      <th>after</th>\n",
       "    </tr>\n",
       "  </thead>\n",
       "  <tbody>\n",
       "    <tr>\n",
       "      <th>0</th>\n",
       "      <td>253.566615</td>\n",
       "      <td>220.857837</td>\n",
       "    </tr>\n",
       "    <tr>\n",
       "      <th>1</th>\n",
       "      <td>195.080189</td>\n",
       "      <td>209.206667</td>\n",
       "    </tr>\n",
       "    <tr>\n",
       "      <th>2</th>\n",
       "      <td>228.299690</td>\n",
       "      <td>173.070057</td>\n",
       "    </tr>\n",
       "    <tr>\n",
       "      <th>3</th>\n",
       "      <td>279.417367</td>\n",
       "      <td>222.356980</td>\n",
       "    </tr>\n",
       "    <tr>\n",
       "      <th>4</th>\n",
       "      <td>230.062210</td>\n",
       "      <td>248.371045</td>\n",
       "    </tr>\n",
       "  </tbody>\n",
       "</table>\n",
       "</div>"
      ],
      "text/plain": [
       "       before       after\n",
       "0  253.566615  220.857837\n",
       "1  195.080189  209.206667\n",
       "2  228.299690  173.070057\n",
       "3  279.417367  222.356980\n",
       "4  230.062210  248.371045"
      ]
     },
     "execution_count": 18,
     "metadata": {},
     "output_type": "execute_result"
    }
   ],
   "source": [
    "import pandas as pd \n",
    "df = pd.read_csv('https://raw.githubusercontent.com/Datamanim/datarepo/main/scipy/rel3.csv')\n",
    "df.head()"
   ]
  },
  {
   "attachments": {},
   "cell_type": "markdown",
   "id": "f472f8b0",
   "metadata": {},
   "source": [
    "### 대응표본 t검정\n",
    "- 귀무가설 : 특정 질병 집단의 투약 전후 혈류량 변화는 없다. (투약 전후 혈류량 평균 차이가 없다. -> 즉, 평균이 같다.)\n",
    "- 대립가설 : 특정 질병 집단의 투약 전후 혈류량 변화는 있다. (투약 전후 혈류량 평균 차이가 있다.)"
   ]
  },
  {
   "attachments": {},
   "cell_type": "markdown",
   "id": "1af659fb",
   "metadata": {},
   "source": [
    "### shapiro 정규성 검정\n",
    "- 귀무가설 : 표본의 모집단이 정규분포와 차이가 없다. (정규성을 만족한다.)\n",
    "- 대립가설 : 표본의 모집단이 정규분포와 차이가 있다."
   ]
  },
  {
   "cell_type": "code",
   "execution_count": 20,
   "id": "914c23b2",
   "metadata": {},
   "outputs": [
    {
     "name": "stdout",
     "output_type": "stream",
     "text": [
      "ShapiroResult(statistic=0.9920635223388672, pvalue=0.7270597219467163)\n",
      "ShapiroResult(statistic=0.992019534111023, pvalue=0.7229286432266235)\n"
     ]
    }
   ],
   "source": [
    "# 정규성 확인\n",
    "from scipy.stats import shapiro\n",
    "before = shapiro(df[\"before\"])\n",
    "after = shapiro(df[\"after\"])\n",
    "print(before)\n",
    "print(after)"
   ]
  },
  {
   "attachments": {},
   "cell_type": "markdown",
   "id": "3dc9b6f2",
   "metadata": {},
   "source": [
    "- before, after 모두 p-value가 유의수준 0.05보다 크므로, 귀무가설을 기각하지 않는다. 따라서 귀무가설을 채택하여, 정규성을 만족한다고 할 수 있다."
   ]
  },
  {
   "cell_type": "code",
   "execution_count": 21,
   "id": "73b0ff55",
   "metadata": {},
   "outputs": [
    {
     "data": {
      "text/plain": [
       "Ttest_relResult(statistic=0.188900575991026, pvalue=0.8504925317234707)"
      ]
     },
     "execution_count": 21,
     "metadata": {},
     "output_type": "execute_result"
    }
   ],
   "source": [
    "# 대응표본 t검정\n",
    "from scipy.stats import ttest_rel\n",
    "ttest_rel(df[\"before\"], df[\"after\"])"
   ]
  },
  {
   "attachments": {},
   "cell_type": "markdown",
   "id": "15c3fd6d",
   "metadata": {},
   "source": [
    "p-value가 유의수준 0.05보다 크므로, 귀무가설을 기각하지 않는다. 따라서 귀무가설을 채택하여, 전후 혈류량 변화가 없다고 할 수 있다."
   ]
  },
  {
   "attachments": {},
   "cell_type": "markdown",
   "id": "c9d0fdf5",
   "metadata": {},
   "source": [
    "## Example 4 : 윌콕슨 부호 검정\n",
    "특정 집단의 학습 전후 시험 성적 변화를 나타낸 데이터이다. 시험 전과 후에 차이가 있는지 검정하라\n",
    "- [출처 : 데이터마님 scipy paired t-test 문제](https://www.datamanim.com/dataset/97_scipy/scipy.html#t-paired)"
   ]
  },
  {
   "cell_type": "code",
   "execution_count": 3,
   "id": "c0a2ae57",
   "metadata": {},
   "outputs": [
    {
     "data": {
      "text/html": [
       "<div>\n",
       "<style scoped>\n",
       "    .dataframe tbody tr th:only-of-type {\n",
       "        vertical-align: middle;\n",
       "    }\n",
       "\n",
       "    .dataframe tbody tr th {\n",
       "        vertical-align: top;\n",
       "    }\n",
       "\n",
       "    .dataframe thead th {\n",
       "        text-align: right;\n",
       "    }\n",
       "</style>\n",
       "<table border=\"1\" class=\"dataframe\">\n",
       "  <thead>\n",
       "    <tr style=\"text-align: right;\">\n",
       "      <th></th>\n",
       "      <th>before</th>\n",
       "      <th>after</th>\n",
       "    </tr>\n",
       "  </thead>\n",
       "  <tbody>\n",
       "    <tr>\n",
       "      <th>0</th>\n",
       "      <td>153</td>\n",
       "      <td>162</td>\n",
       "    </tr>\n",
       "    <tr>\n",
       "      <th>1</th>\n",
       "      <td>153</td>\n",
       "      <td>163</td>\n",
       "    </tr>\n",
       "    <tr>\n",
       "      <th>2</th>\n",
       "      <td>158</td>\n",
       "      <td>159</td>\n",
       "    </tr>\n",
       "    <tr>\n",
       "      <th>3</th>\n",
       "      <td>157</td>\n",
       "      <td>158</td>\n",
       "    </tr>\n",
       "    <tr>\n",
       "      <th>4</th>\n",
       "      <td>167</td>\n",
       "      <td>160</td>\n",
       "    </tr>\n",
       "  </tbody>\n",
       "</table>\n",
       "</div>"
      ],
      "text/plain": [
       "   before  after\n",
       "0     153    162\n",
       "1     153    163\n",
       "2     158    159\n",
       "3     157    158\n",
       "4     167    160"
      ]
     },
     "execution_count": 3,
     "metadata": {},
     "output_type": "execute_result"
    }
   ],
   "source": [
    "import pandas as pd \n",
    "df = pd.read_csv('https://raw.githubusercontent.com/Datamanim/datarepo/main/scipy/rel1.csv')\n",
    "df.head()"
   ]
  },
  {
   "cell_type": "code",
   "execution_count": 6,
   "id": "97b6cb94",
   "metadata": {},
   "outputs": [
    {
     "name": "stdout",
     "output_type": "stream",
     "text": [
      "ShapiroResult(statistic=0.9173726439476013, pvalue=0.001897332607768476)\n",
      "ShapiroResult(statistic=0.9448971152305603, pvalue=0.021141061559319496)\n"
     ]
    }
   ],
   "source": [
    "# 정규성 검정\n",
    "from scipy.stats import shapiro\n",
    "s_a = shapiro(df[\"before\"])\n",
    "s_b = shapiro(df[\"after\"])\n",
    "\n",
    "print(s_a)\n",
    "print(s_b)"
   ]
  },
  {
   "attachments": {},
   "cell_type": "markdown",
   "id": "24849f37",
   "metadata": {},
   "source": [
    "- 두 데이터 모두 유의수준 0.05 보다 작으므로 귀무가설을 기각한다. 즉, 정규성을 따르지 않는다고 할 수 있다. \n",
    "-> 비모수 검정\n",
    "- 대응표본의 경우 등분산성이 파라미터에 영향을 주지않음"
   ]
  },
  {
   "cell_type": "code",
   "execution_count": 9,
   "id": "0e2f0ef6",
   "metadata": {},
   "outputs": [
    {
     "name": "stdout",
     "output_type": "stream",
     "text": [
      "0.12098409484052809\n"
     ]
    }
   ],
   "source": [
    "from scipy.stats import wilcoxon\n",
    "s, p = wilcoxon(df[\"before\"], df[\"after\"])\n",
    "print(p)"
   ]
  },
  {
   "attachments": {},
   "cell_type": "markdown",
   "id": "815f842a",
   "metadata": {},
   "source": [
    "- 검정 결과, p-value가 0.12로 유의수준 0.05보다 크다. 따라서 귀무가설을 기각하지 않고, 특정 집단의 학습 전후 시험 성적의 평균은 같다고 할 수 있다. (차이가 없다)"
   ]
  },
  {
   "cell_type": "code",
   "execution_count": 11,
   "id": "bcbbff16",
   "metadata": {},
   "outputs": [
    {
     "data": {
      "text/plain": [
       "Ttest_relResult(statistic=-2.187138399865287, pvalue=0.03353471744538162)"
      ]
     },
     "execution_count": 11,
     "metadata": {},
     "output_type": "execute_result"
    }
   ],
   "source": [
    "from scipy.stats import ttest_rel\n",
    "ttest_rel(df[\"before\"], df[\"after\"])"
   ]
  },
  {
   "attachments": {},
   "cell_type": "markdown",
   "id": "906bbfbb",
   "metadata": {},
   "source": [
    "- 대응표본 t검정 시에는 p-value가 0.05보다 작아서, 귀무가설을 기각하는 결과가 나온다."
   ]
  },
  {
   "attachments": {},
   "cell_type": "markdown",
   "id": "50de2af4",
   "metadata": {},
   "source": [
    "## Example 5 : 단측검정\n",
    "한 기계 부품의 rpm 수치를 두가지 다른 상황에서 측정했다.(총 70세트) b 상황이 a 상황보다 rpm값이 높다고 말할 수 있는지 검정하라\n",
    "- [출처 : 데이터마님 scipy paired t-test 문제](https://www.datamanim.com/dataset/97_scipy/scipy.html#t-paired)"
   ]
  },
  {
   "cell_type": "code",
   "execution_count": 13,
   "id": "2efc040b",
   "metadata": {},
   "outputs": [
    {
     "data": {
      "text/html": [
       "<div>\n",
       "<style scoped>\n",
       "    .dataframe tbody tr th:only-of-type {\n",
       "        vertical-align: middle;\n",
       "    }\n",
       "\n",
       "    .dataframe tbody tr th {\n",
       "        vertical-align: top;\n",
       "    }\n",
       "\n",
       "    .dataframe thead th {\n",
       "        text-align: right;\n",
       "    }\n",
       "</style>\n",
       "<table border=\"1\" class=\"dataframe\">\n",
       "  <thead>\n",
       "    <tr style=\"text-align: right;\">\n",
       "      <th></th>\n",
       "      <th>rpm</th>\n",
       "      <th>group</th>\n",
       "    </tr>\n",
       "  </thead>\n",
       "  <tbody>\n",
       "    <tr>\n",
       "      <th>0</th>\n",
       "      <td>474.551593</td>\n",
       "      <td>a</td>\n",
       "    </tr>\n",
       "    <tr>\n",
       "      <th>1</th>\n",
       "      <td>450.548420</td>\n",
       "      <td>a</td>\n",
       "    </tr>\n",
       "    <tr>\n",
       "      <th>2</th>\n",
       "      <td>563.720934</td>\n",
       "      <td>a</td>\n",
       "    </tr>\n",
       "    <tr>\n",
       "      <th>3</th>\n",
       "      <td>506.886966</td>\n",
       "      <td>a</td>\n",
       "    </tr>\n",
       "    <tr>\n",
       "      <th>4</th>\n",
       "      <td>471.724049</td>\n",
       "      <td>a</td>\n",
       "    </tr>\n",
       "  </tbody>\n",
       "</table>\n",
       "</div>"
      ],
      "text/plain": [
       "          rpm group\n",
       "0  474.551593     a\n",
       "1  450.548420     a\n",
       "2  563.720934     a\n",
       "3  506.886966     a\n",
       "4  471.724049     a"
      ]
     },
     "execution_count": 13,
     "metadata": {},
     "output_type": "execute_result"
    }
   ],
   "source": [
    "import pandas as pd \n",
    "df = pd.read_csv('https://raw.githubusercontent.com/Datamanim/datarepo/main/scipy/rel4.csv')\n",
    "df.head()"
   ]
  },
  {
   "cell_type": "code",
   "execution_count": 15,
   "id": "c0fc7864",
   "metadata": {},
   "outputs": [
    {
     "data": {
      "text/plain": [
       "a    70\n",
       "b    70\n",
       "Name: group, dtype: int64"
      ]
     },
     "execution_count": 15,
     "metadata": {},
     "output_type": "execute_result"
    }
   ],
   "source": [
    "# 일단 데이터 분할\n",
    "df[\"group\"].value_counts() # a, b 각각 70"
   ]
  },
  {
   "cell_type": "code",
   "execution_count": 17,
   "id": "0965bfd8",
   "metadata": {},
   "outputs": [
    {
     "data": {
      "text/plain": [
       "Ttest_relResult(statistic=1.9018108294460812, pvalue=0.030685663464464715)"
      ]
     },
     "execution_count": 17,
     "metadata": {},
     "output_type": "execute_result"
    }
   ],
   "source": [
    "grp_a = df[df[\"group\"] == \"a\"][\"rpm\"]\n",
    "grp_b = df[df[\"group\"] == \"b\"][\"rpm\"]\n",
    "\n",
    "from scipy.stats import ttest_rel\n",
    "ttest_rel(grp_b, grp_a, alternative = \"greater\")"
   ]
  },
  {
   "attachments": {},
   "cell_type": "markdown",
   "id": "5aa4559a",
   "metadata": {},
   "source": [
    "- 귀무가설 : b <= a\n",
    "- 대립가설 : b > a\n",
    "- p-vlaue가 0.03으로 유의수준 0.05보다 작아, 귀무가설을 기각한다. 따라서 b가 a보다 높다고 말할 수 있다."
   ]
  }
 ],
 "metadata": {
  "kernelspec": {
   "display_name": "Python 3 (ipykernel)",
   "language": "python",
   "name": "python3"
  },
  "language_info": {
   "codemirror_mode": {
    "name": "ipython",
    "version": 3
   },
   "file_extension": ".py",
   "mimetype": "text/x-python",
   "name": "python",
   "nbconvert_exporter": "python",
   "pygments_lexer": "ipython3",
   "version": "3.10.11"
  }
 },
 "nbformat": 4,
 "nbformat_minor": 5
}
