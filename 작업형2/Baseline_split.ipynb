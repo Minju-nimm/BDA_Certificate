{
 "cells": [
  {
   "attachments": {},
   "cell_type": "markdown",
   "metadata": {},
   "source": [
    "# 빅분기 작업형2 Baseline\n",
    "- 결과를 보려면 print() 함수 필요\n",
    "- 일반적으로 train, test 두 파일이 제공 $\\rightarrow$ train에서 X, y 분리해야함\n",
    "    - 만약 X_train, X_test, y_train 세 파일이 제공됐다면 위 처럼 X, y를 분리하지 않아도 될 것"
   ]
  },
  {
   "attachments": {},
   "cell_type": "markdown",
   "metadata": {},
   "source": [
    "## 0. 데이터 로드"
   ]
  },
  {
   "cell_type": "code",
   "execution_count": null,
   "metadata": {},
   "outputs": [],
   "source": [
    "import pandas as pd\n",
    "train = pd.read_csv(\"./train.csv\")\n",
    "test = pd.read_csv(\"./test.csv\")\n",
    "\n",
    "\n",
    "print(train.shape)\n",
    "print(train.head(), \"\\n\")\n",
    "print(test.shape, \"\\n\")\n",
    "print(test.head())"
   ]
  },
  {
   "attachments": {},
   "cell_type": "markdown",
   "metadata": {},
   "source": [
    "# 1. EDA"
   ]
  },
  {
   "attachments": {},
   "cell_type": "markdown",
   "metadata": {},
   "source": [
    "### 1-1) train EDA"
   ]
  },
  {
   "cell_type": "code",
   "execution_count": null,
   "metadata": {},
   "outputs": [],
   "source": [
    "print(train.info(), \"\\n\")\n",
    "print(train.isnull.sum(), \"\\n\") # 결측치 확인\n",
    "print(train.describe(), \"\\n\")"
   ]
  },
  {
   "attachments": {},
   "cell_type": "markdown",
   "metadata": {},
   "source": [
    "### 1-2) test EDA"
   ]
  },
  {
   "cell_type": "code",
   "execution_count": null,
   "metadata": {},
   "outputs": [],
   "source": [
    "print(test.info(), \"\\n\")\n",
    "print(test.isnull.sum(), \"\\n\") # 결측치 확인\n",
    "print(test.describe(), \"\\n\")"
   ]
  },
  {
   "cell_type": "code",
   "execution_count": null,
   "metadata": {},
   "outputs": [],
   "source": [
    "print(train.describe(include=\"O\"), \"\\n\") # train 범주형 변수 unique 확인\n",
    "print(test.describe(include=\"O\"), \"\\n\") # test 범주형 변수 unique 확인"
   ]
  },
  {
   "attachments": {},
   "cell_type": "markdown",
   "metadata": {},
   "source": [
    "- train, test에서 범주형 변수의 nuniqie 값 확인하지만.. 아마 시험에서는 값 다르지 않을 것임\n",
    "- 다르게 되면 처리해야할 게 늘어남 "
   ]
  },
  {
   "attachments": {},
   "cell_type": "markdown",
   "metadata": {},
   "source": [
    "## 2. 데이터 전처리"
   ]
  },
  {
   "attachments": {},
   "cell_type": "markdown",
   "metadata": {},
   "source": [
    "### 2-1) 결측치 처리 & ID같은 불필요 칼럼 제거 & train에서 X, y 분리"
   ]
  },
  {
   "cell_type": "code",
   "execution_count": null,
   "metadata": {},
   "outputs": [],
   "source": [
    "# 결측치는 평균보다 이상값에 덜 민감한 중앙값으로 대치\n",
    "# 데이터에 따라 결측치 방법 고려해보기 (0으로 대치, 평균 대치 ...)\n",
    "train[\"칼럼\"] = train[\"칼럼\"].fillna(train[\"칼럼\"].median())\n",
    "test[\"칼럼\"] = test[\"칼럼\"].fillna(test[\"칼럼\"].median())\n",
    "\n",
    "# 결측치 채워졌나 확인\n",
    "print(train.isnull().sum(), \"\\n\")\n",
    "print(test.isnull().sum(), \"\\n\")\n",
    "\n",
    "# 예측에 불필요한 ID 칼럼 제거\n",
    "train = train.drop(\"ID\", axis=1)\n",
    "print(train.head(1), \"\\n\")\n",
    "\n",
    "# test 데이터 ID 분리\n",
    "test_ID = test.pop('ID')\n",
    "print(test.head(1), \"\\n\")\n",
    "\n",
    "y = train.pop(\"타켓 칼럼\") # X, y  분리\n",
    "print(y.head(), \"\\n\")"
   ]
  },
  {
   "attachments": {},
   "cell_type": "markdown",
   "metadata": {},
   "source": [
    "### 2-2) 스케일링\n",
    "- train에만 fit_transform( ) 해줘야함\n",
    "- test는 transform( )"
   ]
  },
  {
   "cell_type": "code",
   "execution_count": null,
   "metadata": {},
   "outputs": [],
   "source": [
    "print(train.info(), \"\\n\")\n",
    "\n",
    "con_df = train.select_dtypes(exclude=\"object\").copy().columns # 수치형 칼럼 선택"
   ]
  },
  {
   "cell_type": "code",
   "execution_count": null,
   "metadata": {},
   "outputs": [],
   "source": [
    "from sklearn.preprocessing import StandardScaler\n",
    "scaler = StandardScaler()\n",
    "\n",
    "train[con_cols] = scaler.fit_transform(train[con_cols])\n",
    "train[con_cols] = scaler.transform(train[con_cols])"
   ]
  },
  {
   "attachments": {},
   "cell_type": "markdown",
   "metadata": {},
   "source": [
    "### 2-3) 인코딩\n",
    "- 어차피 모델은 랜포, lgbm 비교할 거니까 라벨인코딩, 원핫인코딩 두 방법 다 가능할텐데 범주형 변수 내 nunique 값이 많으면 라벨인코딩 하자"
   ]
  },
  {
   "cell_type": "code",
   "execution_count": null,
   "metadata": {},
   "outputs": [],
   "source": [
    "# 원핫인코딩\n",
    "train = pd.get_dummies(train)\n",
    "test = pd.get_dummies(test)\n",
    "\n",
    "# Train 데이터와 Test 데이터의 열 순서를 비교하여 동일한 순서로 정렬\n",
    "test_data = test[train.columns]"
   ]
  },
  {
   "attachments": {},
   "cell_type": "markdown",
   "metadata": {},
   "source": [
    "Train 데이터와 Test 데이터의 열 순서가 일치하지 않으면 모델이 올바르게 예측을 수행할 수 없습니다.\n",
    "\n",
    "모델은 Train 데이터를 학습할 때 피처들의 순서에 의존하여 가중치를 조정하고 학습합니다. 따라서, Train 데이터와 Test 데이터에 동일한 열 순서를 갖도록 정렬해야 모델이 정확한 예측을 수행할 수 있습니다.\n",
    "\n",
    "범주형 열을 One-Hot 인코딩하여 여러 열로 확장하고, Train 데이터와 Test 데이터를 동일한 열 순서로 정렬하는 것이 중요합니다.\n",
    "\n",
    "왜 중요한가요?\n",
    "\n",
    "ChatGPT\n",
    "Train 데이터와 Test 데이터를 동일한 열 순서로 정렬하는 것이 중요한 이유는 모델이 학습한 피처 순서와 테스트할 때 입력하는 데이터의 피처 순서가 일치해야하기 때문입니다.\n",
    "\n",
    "One-Hot 인코딩은 범주형 변수를 여러 열로 확장하는 과정에서 새로운 열들이 생성됩니다. 이 때, Train 데이터와 Test 데이터의 열 순서가 일치하지 않으면 모델이 올바르게 예측을 수행할 수 없습니다.\n",
    "\n",
    "모델은 Train 데이터를 학습할 때 피처들의 순서에 의존하여 가중치를 조정하고 학습합니다. 따라서, Train 데이터와 Test 데이터에 동일한 열 순서를 갖도록 정렬해야 모델이 정확한 예측을 수행할 수 있습니다.\n",
    "\n",
    "만약 Train 데이터와 Test 데이터의 열 순서가 일치하지 않을 경우, 모델은 학습한 피처의 순서와 다른 피처 순서를 입력으로 받게 되므로 잘못된 결과를 예측할 수 있습니다. 따라서, 정확한 예측을 위해 Train 데이터와 Test 데이터를 동일한 열 순서로 정렬하는 것이 중요합니다.\n",
    "\n",
    "정리하자면, 모델이 학습한 피처 순서와 테스트할 때 입력하는 데이터의 피처 순서를 일치시키는 것은 모델의 정확도를 보장하기 위한 필수적인 과정입니다."
   ]
  },
  {
   "cell_type": "code",
   "execution_count": null,
   "metadata": {},
   "outputs": [],
   "source": [
    "# 라벨인코딩\n",
    "cat_cols = train.select_dtypes(include=\"object\").copy().columns # 범주형 칼럼 선택\n",
    "\n",
    "from sklearn.preprocessing import LabelEncoder\n",
    "for col in cat_cols:\n",
    "    le = LabelEncoder()\n",
    "    train[col] = le.fit_transform(train[col])\n",
    "    test[col] = le.transform(test[col])\n",
    "\n",
    "print(train.head(), \"\\n\")"
   ]
  },
  {
   "attachments": {},
   "cell_type": "markdown",
   "metadata": {},
   "source": [
    "## 3) 검증 데이터 분리"
   ]
  },
  {
   "cell_type": "code",
   "execution_count": null,
   "metadata": {},
   "outputs": [],
   "source": []
  },
  {
   "attachments": {},
   "cell_type": "markdown",
   "metadata": {},
   "source": [
    "## 4) 모델링\n",
    "- 예측 확률은 이진분류라고 할 때 0(여자), 1(남자)일 확률 이렇게 두 값이 나옴\n",
    "- 따라서 남자일 확률은 rf.predict_proba(X_val)[:, 1] 이런식으로 지정해줘야함\n",
    "\n",
    "```python\n",
    "rf_pred = rf.predict_proba(X_val) # val 셋에서 남자일 예측 '확률'\n",
    "print(rf_pred)\n",
    "\n",
    "[[0.64 0.36]\n",
    " [0.63 0.37]\n",
    " [0.68 0.32]\n",
    " ...\n",
    " [0.8  0.2 ]\n",
    " [0.55 0.45]\n",
    " [0.69 0.31]]\n",
    " ```"
   ]
  },
  {
   "cell_type": "code",
   "execution_count": null,
   "metadata": {},
   "outputs": [],
   "source": []
  },
  {
   "cell_type": "code",
   "execution_count": null,
   "metadata": {},
   "outputs": [],
   "source": []
  },
  {
   "attachments": {},
   "cell_type": "markdown",
   "metadata": {},
   "source": [
    "### 4-1) 랜덤포레스트"
   ]
  },
  {
   "cell_type": "code",
   "execution_count": null,
   "metadata": {},
   "outputs": [],
   "source": [
    "# 분류\n"
   ]
  },
  {
   "cell_type": "code",
   "execution_count": null,
   "metadata": {},
   "outputs": [],
   "source": [
    "# 회귀"
   ]
  },
  {
   "attachments": {},
   "cell_type": "markdown",
   "metadata": {},
   "source": [
    "### 4-2) lgbm"
   ]
  },
  {
   "cell_type": "code",
   "execution_count": null,
   "metadata": {},
   "outputs": [],
   "source": [
    "# 분류\n",
    "\n",
    "# 예측 및 예측확률\n",
    "lgbm_pred = lgbm.predict(X_test)\n",
    "lgbm_pred_prob = lgbm.predict_proba(X_test)\n",
    "\n",
    "# ROC-AUC\n",
    "lgbm_auc = roc_auc_score(y_test, lgbm_pred_prob[:,1])"
   ]
  },
  {
   "cell_type": "code",
   "execution_count": null,
   "metadata": {},
   "outputs": [],
   "source": [
    "# 회귀"
   ]
  },
  {
   "attachments": {},
   "cell_type": "markdown",
   "metadata": {},
   "source": [
    "## 5) 제출 : df & csv 저장"
   ]
  }
 ],
 "metadata": {
  "kernelspec": {
   "display_name": "Python 3",
   "language": "python",
   "name": "python3"
  },
  "language_info": {
   "codemirror_mode": {
    "name": "ipython",
    "version": 3
   },
   "file_extension": ".py",
   "mimetype": "text/x-python",
   "name": "python",
   "nbconvert_exporter": "python",
   "pygments_lexer": "ipython3",
   "version": "3.10.11"
  },
  "orig_nbformat": 4
 },
 "nbformat": 4,
 "nbformat_minor": 2
}
