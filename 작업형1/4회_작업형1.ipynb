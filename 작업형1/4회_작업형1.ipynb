{
 "cells": [
  {
   "cell_type": "markdown",
   "id": "6b9404fb",
   "metadata": {},
   "source": [
    "# 4회 작업형1 (데이터 마님)\n",
    "[데이터 마님 링크](https://www.datamanim.com/dataset/practice/ex4.html#id2)"
   ]
  },
  {
   "cell_type": "markdown",
   "id": "f58311ed",
   "metadata": {},
   "source": [
    "## 1번\n",
    "Temperature컬럼에서 숫자가 아닌 문자들을 제거후 숫자 타입으로 바꾸고 3분위수에서 1분위수의 차이를 소숫점 이하 2자리까지 구하여라"
   ]
  },
  {
   "cell_type": "code",
   "execution_count": 27,
   "id": "38f93a9b",
   "metadata": {},
   "outputs": [
    {
     "data": {
      "text/html": [
       "<div>\n",
       "<style scoped>\n",
       "    .dataframe tbody tr th:only-of-type {\n",
       "        vertical-align: middle;\n",
       "    }\n",
       "\n",
       "    .dataframe tbody tr th {\n",
       "        vertical-align: top;\n",
       "    }\n",
       "\n",
       "    .dataframe thead th {\n",
       "        text-align: right;\n",
       "    }\n",
       "</style>\n",
       "<table border=\"1\" class=\"dataframe\">\n",
       "  <thead>\n",
       "    <tr style=\"text-align: right;\">\n",
       "      <th></th>\n",
       "      <th>Store</th>\n",
       "      <th>Date</th>\n",
       "      <th>Weekly_Sales</th>\n",
       "      <th>Holiday_Flag</th>\n",
       "      <th>Temperature</th>\n",
       "      <th>Fuel_Price</th>\n",
       "      <th>CPI</th>\n",
       "      <th>Unemployment</th>\n",
       "    </tr>\n",
       "  </thead>\n",
       "  <tbody>\n",
       "    <tr>\n",
       "      <th>0</th>\n",
       "      <td>1</td>\n",
       "      <td>05-02-2010</td>\n",
       "      <td>1643690.90</td>\n",
       "      <td>0</td>\n",
       "      <td>42.31</td>\n",
       "      <td>2.572</td>\n",
       "      <td>211.096358</td>\n",
       "      <td>8.106</td>\n",
       "    </tr>\n",
       "    <tr>\n",
       "      <th>1</th>\n",
       "      <td>1</td>\n",
       "      <td>12-02-2010</td>\n",
       "      <td>1641957.44</td>\n",
       "      <td>1</td>\n",
       "      <td>38.51</td>\n",
       "      <td>2.548</td>\n",
       "      <td>211.242170</td>\n",
       "      <td>8.106</td>\n",
       "    </tr>\n",
       "    <tr>\n",
       "      <th>2</th>\n",
       "      <td>1</td>\n",
       "      <td>19-02-2010</td>\n",
       "      <td>1611968.17</td>\n",
       "      <td>0</td>\n",
       "      <td>39.93</td>\n",
       "      <td>2.514</td>\n",
       "      <td>211.289143</td>\n",
       "      <td>8.106</td>\n",
       "    </tr>\n",
       "    <tr>\n",
       "      <th>3</th>\n",
       "      <td>1</td>\n",
       "      <td>26-02-2010</td>\n",
       "      <td>1409727.59</td>\n",
       "      <td>0</td>\n",
       "      <td>46.63</td>\n",
       "      <td>2.561</td>\n",
       "      <td>211.319643</td>\n",
       "      <td>8.106</td>\n",
       "    </tr>\n",
       "    <tr>\n",
       "      <th>4</th>\n",
       "      <td>1</td>\n",
       "      <td>05-03-2010</td>\n",
       "      <td>1554806.68</td>\n",
       "      <td>0</td>\n",
       "      <td>46.5</td>\n",
       "      <td>2.625</td>\n",
       "      <td>211.350143</td>\n",
       "      <td>8.106</td>\n",
       "    </tr>\n",
       "  </tbody>\n",
       "</table>\n",
       "</div>"
      ],
      "text/plain": [
       "   Store        Date  Weekly_Sales  Holiday_Flag Temperature  Fuel_Price  \\\n",
       "0      1  05-02-2010    1643690.90             0       42.31       2.572   \n",
       "1      1  12-02-2010    1641957.44             1       38.51       2.548   \n",
       "2      1  19-02-2010    1611968.17             0       39.93       2.514   \n",
       "3      1  26-02-2010    1409727.59             0       46.63       2.561   \n",
       "4      1  05-03-2010    1554806.68             0        46.5       2.625   \n",
       "\n",
       "          CPI  Unemployment  \n",
       "0  211.096358         8.106  \n",
       "1  211.242170         8.106  \n",
       "2  211.289143         8.106  \n",
       "3  211.319643         8.106  \n",
       "4  211.350143         8.106  "
      ]
     },
     "execution_count": 27,
     "metadata": {},
     "output_type": "execute_result"
    }
   ],
   "source": [
    "import pandas as pd\n",
    "df = pd.read_csv('https://raw.githubusercontent.com/Datamanim/datarepo/main/krdatacertificate/e4_p1_1.csv')\n",
    "df.head(5)"
   ]
  },
  {
   "cell_type": "markdown",
   "id": "d4236160",
   "metadata": {},
   "source": [
    "### 1) data type을 숫자로 바꾸기 : pd.to_numeric, astype('float')\n",
    "#### pd.to_numeric\n",
    "```python\n",
    "target_column = pd.to_numeric(target_column, # 숫자로 변경할 대상 칼럼 \n",
    "                         # errors='ignore/raise/coerce')       \n",
    "```\n",
    "\n",
    "errors: error는 총 3개의 옵션이 존재\n",
    "- errors = 'ignore' -> 만약 숫자로 변경할 수 없는 데이터라면 숫자로 변경하지 않고 원본 데이터를 그대로 반환\n",
    "- errors = 'coerce' -> 만약 숫자로 변경할 수 없는 데이터라면 기존 데이터를 지우고 NaN으로 설정하여 반환\n",
    "- errors = 'raise' -> 만약 숫자로 변경할 수 없는 데이터라면 에러를 일으키며 코드를 중단\n",
    "\n",
    "#### astype('float')\n",
    "```python\n",
    "df['Temperature_f1'] = df['Temperature'].str.replace('[^\\d.]', '', regex=True).astype('float')\n",
    "```\n",
    "\n",
    "### 2) 문자열 치환 : str.replace\n",
    "```python\n",
    "str.replace('변경하고 싶은 문자',  '변경 후 문자')\n",
    "```\n",
    "\n",
    "### 3) 행열 선택 : df.loc[:, Temperature_1]\n",
    "```python\n",
    "df.loc[:,'Temperature_f1'] = df['Temperature'].str.replace('[^\\d.]', '', regex=True).astype('float')\n",
    "```"
   ]
  },
  {
   "cell_type": "code",
   "execution_count": 26,
   "id": "ffb60a5e",
   "metadata": {},
   "outputs": [
    {
     "name": "stdout",
     "output_type": "stream",
     "text": [
      "27.48\n"
     ]
    }
   ],
   "source": [
    "# Temperature컬럼에서 숫자가 아닌 문자들을 제거 후, 숫자타입으로 변경\n",
    "df['Temperature_f1'] = pd.to_numeric(df['Temperature'].str.replace('[^\\d.]', '', regex=True))\n",
    "\n",
    "# 3분위수와 1분위수의 차이를 소수점 이하 2자리까지\n",
    "q3 = df['Temperature_f1'].quantile(0.75)\n",
    "q1 = df['Temperature_f1'].quantile(0.25)\n",
    "difference = round(q3 - q1, 2)\n",
    "\n",
    "print(difference)"
   ]
  },
  {
   "cell_type": "markdown",
   "id": "00c8dbc9",
   "metadata": {},
   "source": [
    "## 2번\n",
    "Likes를 Comments로 나눈 비율이 20이상이면서 Keyword값이 minecraft인 영상들의 Views값의 평균을 정수로 구하여라"
   ]
  },
  {
   "cell_type": "code",
   "execution_count": 30,
   "id": "087d1db5",
   "metadata": {
    "scrolled": true
   },
   "outputs": [
    {
     "data": {
      "text/html": [
       "<div>\n",
       "<style scoped>\n",
       "    .dataframe tbody tr th:only-of-type {\n",
       "        vertical-align: middle;\n",
       "    }\n",
       "\n",
       "    .dataframe tbody tr th {\n",
       "        vertical-align: top;\n",
       "    }\n",
       "\n",
       "    .dataframe thead th {\n",
       "        text-align: right;\n",
       "    }\n",
       "</style>\n",
       "<table border=\"1\" class=\"dataframe\">\n",
       "  <thead>\n",
       "    <tr style=\"text-align: right;\">\n",
       "      <th></th>\n",
       "      <th>Title</th>\n",
       "      <th>Video ID</th>\n",
       "      <th>Published At</th>\n",
       "      <th>Keyword</th>\n",
       "      <th>Likes</th>\n",
       "      <th>Comments</th>\n",
       "      <th>Views</th>\n",
       "    </tr>\n",
       "  </thead>\n",
       "  <tbody>\n",
       "    <tr>\n",
       "      <th>0</th>\n",
       "      <td>Apple Pay Is Killing the Physical Wallet After...</td>\n",
       "      <td>wAZZ-UWGVHI</td>\n",
       "      <td>2022-08-23</td>\n",
       "      <td>tech</td>\n",
       "      <td>3407.0</td>\n",
       "      <td>672.0</td>\n",
       "      <td>135612.0</td>\n",
       "    </tr>\n",
       "    <tr>\n",
       "      <th>1</th>\n",
       "      <td>The most EXPENSIVE thing I own.</td>\n",
       "      <td>b3x28s61q3c</td>\n",
       "      <td>2022-08-24</td>\n",
       "      <td>tech</td>\n",
       "      <td>76779.0</td>\n",
       "      <td>4306.0</td>\n",
       "      <td>1758063.0</td>\n",
       "    </tr>\n",
       "    <tr>\n",
       "      <th>2</th>\n",
       "      <td>My New House Gaming Setup is SICK!</td>\n",
       "      <td>4mgePWWCAmA</td>\n",
       "      <td>2022-08-23</td>\n",
       "      <td>tech</td>\n",
       "      <td>63825.0</td>\n",
       "      <td>3338.0</td>\n",
       "      <td>1564007.0</td>\n",
       "    </tr>\n",
       "    <tr>\n",
       "      <th>3</th>\n",
       "      <td>Petrol Vs Liquid Nitrogen | Freezing Experimen...</td>\n",
       "      <td>kXiYSI7H2b0</td>\n",
       "      <td>2022-08-23</td>\n",
       "      <td>tech</td>\n",
       "      <td>71566.0</td>\n",
       "      <td>1426.0</td>\n",
       "      <td>922918.0</td>\n",
       "    </tr>\n",
       "    <tr>\n",
       "      <th>4</th>\n",
       "      <td>Best Back to School Tech 2022!</td>\n",
       "      <td>ErMwWXQxHp0</td>\n",
       "      <td>2022-08-08</td>\n",
       "      <td>tech</td>\n",
       "      <td>96513.0</td>\n",
       "      <td>5155.0</td>\n",
       "      <td>1855644.0</td>\n",
       "    </tr>\n",
       "  </tbody>\n",
       "</table>\n",
       "</div>"
      ],
      "text/plain": [
       "                                               Title     Video ID  \\\n",
       "0  Apple Pay Is Killing the Physical Wallet After...  wAZZ-UWGVHI   \n",
       "1                    The most EXPENSIVE thing I own.  b3x28s61q3c   \n",
       "2                 My New House Gaming Setup is SICK!  4mgePWWCAmA   \n",
       "3  Petrol Vs Liquid Nitrogen | Freezing Experimen...  kXiYSI7H2b0   \n",
       "4                     Best Back to School Tech 2022!  ErMwWXQxHp0   \n",
       "\n",
       "  Published At Keyword    Likes  Comments      Views  \n",
       "0   2022-08-23    tech   3407.0     672.0   135612.0  \n",
       "1   2022-08-24    tech  76779.0    4306.0  1758063.0  \n",
       "2   2022-08-23    tech  63825.0    3338.0  1564007.0  \n",
       "3   2022-08-23    tech  71566.0    1426.0   922918.0  \n",
       "4   2022-08-08    tech  96513.0    5155.0  1855644.0  "
      ]
     },
     "execution_count": 30,
     "metadata": {},
     "output_type": "execute_result"
    }
   ],
   "source": [
    "import pandas as pd\n",
    "df = pd.read_csv('https://raw.githubusercontent.com/Datamanim/datarepo/main/krdatacertificate/e4_p1_2.csv')\n",
    "df.head(5)"
   ]
  },
  {
   "cell_type": "markdown",
   "id": "fd3ad5d4",
   "metadata": {},
   "source": [
    "### 조건에 맞는 행 추출 : 조건을 괄호()로 감싸주기 \n",
    "- 추출하기 위한 조건이 2개 이상인 경우 각 조건을 '괄호()'로 묶어주는 것이 안전 !\n",
    "\n",
    "- 조건1과 조건2가 있을 때, 이 두 조건을 모두 만족하는 데이터를 추출하고 싶다면 '&' 을 사용 \n",
    "```python\n",
    "# 조건을 둘다 만족해야 할때\n",
    "df[(조건1) & (조건2)]\n",
    "```\n",
    "\n",
    "- 두 조건 중 하나라도 조건을 만족하는 데이터를 추출하고 싶다면 '|' 를 사용\n",
    "```python\n",
    "# 조건 중 하나라도 만족하면 될때\n",
    "df[(조건1) | (조건2)]\n",
    "```"
   ]
  },
  {
   "cell_type": "code",
   "execution_count": 41,
   "id": "570eb0d7",
   "metadata": {},
   "outputs": [
    {
     "name": "stdout",
     "output_type": "stream",
     "text": [
      "1789084\n"
     ]
    }
   ],
   "source": [
    "# 풀이 1\n",
    "# Likes를 comments로 나눈 비율이 20이상\n",
    "ratio = df[\"Likes\"] / df[\"Comments\"]\n",
    "cond1 = (ratio >= 20)\n",
    "\n",
    "# Keyword값이 minecraft\n",
    "cond2 = (df[\"Keyword\"] == \"minecraft\")\n",
    "\n",
    "# 두 조건(&) Veiws 값의 평균을 정수로 출력\n",
    "result = int(df[cond1 & cond2][\"Views\"].mean())\n",
    "print(result)"
   ]
  },
  {
   "cell_type": "code",
   "execution_count": 40,
   "id": "a58ced4d",
   "metadata": {},
   "outputs": [
    {
     "name": "stdout",
     "output_type": "stream",
     "text": [
      "1789084\n"
     ]
    }
   ],
   "source": [
    "# 풀이 2\n",
    "result = df[((df['Likes'] / df['Comments']) >=20) & (df[\"Keyword\"] == 'minecraft')].Views.mean()\n",
    "\n",
    "print(int(result))"
   ]
  },
  {
   "cell_type": "markdown",
   "id": "cb9c1605",
   "metadata": {},
   "source": [
    "## 3번\n",
    "date_added가 2018년 1월 이면서 country가 United Kingdom 단독 제작인 데이터의 갯수\n",
    "- 캐글 동일 문제 $\\rightarrow$ 풀이 참고"
   ]
  },
  {
   "cell_type": "code",
   "execution_count": 42,
   "id": "618a02a2",
   "metadata": {},
   "outputs": [
    {
     "data": {
      "text/html": [
       "<div>\n",
       "<style scoped>\n",
       "    .dataframe tbody tr th:only-of-type {\n",
       "        vertical-align: middle;\n",
       "    }\n",
       "\n",
       "    .dataframe tbody tr th {\n",
       "        vertical-align: top;\n",
       "    }\n",
       "\n",
       "    .dataframe thead th {\n",
       "        text-align: right;\n",
       "    }\n",
       "</style>\n",
       "<table border=\"1\" class=\"dataframe\">\n",
       "  <thead>\n",
       "    <tr style=\"text-align: right;\">\n",
       "      <th></th>\n",
       "      <th>show_id</th>\n",
       "      <th>type</th>\n",
       "      <th>title</th>\n",
       "      <th>director</th>\n",
       "      <th>cast</th>\n",
       "      <th>country</th>\n",
       "      <th>date_added</th>\n",
       "      <th>release_year</th>\n",
       "      <th>rating</th>\n",
       "      <th>duration</th>\n",
       "      <th>listed_in</th>\n",
       "      <th>description</th>\n",
       "    </tr>\n",
       "  </thead>\n",
       "  <tbody>\n",
       "    <tr>\n",
       "      <th>0</th>\n",
       "      <td>s1</td>\n",
       "      <td>Movie</td>\n",
       "      <td>Dick Johnson Is Dead</td>\n",
       "      <td>Kirsten Johnson</td>\n",
       "      <td>NaN</td>\n",
       "      <td>United States</td>\n",
       "      <td>September 25, 2021</td>\n",
       "      <td>2020</td>\n",
       "      <td>PG-13</td>\n",
       "      <td>90 min</td>\n",
       "      <td>Documentaries</td>\n",
       "      <td>As her father nears the end of his life, filmm...</td>\n",
       "    </tr>\n",
       "    <tr>\n",
       "      <th>1</th>\n",
       "      <td>s2</td>\n",
       "      <td>TV Show</td>\n",
       "      <td>Blood &amp; Water</td>\n",
       "      <td>NaN</td>\n",
       "      <td>Ama Qamata, Khosi Ngema, Gail Mabalane, Thaban...</td>\n",
       "      <td>South Africa</td>\n",
       "      <td>September 24, 2021</td>\n",
       "      <td>2021</td>\n",
       "      <td>TV-MA</td>\n",
       "      <td>2 Seasons</td>\n",
       "      <td>International TV Shows, TV Dramas, TV Mysteries</td>\n",
       "      <td>After crossing paths at a party, a Cape Town t...</td>\n",
       "    </tr>\n",
       "    <tr>\n",
       "      <th>2</th>\n",
       "      <td>s3</td>\n",
       "      <td>TV Show</td>\n",
       "      <td>Ganglands</td>\n",
       "      <td>Julien Leclercq</td>\n",
       "      <td>Sami Bouajila, Tracy Gotoas, Samuel Jouy, Nabi...</td>\n",
       "      <td>NaN</td>\n",
       "      <td>September 24, 2021</td>\n",
       "      <td>2021</td>\n",
       "      <td>TV-MA</td>\n",
       "      <td>1 Season</td>\n",
       "      <td>Crime TV Shows, International TV Shows, TV Act...</td>\n",
       "      <td>To protect his family from a powerful drug lor...</td>\n",
       "    </tr>\n",
       "    <tr>\n",
       "      <th>3</th>\n",
       "      <td>s4</td>\n",
       "      <td>TV Show</td>\n",
       "      <td>Jailbirds New Orleans</td>\n",
       "      <td>NaN</td>\n",
       "      <td>NaN</td>\n",
       "      <td>NaN</td>\n",
       "      <td>September 24, 2021</td>\n",
       "      <td>2021</td>\n",
       "      <td>TV-MA</td>\n",
       "      <td>1 Season</td>\n",
       "      <td>Docuseries, Reality TV</td>\n",
       "      <td>Feuds, flirtations and toilet talk go down amo...</td>\n",
       "    </tr>\n",
       "    <tr>\n",
       "      <th>4</th>\n",
       "      <td>s5</td>\n",
       "      <td>TV Show</td>\n",
       "      <td>Kota Factory</td>\n",
       "      <td>NaN</td>\n",
       "      <td>Mayur More, Jitendra Kumar, Ranjan Raj, Alam K...</td>\n",
       "      <td>India</td>\n",
       "      <td>September 24, 2021</td>\n",
       "      <td>2021</td>\n",
       "      <td>TV-MA</td>\n",
       "      <td>2 Seasons</td>\n",
       "      <td>International TV Shows, Romantic TV Shows, TV ...</td>\n",
       "      <td>In a city of coaching centers known to train I...</td>\n",
       "    </tr>\n",
       "  </tbody>\n",
       "</table>\n",
       "</div>"
      ],
      "text/plain": [
       "  show_id     type                  title         director  \\\n",
       "0      s1    Movie   Dick Johnson Is Dead  Kirsten Johnson   \n",
       "1      s2  TV Show          Blood & Water              NaN   \n",
       "2      s3  TV Show              Ganglands  Julien Leclercq   \n",
       "3      s4  TV Show  Jailbirds New Orleans              NaN   \n",
       "4      s5  TV Show           Kota Factory              NaN   \n",
       "\n",
       "                                                cast        country  \\\n",
       "0                                                NaN  United States   \n",
       "1  Ama Qamata, Khosi Ngema, Gail Mabalane, Thaban...   South Africa   \n",
       "2  Sami Bouajila, Tracy Gotoas, Samuel Jouy, Nabi...            NaN   \n",
       "3                                                NaN            NaN   \n",
       "4  Mayur More, Jitendra Kumar, Ranjan Raj, Alam K...          India   \n",
       "\n",
       "           date_added  release_year rating   duration  \\\n",
       "0  September 25, 2021          2020  PG-13     90 min   \n",
       "1  September 24, 2021          2021  TV-MA  2 Seasons   \n",
       "2  September 24, 2021          2021  TV-MA   1 Season   \n",
       "3  September 24, 2021          2021  TV-MA   1 Season   \n",
       "4  September 24, 2021          2021  TV-MA  2 Seasons   \n",
       "\n",
       "                                           listed_in  \\\n",
       "0                                      Documentaries   \n",
       "1    International TV Shows, TV Dramas, TV Mysteries   \n",
       "2  Crime TV Shows, International TV Shows, TV Act...   \n",
       "3                             Docuseries, Reality TV   \n",
       "4  International TV Shows, Romantic TV Shows, TV ...   \n",
       "\n",
       "                                         description  \n",
       "0  As her father nears the end of his life, filmm...  \n",
       "1  After crossing paths at a party, a Cape Town t...  \n",
       "2  To protect his family from a powerful drug lor...  \n",
       "3  Feuds, flirtations and toilet talk go down amo...  \n",
       "4  In a city of coaching centers known to train I...  "
      ]
     },
     "execution_count": 42,
     "metadata": {},
     "output_type": "execute_result"
    }
   ],
   "source": [
    "import pandas as pd\n",
    "df = pd.read_csv('https://raw.githubusercontent.com/Datamanim/datarepo/main/krdatacertificate/e4_p1_3.csv')\n",
    "df.head(5)"
   ]
  },
  {
   "cell_type": "markdown",
   "id": "314d5383",
   "metadata": {},
   "source": [
    "### 날짜를 이용하는 문제는 pd.to_datetime을 이용하자 !\n",
    "- 날짜 간 연산(ex. 날짜 데이터 형태 변환, 신규 날짜 생성, 날짜 간 연산 등)을 하기 위해서는 시계열 데이터 날짜가 datetime 타입이어야 유용함\n",
    "\n",
    "#### 특정 월에 해당하는 데이터를 찾으려면? \n",
    "1) 년도와 월을 따로 조건 지정  \n",
    "2) 이상, 이하 조건을 따로 지정   \n",
    "3) between 함수를 활용  "
   ]
  },
  {
   "cell_type": "code",
   "execution_count": 51,
   "id": "f25e4ed8",
   "metadata": {},
   "outputs": [
    {
     "name": "stdout",
     "output_type": "stream",
     "text": [
      "6\n"
     ]
    }
   ],
   "source": [
    "# 풀이 1 : 년도와 월 조건으로 따로 지정\n",
    "\n",
    "# 날짜를 쉽게 이용하기 위해 datetime 시계열 타입으로 변경\n",
    "df[\"date_added\"] = pd.to_datetime(df[\"date_added\"])\n",
    "\n",
    "df['year'] = df['date_added'].dt.year\n",
    "df['month'] = df['date_added'].dt.month\n",
    "\n",
    "# date_added가 2018년 1월인 조건\n",
    "cond1 = df['year'] == 2018\n",
    "cond2 = df['month'] == 1\n",
    "cond3 = df['country'] == \"United Kingdom\"\n",
    "\n",
    "print(len(df[cond1 & cond2 & cond3]))"
   ]
  },
  {
   "cell_type": "code",
   "execution_count": 57,
   "id": "78338a04",
   "metadata": {},
   "outputs": [
    {
     "name": "stdout",
     "output_type": "stream",
     "text": [
      "6\n"
     ]
    }
   ],
   "source": [
    "# 풀이 2 : 이상, 이하 조건을 따로 지정\n",
    "\n",
    "df['date_added'] = pd.to_datetime(df['date_added'])\n",
    "\n",
    "cond1 = df['date_added'] >= '2018-1-1'\n",
    "cond2 = df['date_added'] <= '2018-1-31'\n",
    "\n",
    "cond3 = df['country'] == \"United Kingdom\"\n",
    "\n",
    "print(len(df[cond1 & cond2 & cond3]))"
   ]
  },
  {
   "cell_type": "code",
   "execution_count": 56,
   "id": "4f3eed41",
   "metadata": {},
   "outputs": [
    {
     "name": "stdout",
     "output_type": "stream",
     "text": [
      "6\n"
     ]
    }
   ],
   "source": [
    "# 풀이 3 : datatime + between 활용\n",
    "import pandas as pd\n",
    "\n",
    "df['date_added'] = pd.to_datetime(df['date_added'])\n",
    "cond1 = df['date_added'].between('2018-1-1', '2018-1-31')\n",
    "\n",
    "cond2 = df['country'] == \"United Kingdom\"\n",
    "\n",
    "print(len(df[cond1 & cond2]))"
   ]
  },
  {
   "cell_type": "markdown",
   "id": "ee5c05c2",
   "metadata": {},
   "source": [
    "### 칼럼명.dt.strftime(\"%Y-%m\")\n",
    "```python\n",
    "# 'date_added' 컬럼의 값을 \"%Y-%m\" 형식의 연도와 월로 변환\n",
    "df.date_added.dt.strftime(\"%Y-%m\")\n",
    "```"
   ]
  },
  {
   "cell_type": "code",
   "execution_count": 54,
   "id": "d8dc18aa",
   "metadata": {
    "scrolled": true
   },
   "outputs": [
    {
     "name": "stdout",
     "output_type": "stream",
     "text": [
      "6\n"
     ]
    }
   ],
   "source": [
    "# 풀이 4\n",
    "result = df[(df.date_added.dt.strftime(\"%Y-%m\") =='2018-01') & (df.country =='United Kingdom')]\n",
    "\n",
    "print(len(result))"
   ]
  },
  {
   "cell_type": "markdown",
   "id": "9da39a90",
   "metadata": {},
   "source": [
    "---"
   ]
  },
  {
   "cell_type": "markdown",
   "id": "b7470bd0",
   "metadata": {},
   "source": [
    "# 4회 작업형1 (캐글)\n",
    "[캐글 링크](https://www.kaggle.com/code/agileteam/4th-type1-python/notebook)\n",
    "\n",
    "- 3번은 데이터 마님이랑 동일 문제"
   ]
  },
  {
   "cell_type": "markdown",
   "id": "f0827b33",
   "metadata": {},
   "source": [
    "## 1번"
   ]
  },
  {
   "cell_type": "code",
   "execution_count": null,
   "id": "74060d32",
   "metadata": {},
   "outputs": [],
   "source": []
  },
  {
   "cell_type": "markdown",
   "id": "8d85778b",
   "metadata": {},
   "source": [
    "## 2번"
   ]
  },
  {
   "cell_type": "code",
   "execution_count": null,
   "id": "2b99a934",
   "metadata": {},
   "outputs": [],
   "source": []
  },
  {
   "cell_type": "markdown",
   "id": "565c7154",
   "metadata": {},
   "source": [
    "---"
   ]
  },
  {
   "cell_type": "markdown",
   "id": "fab2e8d7",
   "metadata": {},
   "source": [
    "# 4회 작업형1 (데이터 에듀)"
   ]
  },
  {
   "cell_type": "code",
   "execution_count": null,
   "id": "c5909daa",
   "metadata": {},
   "outputs": [],
   "source": []
  },
  {
   "cell_type": "code",
   "execution_count": null,
   "id": "e5bbd319",
   "metadata": {},
   "outputs": [],
   "source": []
  }
 ],
 "metadata": {
  "kernelspec": {
   "display_name": "Python 3 (ipykernel)",
   "language": "python",
   "name": "python3"
  },
  "language_info": {
   "codemirror_mode": {
    "name": "ipython",
    "version": 3
   },
   "file_extension": ".py",
   "mimetype": "text/x-python",
   "name": "python",
   "nbconvert_exporter": "python",
   "pygments_lexer": "ipython3",
   "version": "3.9.13"
  }
 },
 "nbformat": 4,
 "nbformat_minor": 5
}
