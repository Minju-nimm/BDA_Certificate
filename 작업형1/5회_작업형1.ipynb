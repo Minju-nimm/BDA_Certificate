{
 "cells": [
  {
   "attachments": {},
   "cell_type": "markdown",
   "id": "7f980f61",
   "metadata": {},
   "source": [
    "# 5회 작업형1 (데이터 마님)\n",
    "[데이터 마님 링크](https://www.datamanim.com/dataset/practice/ex5.html)"
   ]
  },
  {
   "cell_type": "code",
   "execution_count": 13,
   "id": "a54627ab",
   "metadata": {},
   "outputs": [],
   "source": [
    "# 경고 메세지 숨기기\n",
    "import warnings\n",
    "warnings.filterwarnings(\"ignore\")"
   ]
  },
  {
   "attachments": {},
   "cell_type": "markdown",
   "id": "de7a2ca2",
   "metadata": {},
   "source": [
    "## 1번\n",
    "- 20L가격과 5L가격이 모두 0원이 아닌 데이터만 필터를 한 후, 각 row별로 20L가격과 5L가격의 차이를 ‘차이가격’ 이라 부른다고 하자. \n",
    "- 시도명 별 차이가격의 평균가격을 비교할때 그 값이 가장 큰 금액을 반올림하여 소숫점 이하 1자리까지 구하여라"
   ]
  },
  {
   "cell_type": "code",
   "execution_count": 4,
   "id": "d4c7ced9",
   "metadata": {},
   "outputs": [
    {
     "data": {
      "text/html": [
       "<div>\n",
       "<style scoped>\n",
       "    .dataframe tbody tr th:only-of-type {\n",
       "        vertical-align: middle;\n",
       "    }\n",
       "\n",
       "    .dataframe tbody tr th {\n",
       "        vertical-align: top;\n",
       "    }\n",
       "\n",
       "    .dataframe thead th {\n",
       "        text-align: right;\n",
       "    }\n",
       "</style>\n",
       "<table border=\"1\" class=\"dataframe\">\n",
       "  <thead>\n",
       "    <tr style=\"text-align: right;\">\n",
       "      <th></th>\n",
       "      <th>시도명</th>\n",
       "      <th>시군구명</th>\n",
       "      <th>종량제봉투종류</th>\n",
       "      <th>종량제봉투처리방식</th>\n",
       "      <th>종량제봉투용도</th>\n",
       "      <th>종량제봉투사용대상</th>\n",
       "      <th>1L가격</th>\n",
       "      <th>1.5L가격</th>\n",
       "      <th>2L가격</th>\n",
       "      <th>2.5L가격</th>\n",
       "      <th>...</th>\n",
       "      <th>60L가격</th>\n",
       "      <th>75L가격</th>\n",
       "      <th>100L가격</th>\n",
       "      <th>120L가격</th>\n",
       "      <th>125L가격</th>\n",
       "      <th>관리부서명</th>\n",
       "      <th>관리부서전화번호</th>\n",
       "      <th>데이터기준일자</th>\n",
       "      <th>제공기관코드</th>\n",
       "      <th>제공기관명</th>\n",
       "    </tr>\n",
       "  </thead>\n",
       "  <tbody>\n",
       "    <tr>\n",
       "      <th>0</th>\n",
       "      <td>경기도</td>\n",
       "      <td>안양시</td>\n",
       "      <td>규격봉투</td>\n",
       "      <td>매립용</td>\n",
       "      <td>생활쓰레기</td>\n",
       "      <td>사업장용</td>\n",
       "      <td>0</td>\n",
       "      <td>0</td>\n",
       "      <td>0</td>\n",
       "      <td>0</td>\n",
       "      <td>...</td>\n",
       "      <td>0</td>\n",
       "      <td>2100</td>\n",
       "      <td>0</td>\n",
       "      <td>0</td>\n",
       "      <td>0</td>\n",
       "      <td>자원순환과</td>\n",
       "      <td>031-8045-5448</td>\n",
       "      <td>2022-08-12</td>\n",
       "      <td>3830000</td>\n",
       "      <td>경기도 안양시</td>\n",
       "    </tr>\n",
       "    <tr>\n",
       "      <th>1</th>\n",
       "      <td>경기도</td>\n",
       "      <td>안양시</td>\n",
       "      <td>규격봉투</td>\n",
       "      <td>매립용</td>\n",
       "      <td>생활쓰레기</td>\n",
       "      <td>기타</td>\n",
       "      <td>0</td>\n",
       "      <td>0</td>\n",
       "      <td>0</td>\n",
       "      <td>0</td>\n",
       "      <td>...</td>\n",
       "      <td>0</td>\n",
       "      <td>2100</td>\n",
       "      <td>0</td>\n",
       "      <td>0</td>\n",
       "      <td>0</td>\n",
       "      <td>자원순환과</td>\n",
       "      <td>031-8045-5448</td>\n",
       "      <td>2022-08-12</td>\n",
       "      <td>3830000</td>\n",
       "      <td>경기도 안양시</td>\n",
       "    </tr>\n",
       "  </tbody>\n",
       "</table>\n",
       "<p>2 rows × 26 columns</p>\n",
       "</div>"
      ],
      "text/plain": [
       "   시도명 시군구명 종량제봉투종류 종량제봉투처리방식 종량제봉투용도 종량제봉투사용대상  1L가격  1.5L가격  2L가격  2.5L가격  \\\n",
       "0  경기도  안양시    규격봉투       매립용   생활쓰레기      사업장용     0       0     0       0   \n",
       "1  경기도  안양시    규격봉투       매립용   생활쓰레기        기타     0       0     0       0   \n",
       "\n",
       "   ...  60L가격  75L가격  100L가격  120L가격  125L가격  관리부서명       관리부서전화번호  \\\n",
       "0  ...      0   2100       0       0       0  자원순환과  031-8045-5448   \n",
       "1  ...      0   2100       0       0       0  자원순환과  031-8045-5448   \n",
       "\n",
       "      데이터기준일자   제공기관코드    제공기관명  \n",
       "0  2022-08-12  3830000  경기도 안양시  \n",
       "1  2022-08-12  3830000  경기도 안양시  \n",
       "\n",
       "[2 rows x 26 columns]"
      ]
     },
     "execution_count": 4,
     "metadata": {},
     "output_type": "execute_result"
    }
   ],
   "source": [
    "import pandas as pd\n",
    "df = pd.read_csv('https://raw.githubusercontent.com/Datamanim/datarepo/main/krdatacertificate/e5_p1_1_.csv')\n",
    "df.head(2)"
   ]
  },
  {
   "attachments": {},
   "cell_type": "markdown",
   "id": "72697cc4",
   "metadata": {},
   "source": [
    "### 1) 시도명 '별' 차이가격의 평균가격을 비교 -> groupby() 떠올릴 것\n",
    "\n",
    "### 2) 내림차순 정렬 : sort_values(ascending=False)   \n",
    "\n",
    "### 3) 조건에 맞는 데이터만 남기도록 필터링 할 때 df.reset_index(drop=True) 습관화 하자\n",
    "- 인덱스 꼬일수도 있으니 !\n",
    "\n",
    "### 4) 가장 큰 값, 최대값을 구하는 것이므로 .max( ) 활용 가능"
   ]
  },
  {
   "cell_type": "code",
   "execution_count": 14,
   "id": "8f98bd71",
   "metadata": {},
   "outputs": [
    {
     "name": "stdout",
     "output_type": "stream",
     "text": [
      "619.0\n"
     ]
    }
   ],
   "source": [
    "# 20L 가격, 5L 가격이 모두 0원이 아닌 데이터만 필터\n",
    "df_filter = df[(df[\"20L가격\"] !=0) & (df[\"5L가격\"] !=0)]\n",
    "# df_filter = df[(df[\"20L가격\"] !=0) & (df[\"5L가격\"] !=0)].reset_index(drop=True)\n",
    "\n",
    "# print(df.shape) # (762, 26)\n",
    "# print(df_filter.shape) # (454, 26)\n",
    "# print(len(df_filter[df_filter[\"20L가격\"] == 0]))  # 0임을 확인\n",
    "\n",
    "# 차이가격 칼럼 생성\n",
    "df_filter[\"차이가격\"] = df_filter[\"20L가격\"] - df_filter[\"5L가격\"]\n",
    "\n",
    "# 시도명 별 차이가격의 평균 값 비교할 때 가장 큰 값을 반올림하여 소수점 이하 1자리까지\n",
    "diff_mean = df_filter.groupby(\"시도명\")[\"차이가격\"].mean()\n",
    "result = diff_mean.sort_values(ascending=False)[0]\n",
    "print(round(result, 1))"
   ]
  },
  {
   "cell_type": "code",
   "execution_count": 17,
   "id": "71cda468",
   "metadata": {},
   "outputs": [
    {
     "name": "stdout",
     "output_type": "stream",
     "text": [
      "619.0\n"
     ]
    }
   ],
   "source": [
    "# 가장 큰 값을 반올림하여 소숫점 이하 1자리까지 출력\n",
    "max_price = round(diff_mean.max(), 1)\n",
    "print(max_price)"
   ]
  },
  {
   "attachments": {},
   "cell_type": "markdown",
   "id": "c378de57",
   "metadata": {},
   "source": [
    "### 참고 - 다른 풀이 : 정렬을 적용해 시리즈를 데이터 프레임으로 만들고, 칼럼의 max( ) 이용\n",
    "#### Series.to_frame() 정렬된 결과를 새로운 데이터프레임으로 변환\n",
    "- 보통 groupby를 통해 통계값을 출력하게 되면 시리즈로 바뀜\n",
    "- 시리즈를 데이터 프레임으로 바꾸기 위해서 .to_frame()을 사용"
   ]
  },
  {
   "cell_type": "code",
   "execution_count": 16,
   "id": "10095e4b",
   "metadata": {},
   "outputs": [
    {
     "data": {
      "text/html": [
       "<div>\n",
       "<style scoped>\n",
       "    .dataframe tbody tr th:only-of-type {\n",
       "        vertical-align: middle;\n",
       "    }\n",
       "\n",
       "    .dataframe tbody tr th {\n",
       "        vertical-align: top;\n",
       "    }\n",
       "\n",
       "    .dataframe thead th {\n",
       "        text-align: right;\n",
       "    }\n",
       "</style>\n",
       "<table border=\"1\" class=\"dataframe\">\n",
       "  <thead>\n",
       "    <tr style=\"text-align: right;\">\n",
       "      <th></th>\n",
       "      <th>차이가격</th>\n",
       "    </tr>\n",
       "    <tr>\n",
       "      <th>시도명</th>\n",
       "      <th></th>\n",
       "    </tr>\n",
       "  </thead>\n",
       "  <tbody>\n",
       "    <tr>\n",
       "      <th>제주특별자치도</th>\n",
       "      <td>580.0</td>\n",
       "    </tr>\n",
       "    <tr>\n",
       "      <th>부산광역시</th>\n",
       "      <td>593.0</td>\n",
       "    </tr>\n",
       "    <tr>\n",
       "      <th>인천광역시</th>\n",
       "      <td>619.0</td>\n",
       "    </tr>\n",
       "  </tbody>\n",
       "</table>\n",
       "</div>"
      ],
      "text/plain": [
       "          차이가격\n",
       "시도명           \n",
       "제주특별자치도  580.0\n",
       "부산광역시    593.0\n",
       "인천광역시    619.0"
      ]
     },
     "metadata": {},
     "output_type": "display_data"
    },
    {
     "name": "stdout",
     "output_type": "stream",
     "text": [
      "619.0\n"
     ]
    }
   ],
   "source": [
    "# Pandas의 설정 옵션 변경\n",
    "# 최대 출력 열을 100개 까지만\n",
    "# pd.set_option('display.max_columns', 100)\n",
    "\n",
    "# 20L 가격, 5L 가격이 모두 0이 아닌 데이터만 필터\n",
    "filter_df = df[(df['5L가격'] != 0) & ((df['20L가격'] != 0))].reset_index(drop=True)\n",
    "filter_df['차이가격'] = filter_df['20L가격'] - filter_df['5L가격']\n",
    "\n",
    "# 시도명 별 차이가격의 평균가격을 비교 -> '별'로 분류하므로, groupby 떠올릴 것\n",
    "df_grpby = filter_df.groupby(['시도명'])['차이가격'].mean().sort_values(ascending=True).to_frame()\n",
    "# display(df_grpby.tail(3))"
   ]
  },
  {
   "attachments": {},
   "cell_type": "markdown",
   "id": "cc1037b6",
   "metadata": {},
   "source": [
    "---"
   ]
  },
  {
   "attachments": {},
   "cell_type": "markdown",
   "id": "d3c7e37a",
   "metadata": {},
   "source": [
    "## 2번\n",
    "- BMI : 몸무게를 키의 제곱으로 나눈 값\n",
    "- 몸무게, 키(cm)주어지고 BMI = 몸무게/(키(m)의 제곱) 정상범주, 과체중 범주 인원차이\n",
    "\n",
    "BMI는 몸무게(kg) / (키(M) * 키(M)) 로 정의 된다. 초고도 비만은 BMI 25이상, 고도 비만은 BMI 25미만 - 23 이상, 정상은 23 미만 - 18.5 이상, 저체중은 18.5 미만으로 정의 된다. 주어진 데이터에서 초고도비만 인원 + 저체중 인원 의 숫자는?"
   ]
  },
  {
   "cell_type": "code",
   "execution_count": 35,
   "id": "3f55dd59",
   "metadata": {},
   "outputs": [
    {
     "data": {
      "text/html": [
       "<div>\n",
       "<style scoped>\n",
       "    .dataframe tbody tr th:only-of-type {\n",
       "        vertical-align: middle;\n",
       "    }\n",
       "\n",
       "    .dataframe tbody tr th {\n",
       "        vertical-align: top;\n",
       "    }\n",
       "\n",
       "    .dataframe thead th {\n",
       "        text-align: right;\n",
       "    }\n",
       "</style>\n",
       "<table border=\"1\" class=\"dataframe\">\n",
       "  <thead>\n",
       "    <tr style=\"text-align: right;\">\n",
       "      <th></th>\n",
       "      <th>ID</th>\n",
       "      <th>height(cm)</th>\n",
       "      <th>weight(kg)</th>\n",
       "    </tr>\n",
       "  </thead>\n",
       "  <tbody>\n",
       "    <tr>\n",
       "      <th>0</th>\n",
       "      <td>user_1</td>\n",
       "      <td>173.0</td>\n",
       "      <td>67.5</td>\n",
       "    </tr>\n",
       "    <tr>\n",
       "      <th>1</th>\n",
       "      <td>user_2</td>\n",
       "      <td>149.5</td>\n",
       "      <td>82.5</td>\n",
       "    </tr>\n",
       "    <tr>\n",
       "      <th>2</th>\n",
       "      <td>user_3</td>\n",
       "      <td>143.8</td>\n",
       "      <td>64.6</td>\n",
       "    </tr>\n",
       "    <tr>\n",
       "      <th>3</th>\n",
       "      <td>user_4</td>\n",
       "      <td>163.1</td>\n",
       "      <td>87.2</td>\n",
       "    </tr>\n",
       "    <tr>\n",
       "      <th>4</th>\n",
       "      <td>user_5</td>\n",
       "      <td>159.6</td>\n",
       "      <td>77.1</td>\n",
       "    </tr>\n",
       "  </tbody>\n",
       "</table>\n",
       "</div>"
      ],
      "text/plain": [
       "       ID  height(cm)  weight(kg)\n",
       "0  user_1       173.0        67.5\n",
       "1  user_2       149.5        82.5\n",
       "2  user_3       143.8        64.6\n",
       "3  user_4       163.1        87.2\n",
       "4  user_5       159.6        77.1"
      ]
     },
     "execution_count": 35,
     "metadata": {},
     "output_type": "execute_result"
    }
   ],
   "source": [
    "import pandas as pd\n",
    "df = pd.read_csv('https://raw.githubusercontent.com/Datamanim/datarepo/main/krdatacertificate/e5_p1_2_.csv')\n",
    "df.head(5)"
   ]
  },
  {
   "attachments": {},
   "cell_type": "markdown",
   "id": "be28119d",
   "metadata": {},
   "source": [
    "### 원본 데이터 키가 cm로 되어있어서 m로 변환후 계산해야함 !!!"
   ]
  },
  {
   "cell_type": "code",
   "execution_count": 41,
   "id": "12e37f4b",
   "metadata": {},
   "outputs": [
    {
     "data": {
      "text/html": [
       "<div>\n",
       "<style scoped>\n",
       "    .dataframe tbody tr th:only-of-type {\n",
       "        vertical-align: middle;\n",
       "    }\n",
       "\n",
       "    .dataframe tbody tr th {\n",
       "        vertical-align: top;\n",
       "    }\n",
       "\n",
       "    .dataframe thead th {\n",
       "        text-align: right;\n",
       "    }\n",
       "</style>\n",
       "<table border=\"1\" class=\"dataframe\">\n",
       "  <thead>\n",
       "    <tr style=\"text-align: right;\">\n",
       "      <th></th>\n",
       "      <th>ID</th>\n",
       "      <th>height(cm)</th>\n",
       "      <th>weight(kg)</th>\n",
       "      <th>height(m)</th>\n",
       "      <th>BMI</th>\n",
       "      <th>BMI_cat</th>\n",
       "    </tr>\n",
       "  </thead>\n",
       "  <tbody>\n",
       "    <tr>\n",
       "      <th>0</th>\n",
       "      <td>user_1</td>\n",
       "      <td>173.0</td>\n",
       "      <td>67.5</td>\n",
       "      <td>1.730</td>\n",
       "      <td>22.553376</td>\n",
       "      <td>정상</td>\n",
       "    </tr>\n",
       "    <tr>\n",
       "      <th>1</th>\n",
       "      <td>user_2</td>\n",
       "      <td>149.5</td>\n",
       "      <td>82.5</td>\n",
       "      <td>1.495</td>\n",
       "      <td>36.912339</td>\n",
       "      <td>초고도 비만</td>\n",
       "    </tr>\n",
       "    <tr>\n",
       "      <th>2</th>\n",
       "      <td>user_3</td>\n",
       "      <td>143.8</td>\n",
       "      <td>64.6</td>\n",
       "      <td>1.438</td>\n",
       "      <td>31.240268</td>\n",
       "      <td>초고도 비만</td>\n",
       "    </tr>\n",
       "    <tr>\n",
       "      <th>3</th>\n",
       "      <td>user_4</td>\n",
       "      <td>163.1</td>\n",
       "      <td>87.2</td>\n",
       "      <td>1.631</td>\n",
       "      <td>32.779971</td>\n",
       "      <td>초고도 비만</td>\n",
       "    </tr>\n",
       "    <tr>\n",
       "      <th>4</th>\n",
       "      <td>user_5</td>\n",
       "      <td>159.6</td>\n",
       "      <td>77.1</td>\n",
       "      <td>1.596</td>\n",
       "      <td>30.268340</td>\n",
       "      <td>초고도 비만</td>\n",
       "    </tr>\n",
       "  </tbody>\n",
       "</table>\n",
       "</div>"
      ],
      "text/plain": [
       "       ID  height(cm)  weight(kg)  height(m)        BMI BMI_cat\n",
       "0  user_1       173.0        67.5      1.730  22.553376      정상\n",
       "1  user_2       149.5        82.5      1.495  36.912339  초고도 비만\n",
       "2  user_3       143.8        64.6      1.438  31.240268  초고도 비만\n",
       "3  user_4       163.1        87.2      1.631  32.779971  초고도 비만\n",
       "4  user_5       159.6        77.1      1.596  30.268340  초고도 비만"
      ]
     },
     "metadata": {},
     "output_type": "display_data"
    },
    {
     "name": "stdout",
     "output_type": "stream",
     "text": [
      "8998\n"
     ]
    }
   ],
   "source": [
    "# cm -> m 변환해서 칼럼 생성\n",
    "df[\"height(m)\"] = df[\"height(cm)\"]/100\n",
    "\n",
    "# BMI 칼럼 생성\n",
    "df[\"BMI\"] = df[\"weight(kg)\"] / (df[\"height(m)\"] * df[\"height(m)\"])\n",
    "\n",
    "\n",
    "\n",
    "# BMI에 따라 세분화된 분류를 수행하는 함수\n",
    "def get_category(bmi) : \n",
    "    \n",
    "    cat = ''\n",
    "    if bmi >= 25: \n",
    "        cat = \"초고도 비만\"\n",
    "        \n",
    "    elif 23 <= bmi < 25: \n",
    "        cat = \"고도 비만\"\n",
    "        \n",
    "    elif 18.5 < bmi < 23: \n",
    "        cat = \"정상\"\n",
    "        \n",
    "    elif bmi < 18.5: \n",
    "        cat = \"저체중\"\n",
    "        \n",
    "    return cat\n",
    "\n",
    "# df[\"BMI_cat\"] = df[\"BMI\"].apply(lambda x : get_category(x))\n",
    "df[\"BMI_cat\"] = df[\"BMI\"].map(get_category)\n",
    "\n",
    "display(df.head())\n",
    "\n",
    "# 초고도 비만 인원 + 저체중 인원 수\n",
    "len_a = len(df[df[\"BMI_cat\"] == \"초고도 비만\"])\n",
    "len_b = len(df[df[\"BMI_cat\"] == \"저체중\"])\n",
    "\n",
    "print(len_a + len_b)"
   ]
  },
  {
   "cell_type": "code",
   "execution_count": 33,
   "id": "fed07483",
   "metadata": {},
   "outputs": [
    {
     "name": "stdout",
     "output_type": "stream",
     "text": [
      "519\n"
     ]
    }
   ],
   "source": [
    "# 추가 문제) 정상범주, 과체중 범주 인원차이\n",
    "len_c = len(df[df[\"BMI_cat\"] == \"정상\"])\n",
    "len_d = len(df[df[\"BMI_cat\"] == \"과체중\"])\n",
    "\n",
    "print(len_c + len_d)"
   ]
  },
  {
   "attachments": {},
   "cell_type": "markdown",
   "id": "a0b5da8d",
   "metadata": {},
   "source": [
    "---"
   ]
  },
  {
   "attachments": {},
   "cell_type": "markdown",
   "id": "653caf94",
   "metadata": {},
   "source": [
    "## 3번\n",
    "순유입인원은 초중고 도내,도외 전입인원에서 초중고 도내, 도외 전출인원을 뺀값이다.   \n",
    "각 년도별로 가장 큰 순유입인원을 가진 지역구의 순유입인원을 구하고, 전체 기간의 해당 순유입인원들의 합을 구하여라\n",
    "\n",
    "- 순전입학생수=총전입학생-총전출학생 순전입학생 가장많은 학교의 전체학생수를 구하라\n",
    "- 각학년별(전입,전출)학생, 총전입학생, 총전출학생, 전체학생수 데이터 주어짐\n",
    "- 문제 복기가 뭔 소린지 ... "
   ]
  },
  {
   "cell_type": "code",
   "execution_count": 70,
   "id": "e7b70e29",
   "metadata": {},
   "outputs": [
    {
     "data": {
      "text/html": [
       "<div>\n",
       "<style scoped>\n",
       "    .dataframe tbody tr th:only-of-type {\n",
       "        vertical-align: middle;\n",
       "    }\n",
       "\n",
       "    .dataframe tbody tr th {\n",
       "        vertical-align: top;\n",
       "    }\n",
       "\n",
       "    .dataframe thead th {\n",
       "        text-align: right;\n",
       "    }\n",
       "</style>\n",
       "<table border=\"1\" class=\"dataframe\">\n",
       "  <thead>\n",
       "    <tr style=\"text-align: right;\">\n",
       "      <th></th>\n",
       "      <th>지역</th>\n",
       "      <th>초등학교_전출_도내</th>\n",
       "      <th>초등학교_전출_도외</th>\n",
       "      <th>초등학교_전입_도내</th>\n",
       "      <th>초등학교_전입_도외</th>\n",
       "      <th>중학교_전출_도내</th>\n",
       "      <th>중학교_전출_도외</th>\n",
       "      <th>중학교_전입_도내</th>\n",
       "      <th>중학교_전입_도외</th>\n",
       "      <th>고등학교_전출_도내</th>\n",
       "      <th>고등학교_전출_도외</th>\n",
       "      <th>고등학교_전입_도내</th>\n",
       "      <th>고등학교_전입_도외</th>\n",
       "      <th>년도</th>\n",
       "    </tr>\n",
       "  </thead>\n",
       "  <tbody>\n",
       "    <tr>\n",
       "      <th>0</th>\n",
       "      <td>종로구</td>\n",
       "      <td>221</td>\n",
       "      <td>132</td>\n",
       "      <td>255</td>\n",
       "      <td>126</td>\n",
       "      <td>63</td>\n",
       "      <td>71</td>\n",
       "      <td>104</td>\n",
       "      <td>73</td>\n",
       "      <td>203</td>\n",
       "      <td>72</td>\n",
       "      <td>166</td>\n",
       "      <td>75</td>\n",
       "      <td>2012</td>\n",
       "    </tr>\n",
       "    <tr>\n",
       "      <th>1</th>\n",
       "      <td>중구</td>\n",
       "      <td>295</td>\n",
       "      <td>139</td>\n",
       "      <td>203</td>\n",
       "      <td>100</td>\n",
       "      <td>66</td>\n",
       "      <td>43</td>\n",
       "      <td>58</td>\n",
       "      <td>44</td>\n",
       "      <td>156</td>\n",
       "      <td>37</td>\n",
       "      <td>104</td>\n",
       "      <td>39</td>\n",
       "      <td>2012</td>\n",
       "    </tr>\n",
       "    <tr>\n",
       "      <th>2</th>\n",
       "      <td>용산구</td>\n",
       "      <td>380</td>\n",
       "      <td>269</td>\n",
       "      <td>302</td>\n",
       "      <td>174</td>\n",
       "      <td>134</td>\n",
       "      <td>78</td>\n",
       "      <td>91</td>\n",
       "      <td>106</td>\n",
       "      <td>102</td>\n",
       "      <td>66</td>\n",
       "      <td>113</td>\n",
       "      <td>48</td>\n",
       "      <td>2012</td>\n",
       "    </tr>\n",
       "    <tr>\n",
       "      <th>3</th>\n",
       "      <td>성동구</td>\n",
       "      <td>643</td>\n",
       "      <td>344</td>\n",
       "      <td>376</td>\n",
       "      <td>221</td>\n",
       "      <td>154</td>\n",
       "      <td>103</td>\n",
       "      <td>98</td>\n",
       "      <td>82</td>\n",
       "      <td>179</td>\n",
       "      <td>37</td>\n",
       "      <td>153</td>\n",
       "      <td>41</td>\n",
       "      <td>2012</td>\n",
       "    </tr>\n",
       "    <tr>\n",
       "      <th>4</th>\n",
       "      <td>광진구</td>\n",
       "      <td>560</td>\n",
       "      <td>382</td>\n",
       "      <td>595</td>\n",
       "      <td>312</td>\n",
       "      <td>165</td>\n",
       "      <td>158</td>\n",
       "      <td>158</td>\n",
       "      <td>118</td>\n",
       "      <td>115</td>\n",
       "      <td>70</td>\n",
       "      <td>154</td>\n",
       "      <td>66</td>\n",
       "      <td>2012</td>\n",
       "    </tr>\n",
       "  </tbody>\n",
       "</table>\n",
       "</div>"
      ],
      "text/plain": [
       "    지역  초등학교_전출_도내  초등학교_전출_도외  초등학교_전입_도내  초등학교_전입_도외  중학교_전출_도내  중학교_전출_도외  \\\n",
       "0  종로구         221         132         255         126         63         71   \n",
       "1   중구         295         139         203         100         66         43   \n",
       "2  용산구         380         269         302         174        134         78   \n",
       "3  성동구         643         344         376         221        154        103   \n",
       "4  광진구         560         382         595         312        165        158   \n",
       "\n",
       "   중학교_전입_도내  중학교_전입_도외  고등학교_전출_도내  고등학교_전출_도외  고등학교_전입_도내  고등학교_전입_도외    년도  \n",
       "0        104         73         203          72         166          75  2012  \n",
       "1         58         44         156          37         104          39  2012  \n",
       "2         91        106         102          66         113          48  2012  \n",
       "3         98         82         179          37         153          41  2012  \n",
       "4        158        118         115          70         154          66  2012  "
      ]
     },
     "execution_count": 70,
     "metadata": {},
     "output_type": "execute_result"
    }
   ],
   "source": [
    "import pandas as pd\n",
    "df = pd.read_csv('https://raw.githubusercontent.com/Datamanim/datarepo/main/krdatacertificate/e5_p1_3.csv')\n",
    "df.head(5)"
   ]
  },
  {
   "attachments": {},
   "cell_type": "markdown",
   "id": "abe9c80b",
   "metadata": {},
   "source": [
    "### 1) filter 이용\n",
    "- [filter 참고](https://wikidocs.net/153179)\n",
    "\n",
    "like인수를 이용해 '특정 문자'가 포함된 열을 필터링\n",
    "```python\n",
    "df[\"전입인원\"] = df.filter(like='전입').sum(axis=1)\n",
    "```\n",
    "\n",
    "</br>\n",
    "\n",
    "### 2) List Comprehension 이용\n",
    "```python\n",
    "df['순유입인원'] = df[[x for x in df.columns if '전입' in x]].sum(axis=1) - df[[x for x in df.columns if '전출' in x ]].sum(axis=1)\n",
    "```"
   ]
  },
  {
   "cell_type": "code",
   "execution_count": 65,
   "id": "c4b16afe",
   "metadata": {},
   "outputs": [
    {
     "data": {
      "text/plain": [
       "130187"
      ]
     },
     "execution_count": 65,
     "metadata": {},
     "output_type": "execute_result"
    }
   ],
   "source": [
    "# \"전입\"이 포함된 열들의 합을 계산하여 \"전입인원\" 열에 할당\n",
    "df[\"전입인원\"] = df.filter(like='전입').sum(axis=1)\n",
    "df[\"전출인원\"] = df.filter(like='전출').sum(axis=1)\n",
    "\n",
    "df[\"순유입인원\"] = df[\"전입인원\"] - df[\"전출인원\"]\n",
    "\n",
    "# 각 년도별로 가장 큰 순유입인원을 가진 지역구의 순유입인원 구하기\n",
    "result = df.groupby(\"년도\")[\"순유입인원\"].max().sum()\n",
    "result"
   ]
  },
  {
   "cell_type": "code",
   "execution_count": 76,
   "id": "6ae42fae",
   "metadata": {},
   "outputs": [
    {
     "data": {
      "text/html": [
       "<div>\n",
       "<style scoped>\n",
       "    .dataframe tbody tr th:only-of-type {\n",
       "        vertical-align: middle;\n",
       "    }\n",
       "\n",
       "    .dataframe tbody tr th {\n",
       "        vertical-align: top;\n",
       "    }\n",
       "\n",
       "    .dataframe thead th {\n",
       "        text-align: right;\n",
       "    }\n",
       "</style>\n",
       "<table border=\"1\" class=\"dataframe\">\n",
       "  <thead>\n",
       "    <tr style=\"text-align: right;\">\n",
       "      <th></th>\n",
       "      <th>순유입인원</th>\n",
       "    </tr>\n",
       "    <tr>\n",
       "      <th>년도</th>\n",
       "      <th></th>\n",
       "    </tr>\n",
       "  </thead>\n",
       "  <tbody>\n",
       "    <tr>\n",
       "      <th>2012</th>\n",
       "      <td>949</td>\n",
       "    </tr>\n",
       "    <tr>\n",
       "      <th>2013</th>\n",
       "      <td>1339</td>\n",
       "    </tr>\n",
       "    <tr>\n",
       "      <th>2014</th>\n",
       "      <td>2225</td>\n",
       "    </tr>\n",
       "    <tr>\n",
       "      <th>2015</th>\n",
       "      <td>1498</td>\n",
       "    </tr>\n",
       "    <tr>\n",
       "      <th>2016</th>\n",
       "      <td>774</td>\n",
       "    </tr>\n",
       "    <tr>\n",
       "      <th>2017</th>\n",
       "      <td>932</td>\n",
       "    </tr>\n",
       "    <tr>\n",
       "      <th>2018</th>\n",
       "      <td>1158</td>\n",
       "    </tr>\n",
       "    <tr>\n",
       "      <th>2019</th>\n",
       "      <td>1821</td>\n",
       "    </tr>\n",
       "    <tr>\n",
       "      <th>2020</th>\n",
       "      <td>1762</td>\n",
       "    </tr>\n",
       "    <tr>\n",
       "      <th>2021</th>\n",
       "      <td>1395</td>\n",
       "    </tr>\n",
       "  </tbody>\n",
       "</table>\n",
       "</div>"
      ],
      "text/plain": [
       "      순유입인원\n",
       "년도         \n",
       "2012    949\n",
       "2013   1339\n",
       "2014   2225\n",
       "2015   1498\n",
       "2016    774\n",
       "2017    932\n",
       "2018   1158\n",
       "2019   1821\n",
       "2020   1762\n",
       "2021   1395"
      ]
     },
     "execution_count": 76,
     "metadata": {},
     "output_type": "execute_result"
    }
   ],
   "source": [
    "# 각 년도별로 가장 큰 순유입인원 찾기\n",
    "result = df.groupby(\"년도\")[\"순유입인원\"].max().to_frame()\n",
    "result"
   ]
  },
  {
   "cell_type": "code",
   "execution_count": 68,
   "id": "bbe3c82e",
   "metadata": {},
   "outputs": [
    {
     "name": "stdout",
     "output_type": "stream",
     "text": [
      "년도: 2012, 가장 큰 순유입인원을 가진 지역구: 강남구, 순유입인원: 9841\n",
      "년도: 2013, 가장 큰 순유입인원을 가진 지역구: 강남구, 순유입인원: 12685\n",
      "년도: 2014, 가장 큰 순유입인원을 가진 지역구: 강남구, 순유입인원: 19696\n",
      "년도: 2015, 가장 큰 순유입인원을 가진 지역구: 강남구, 순유입인원: 13918\n",
      "년도: 2016, 가장 큰 순유입인원을 가진 지역구: 강남구, 순유입인원: 8240\n",
      "년도: 2017, 가장 큰 순유입인원을 가진 지역구: 강동구, 순유입인원: 9484\n",
      "년도: 2018, 가장 큰 순유입인원을 가진 지역구: 강남구, 순유입인원: 10994\n",
      "년도: 2019, 가장 큰 순유입인원을 가진 지역구: 강남구, 순유입인원: 16190\n",
      "년도: 2020, 가장 큰 순유입인원을 가진 지역구: 강남구, 순유입인원: 15852\n",
      "년도: 2021, 가장 큰 순유입인원을 가진 지역구: 강남구, 순유입인원: 13287\n",
      "\n",
      "전체 기간의 순유입인원의 합: 130187\n"
     ]
    }
   ],
   "source": [
    "max_inflow = df.groupby('년도')['순유입인원'].max()\n",
    "\n",
    "# 각 년도별 최대 순유입인원을 가진 지역구의 순유입인원 출력\n",
    "for year, inflow in max_inflow.items():\n",
    "    max_inflow_district = df[(df['년도'] == year) & (df['순유입인원'] == inflow)]['지역'].values[0]\n",
    "    print(f\"년도: {year}, 가장 큰 순유입인원을 가진 지역구: {max_inflow_district}, 순유입인원: {inflow}\")\n",
    "\n",
    "# 전체 기간의 해당 순유입인원들의 합 계산\n",
    "total_inflow = df['순유입인원'].sum()\n",
    "print(f\"\\n전체 기간의 순유입인원의 합: {sum(max_inflow)}\")"
   ]
  },
  {
   "cell_type": "code",
   "execution_count": 73,
   "id": "0ecb498d",
   "metadata": {},
   "outputs": [
    {
     "name": "stdout",
     "output_type": "stream",
     "text": [
      "13853\n"
     ]
    }
   ],
   "source": [
    "# 초중고 도내, 도외 \"전입\"인원 - 초중고 도내, 도외 \"전출\"인원 \n",
    "df['순유입인원'] = df[[x for x in df.columns if '전입' in x]].sum(axis=1) - df[[x for x in df.columns if '전출' in x ]].sum(axis=1)\n",
    "\n",
    "# 년도별, 가장 큰 순유입인원을 가진 지역구의 순유입인원 구하고, 전체 기간의 해당 순유입인원 합 구하기\n",
    "result = df.groupby('년도')['순유입인원'].max().sum()\n",
    "\n",
    "print(result) # 13853"
   ]
  },
  {
   "attachments": {},
   "cell_type": "markdown",
   "id": "e76e3b5b",
   "metadata": {},
   "source": [
    "---"
   ]
  },
  {
   "attachments": {},
   "cell_type": "markdown",
   "id": "e940b9b0",
   "metadata": {},
   "source": [
    "- 캐글은 기출 5회 작업형1 문제들 복기 안된 것으로 보임"
   ]
  }
 ],
 "metadata": {
  "kernelspec": {
   "display_name": "Python 3 (ipykernel)",
   "language": "python",
   "name": "python3"
  },
  "language_info": {
   "codemirror_mode": {
    "name": "ipython",
    "version": 3
   },
   "file_extension": ".py",
   "mimetype": "text/x-python",
   "name": "python",
   "nbconvert_exporter": "python",
   "pygments_lexer": "ipython3",
   "version": "3.10.11"
  }
 },
 "nbformat": 4,
 "nbformat_minor": 5
}
